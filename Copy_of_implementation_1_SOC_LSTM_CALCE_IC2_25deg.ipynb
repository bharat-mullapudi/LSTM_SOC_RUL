{
  "nbformat": 4,
  "nbformat_minor": 0,
  "metadata": {
    "colab": {
      "name": "Copy of implementation_1_SOC_LSTM_CALCE_IC2_25deg.ipynb",
      "provenance": [],
      "collapsed_sections": [],
      "mount_file_id": "1i7AAoUvs8slVYi7ARI5TC-oPVQIVDEbH",
      "authorship_tag": "ABX9TyPaw4YuZuhQvR/Tw7HeDUjB",
      "include_colab_link": true
    },
    "kernelspec": {
      "name": "python3",
      "display_name": "Python 3"
    },
    "language_info": {
      "name": "python"
    }
  },
  "cells": [
    {
      "cell_type": "markdown",
      "metadata": {
        "id": "view-in-github",
        "colab_type": "text"
      },
      "source": [
        "<a href=\"https://colab.research.google.com/github/bharat-mullapudi/LSTM_SOC_RUL/blob/main/Copy_of_implementation_1_SOC_LSTM_CALCE_IC2_25deg.ipynb\" target=\"_parent\"><img src=\"https://colab.research.google.com/assets/colab-badge.svg\" alt=\"Open In Colab\"/></a>"
      ]
    },
    {
      "cell_type": "code",
      "metadata": {
        "colab": {
          "base_uri": "https://localhost:8080/"
        },
        "id": "V5wlvJX-tvun",
        "outputId": "17539b0f-67bc-4096-fe15-9b0c63aa401f"
      },
      "source": [
        "from google.colab import drive\n",
        "drive.mount('/content/drive/')"
      ],
      "execution_count": 2,
      "outputs": [
        {
          "output_type": "stream",
          "name": "stdout",
          "text": [
            "Mounted at /content/drive/\n"
          ]
        }
      ]
    },
    {
      "cell_type": "code",
      "metadata": {
        "id": "tI6EDld8uL52"
      },
      "source": [
        "import numpy as np\n",
        "import pandas as pd\n",
        "import matplotlib.pyplot as plt\n",
        "from google.colab import files\n",
        "import seaborn as sns\n"
      ],
      "execution_count": 3,
      "outputs": []
    },
    {
      "cell_type": "code",
      "metadata": {
        "id": "Ju4NGqAquQk9"
      },
      "source": [
        "df = pd.read_excel('/content/drive/MyDrive/LSTM_SOC_Implementation/calce_incremental_INR_18650-20R/Incremental_temp_25.xlsx')"
      ],
      "execution_count": 4,
      "outputs": []
    },
    {
      "cell_type": "code",
      "metadata": {
        "colab": {
          "base_uri": "https://localhost:8080/",
          "height": 424
        },
        "id": "vKmhVn9DO0Mo",
        "outputId": "19896002-354f-49e9-feaa-1bda7c40a53e"
      },
      "source": [
        "df"
      ],
      "execution_count": 5,
      "outputs": [
        {
          "output_type": "execute_result",
          "data": {
            "text/html": [
              "<div>\n",
              "<style scoped>\n",
              "    .dataframe tbody tr th:only-of-type {\n",
              "        vertical-align: middle;\n",
              "    }\n",
              "\n",
              "    .dataframe tbody tr th {\n",
              "        vertical-align: top;\n",
              "    }\n",
              "\n",
              "    .dataframe thead th {\n",
              "        text-align: right;\n",
              "    }\n",
              "</style>\n",
              "<table border=\"1\" class=\"dataframe\">\n",
              "  <thead>\n",
              "    <tr style=\"text-align: right;\">\n",
              "      <th></th>\n",
              "      <th>Test_Time(s)</th>\n",
              "      <th>Cycle_Index</th>\n",
              "      <th>Current(A)</th>\n",
              "      <th>Voltage(V)</th>\n",
              "      <th>Charge_Capacity(Ah)</th>\n",
              "      <th>Discharge_Capacity(Ah)</th>\n",
              "      <th>TimeDelta</th>\n",
              "      <th>SOC</th>\n",
              "    </tr>\n",
              "  </thead>\n",
              "  <tbody>\n",
              "    <tr>\n",
              "      <th>0</th>\n",
              "      <td>10.000167</td>\n",
              "      <td>1.0</td>\n",
              "      <td>0.0</td>\n",
              "      <td>4.166209</td>\n",
              "      <td>0.0</td>\n",
              "      <td>0.0</td>\n",
              "      <td>1</td>\n",
              "      <td>0.97</td>\n",
              "    </tr>\n",
              "    <tr>\n",
              "      <th>1</th>\n",
              "      <td>20.015713</td>\n",
              "      <td>1.0</td>\n",
              "      <td>0.0</td>\n",
              "      <td>4.166047</td>\n",
              "      <td>0.0</td>\n",
              "      <td>0.0</td>\n",
              "      <td>10.0155</td>\n",
              "      <td>0.980028</td>\n",
              "    </tr>\n",
              "    <tr>\n",
              "      <th>2</th>\n",
              "      <td>30.031239</td>\n",
              "      <td>1.0</td>\n",
              "      <td>0.0</td>\n",
              "      <td>4.166047</td>\n",
              "      <td>0.0</td>\n",
              "      <td>0.0</td>\n",
              "      <td>10.0155</td>\n",
              "      <td>0.980028</td>\n",
              "    </tr>\n",
              "    <tr>\n",
              "      <th>3</th>\n",
              "      <td>40.046793</td>\n",
              "      <td>1.0</td>\n",
              "      <td>0.0</td>\n",
              "      <td>4.166209</td>\n",
              "      <td>0.0</td>\n",
              "      <td>0.0</td>\n",
              "      <td>10.0156</td>\n",
              "      <td>0.980123</td>\n",
              "    </tr>\n",
              "    <tr>\n",
              "      <th>4</th>\n",
              "      <td>50.062341</td>\n",
              "      <td>1.0</td>\n",
              "      <td>0.0</td>\n",
              "      <td>4.166047</td>\n",
              "      <td>0.0</td>\n",
              "      <td>0.0</td>\n",
              "      <td>10.0155</td>\n",
              "      <td>0.980028</td>\n",
              "    </tr>\n",
              "    <tr>\n",
              "      <th>...</th>\n",
              "      <td>...</td>\n",
              "      <td>...</td>\n",
              "      <td>...</td>\n",
              "      <td>...</td>\n",
              "      <td>...</td>\n",
              "      <td>...</td>\n",
              "      <td>...</td>\n",
              "      <td>...</td>\n",
              "    </tr>\n",
              "    <tr>\n",
              "      <th>1048570</th>\n",
              "      <td>NaN</td>\n",
              "      <td>NaN</td>\n",
              "      <td>NaN</td>\n",
              "      <td>NaN</td>\n",
              "      <td>NaN</td>\n",
              "      <td>NaN</td>\n",
              "      <td></td>\n",
              "      <td></td>\n",
              "    </tr>\n",
              "    <tr>\n",
              "      <th>1048571</th>\n",
              "      <td>NaN</td>\n",
              "      <td>NaN</td>\n",
              "      <td>NaN</td>\n",
              "      <td>NaN</td>\n",
              "      <td>NaN</td>\n",
              "      <td>NaN</td>\n",
              "      <td></td>\n",
              "      <td></td>\n",
              "    </tr>\n",
              "    <tr>\n",
              "      <th>1048572</th>\n",
              "      <td>NaN</td>\n",
              "      <td>NaN</td>\n",
              "      <td>NaN</td>\n",
              "      <td>NaN</td>\n",
              "      <td>NaN</td>\n",
              "      <td>NaN</td>\n",
              "      <td></td>\n",
              "      <td></td>\n",
              "    </tr>\n",
              "    <tr>\n",
              "      <th>1048573</th>\n",
              "      <td>NaN</td>\n",
              "      <td>NaN</td>\n",
              "      <td>NaN</td>\n",
              "      <td>NaN</td>\n",
              "      <td>NaN</td>\n",
              "      <td>NaN</td>\n",
              "      <td></td>\n",
              "      <td></td>\n",
              "    </tr>\n",
              "    <tr>\n",
              "      <th>1048574</th>\n",
              "      <td>NaN</td>\n",
              "      <td>NaN</td>\n",
              "      <td>NaN</td>\n",
              "      <td>NaN</td>\n",
              "      <td>NaN</td>\n",
              "      <td>NaN</td>\n",
              "      <td></td>\n",
              "      <td></td>\n",
              "    </tr>\n",
              "  </tbody>\n",
              "</table>\n",
              "<p>1048575 rows × 8 columns</p>\n",
              "</div>"
            ],
            "text/plain": [
              "         Test_Time(s)  Cycle_Index  ...  TimeDelta       SOC\n",
              "0           10.000167          1.0  ...          1      0.97\n",
              "1           20.015713          1.0  ...    10.0155  0.980028\n",
              "2           30.031239          1.0  ...    10.0155  0.980028\n",
              "3           40.046793          1.0  ...    10.0156  0.980123\n",
              "4           50.062341          1.0  ...    10.0155  0.980028\n",
              "...               ...          ...  ...        ...       ...\n",
              "1048570           NaN          NaN  ...                     \n",
              "1048571           NaN          NaN  ...                     \n",
              "1048572           NaN          NaN  ...                     \n",
              "1048573           NaN          NaN  ...                     \n",
              "1048574           NaN          NaN  ...                     \n",
              "\n",
              "[1048575 rows x 8 columns]"
            ]
          },
          "metadata": {},
          "execution_count": 5
        }
      ]
    },
    {
      "cell_type": "code",
      "metadata": {
        "id": "zXneLTAPvFFs"
      },
      "source": [
        "df=df.dropna()"
      ],
      "execution_count": 6,
      "outputs": []
    },
    {
      "cell_type": "code",
      "metadata": {
        "id": "vaZMCdn-xvYC"
      },
      "source": [
        "#not for all\n",
        "\n",
        "ws1 = pd.read_excel('/content/drive/MyDrive/LSTM_SOC_Implementation/12_2_2015_Incremental_OCV_test_SP20-1.xlsx', sheet_name = 1)\n",
        "ws2 = pd.read_excel('/content/drive/MyDrive/LSTM_SOC_Implementation/12_2_2015_Incremental_OCV_test_SP20-1.xlsx', sheet_name = 2)\n",
        "ws3 = pd.read_excel('/content/drive/MyDrive/LSTM_SOC_Implementation/12_2_2015_Incremental_OCV_test_SP20-1.xlsx', sheet_name = 3)\n"
      ],
      "execution_count": null,
      "outputs": []
    },
    {
      "cell_type": "code",
      "metadata": {
        "id": "0Z210Ew40tRK",
        "colab": {
          "base_uri": "https://localhost:8080/"
        },
        "outputId": "bcf44841-1fa0-4c66-c59f-93a693d2ba18"
      },
      "source": [
        "combined_data=ws1.append(ws2,ignore_index=True).append(ws3,ignore_index=True)\n",
        "combined_data.shape"
      ],
      "execution_count": null,
      "outputs": [
        {
          "output_type": "execute_result",
          "data": {
            "text/plain": [
              "(142121, 19)"
            ]
          },
          "metadata": {},
          "execution_count": 7
        }
      ]
    },
    {
      "cell_type": "code",
      "metadata": {
        "id": "CrVQ2ETgCrim"
      },
      "source": [
        "combined_data=df"
      ],
      "execution_count": 7,
      "outputs": []
    },
    {
      "cell_type": "code",
      "metadata": {
        "id": "HAjkmkUaqh0E"
      },
      "source": [
        "combined_data.to_csv('Incremental_Init_25.csv')\n",
        "combined_data=pd.read_csv('Incremental_Init_25.csv')"
      ],
      "execution_count": 8,
      "outputs": []
    },
    {
      "cell_type": "code",
      "metadata": {
        "colab": {
          "base_uri": "https://localhost:8080/",
          "height": 300
        },
        "id": "oLqTe4j6GuNp",
        "outputId": "9c2979a5-e5de-437d-d5b3-edce73ebaa2d"
      },
      "source": [
        "combined_data.describe()"
      ],
      "execution_count": 9,
      "outputs": [
        {
          "output_type": "execute_result",
          "data": {
            "text/html": [
              "<div>\n",
              "<style scoped>\n",
              "    .dataframe tbody tr th:only-of-type {\n",
              "        vertical-align: middle;\n",
              "    }\n",
              "\n",
              "    .dataframe tbody tr th {\n",
              "        vertical-align: top;\n",
              "    }\n",
              "\n",
              "    .dataframe thead th {\n",
              "        text-align: right;\n",
              "    }\n",
              "</style>\n",
              "<table border=\"1\" class=\"dataframe\">\n",
              "  <thead>\n",
              "    <tr style=\"text-align: right;\">\n",
              "      <th></th>\n",
              "      <th>Unnamed: 0</th>\n",
              "      <th>Test_Time(s)</th>\n",
              "      <th>Cycle_Index</th>\n",
              "      <th>Current(A)</th>\n",
              "      <th>Voltage(V)</th>\n",
              "      <th>Charge_Capacity(Ah)</th>\n",
              "      <th>Discharge_Capacity(Ah)</th>\n",
              "      <th>TimeDelta</th>\n",
              "      <th>SOC</th>\n",
              "    </tr>\n",
              "  </thead>\n",
              "  <tbody>\n",
              "    <tr>\n",
              "      <th>count</th>\n",
              "      <td>142119.000000</td>\n",
              "      <td>142119.000000</td>\n",
              "      <td>142119.000000</td>\n",
              "      <td>142119.000000</td>\n",
              "      <td>142119.000000</td>\n",
              "      <td>142119.000000</td>\n",
              "      <td>142119.000000</td>\n",
              "      <td>142119.000000</td>\n",
              "      <td>142119.000000</td>\n",
              "    </tr>\n",
              "    <tr>\n",
              "      <th>mean</th>\n",
              "      <td>71059.000000</td>\n",
              "      <td>78705.582922</td>\n",
              "      <td>9.029032</td>\n",
              "      <td>-0.007765</td>\n",
              "      <td>3.684208</td>\n",
              "      <td>0.412327</td>\n",
              "      <td>1.481353</td>\n",
              "      <td>1.058963</td>\n",
              "      <td>0.691114</td>\n",
              "    </tr>\n",
              "    <tr>\n",
              "      <th>std</th>\n",
              "      <td>41026.365791</td>\n",
              "      <td>41479.490967</td>\n",
              "      <td>4.802561</td>\n",
              "      <td>0.303031</td>\n",
              "      <td>0.207378</td>\n",
              "      <td>0.539736</td>\n",
              "      <td>0.625663</td>\n",
              "      <td>0.660660</td>\n",
              "      <td>0.118811</td>\n",
              "    </tr>\n",
              "    <tr>\n",
              "      <th>min</th>\n",
              "      <td>0.000000</td>\n",
              "      <td>10.000167</td>\n",
              "      <td>1.000000</td>\n",
              "      <td>-1.000233</td>\n",
              "      <td>2.499903</td>\n",
              "      <td>0.000000</td>\n",
              "      <td>0.000000</td>\n",
              "      <td>0.000000</td>\n",
              "      <td>0.000000</td>\n",
              "    </tr>\n",
              "    <tr>\n",
              "      <th>25%</th>\n",
              "      <td>35529.500000</td>\n",
              "      <td>42831.169001</td>\n",
              "      <td>5.000000</td>\n",
              "      <td>0.000000</td>\n",
              "      <td>3.577119</td>\n",
              "      <td>0.016146</td>\n",
              "      <td>0.999809</td>\n",
              "      <td>1.000083</td>\n",
              "      <td>0.633504</td>\n",
              "    </tr>\n",
              "    <tr>\n",
              "      <th>50%</th>\n",
              "      <td>71059.000000</td>\n",
              "      <td>78728.254274</td>\n",
              "      <td>9.000000</td>\n",
              "      <td>0.000000</td>\n",
              "      <td>3.661715</td>\n",
              "      <td>0.016146</td>\n",
              "      <td>1.799699</td>\n",
              "      <td>1.015559</td>\n",
              "      <td>0.672399</td>\n",
              "    </tr>\n",
              "    <tr>\n",
              "      <th>75%</th>\n",
              "      <td>106588.500000</td>\n",
              "      <td>114616.556029</td>\n",
              "      <td>13.000000</td>\n",
              "      <td>0.000000</td>\n",
              "      <td>3.839495</td>\n",
              "      <td>0.815788</td>\n",
              "      <td>1.987336</td>\n",
              "      <td>1.015613</td>\n",
              "      <td>0.787366</td>\n",
              "    </tr>\n",
              "    <tr>\n",
              "      <th>max</th>\n",
              "      <td>142118.000000</td>\n",
              "      <td>150507.800260</td>\n",
              "      <td>18.000000</td>\n",
              "      <td>0.999904</td>\n",
              "      <td>4.375753</td>\n",
              "      <td>1.692307</td>\n",
              "      <td>1.987336</td>\n",
              "      <td>10.017162</td>\n",
              "      <td>0.988512</td>\n",
              "    </tr>\n",
              "  </tbody>\n",
              "</table>\n",
              "</div>"
            ],
            "text/plain": [
              "          Unnamed: 0   Test_Time(s)  ...      TimeDelta            SOC\n",
              "count  142119.000000  142119.000000  ...  142119.000000  142119.000000\n",
              "mean    71059.000000   78705.582922  ...       1.058963       0.691114\n",
              "std     41026.365791   41479.490967  ...       0.660660       0.118811\n",
              "min         0.000000      10.000167  ...       0.000000       0.000000\n",
              "25%     35529.500000   42831.169001  ...       1.000083       0.633504\n",
              "50%     71059.000000   78728.254274  ...       1.015559       0.672399\n",
              "75%    106588.500000  114616.556029  ...       1.015613       0.787366\n",
              "max    142118.000000  150507.800260  ...      10.017162       0.988512\n",
              "\n",
              "[8 rows x 9 columns]"
            ]
          },
          "metadata": {},
          "execution_count": 9
        }
      ]
    },
    {
      "cell_type": "code",
      "metadata": {
        "colab": {
          "base_uri": "https://localhost:8080/",
          "height": 17
        },
        "id": "hpknBqegD2f3",
        "outputId": "1ea1dcb7-823c-406b-97b5-7da18970ffe1"
      },
      "source": [
        "combined_data.to_csv('merged0.csv')"
      ],
      "execution_count": null,
      "outputs": [
        {
          "output_type": "display_data",
          "data": {
            "application/javascript": [
              "\n",
              "    async function download(id, filename, size) {\n",
              "      if (!google.colab.kernel.accessAllowed) {\n",
              "        return;\n",
              "      }\n",
              "      const div = document.createElement('div');\n",
              "      const label = document.createElement('label');\n",
              "      label.textContent = `Downloading \"${filename}\": `;\n",
              "      div.appendChild(label);\n",
              "      const progress = document.createElement('progress');\n",
              "      progress.max = size;\n",
              "      div.appendChild(progress);\n",
              "      document.body.appendChild(div);\n",
              "\n",
              "      const buffers = [];\n",
              "      let downloaded = 0;\n",
              "\n",
              "      const channel = await google.colab.kernel.comms.open(id);\n",
              "      // Send a message to notify the kernel that we're ready.\n",
              "      channel.send({})\n",
              "\n",
              "      for await (const message of channel.messages) {\n",
              "        // Send a message to notify the kernel that we're ready.\n",
              "        channel.send({})\n",
              "        if (message.buffers) {\n",
              "          for (const buffer of message.buffers) {\n",
              "            buffers.push(buffer);\n",
              "            downloaded += buffer.byteLength;\n",
              "            progress.value = downloaded;\n",
              "          }\n",
              "        }\n",
              "      }\n",
              "      const blob = new Blob(buffers, {type: 'application/binary'});\n",
              "      const a = document.createElement('a');\n",
              "      a.href = window.URL.createObjectURL(blob);\n",
              "      a.download = filename;\n",
              "      div.appendChild(a);\n",
              "      a.click();\n",
              "      div.remove();\n",
              "    }\n",
              "  "
            ],
            "text/plain": [
              "<IPython.core.display.Javascript object>"
            ]
          },
          "metadata": {}
        },
        {
          "output_type": "display_data",
          "data": {
            "application/javascript": [
              "download(\"download_a701667c-fe3d-492a-b267-be1aea77901e\", \"merged0.csv\", 29806207)"
            ],
            "text/plain": [
              "<IPython.core.display.Javascript object>"
            ]
          },
          "metadata": {}
        }
      ]
    },
    {
      "cell_type": "code",
      "metadata": {
        "id": "TXN7irT9lVh_"
      },
      "source": [
        "files.download('merged0.csv')"
      ],
      "execution_count": null,
      "outputs": []
    },
    {
      "cell_type": "code",
      "metadata": {
        "id": "2nMfX0Z056Fe"
      },
      "source": [
        "###\n",
        "combined_data=combined_data.drop_duplicates(subset=['Data_Point'])\n",
        "combined_data.set_index('Data_Point',inplace=True)\n",
        "#cd2=combined_data.drop(63990)\n",
        "#cdcombined_data.drop(127979)\n",
        "\n",
        "#cd2=combined_data;"
      ],
      "execution_count": null,
      "outputs": []
    },
    {
      "cell_type": "code",
      "metadata": {
        "colab": {
          "base_uri": "https://localhost:8080/",
          "height": 424
        },
        "id": "lYfOvKWBml25",
        "outputId": "8fa1e9ec-7179-499e-ffb0-4c6aefdf9108"
      },
      "source": [
        "combined_data=combined_data.iloc[:,1:] #drop first column\n",
        "combined_data.shape\n",
        "combined_data"
      ],
      "execution_count": 10,
      "outputs": [
        {
          "output_type": "execute_result",
          "data": {
            "text/html": [
              "<div>\n",
              "<style scoped>\n",
              "    .dataframe tbody tr th:only-of-type {\n",
              "        vertical-align: middle;\n",
              "    }\n",
              "\n",
              "    .dataframe tbody tr th {\n",
              "        vertical-align: top;\n",
              "    }\n",
              "\n",
              "    .dataframe thead th {\n",
              "        text-align: right;\n",
              "    }\n",
              "</style>\n",
              "<table border=\"1\" class=\"dataframe\">\n",
              "  <thead>\n",
              "    <tr style=\"text-align: right;\">\n",
              "      <th></th>\n",
              "      <th>Test_Time(s)</th>\n",
              "      <th>Cycle_Index</th>\n",
              "      <th>Current(A)</th>\n",
              "      <th>Voltage(V)</th>\n",
              "      <th>Charge_Capacity(Ah)</th>\n",
              "      <th>Discharge_Capacity(Ah)</th>\n",
              "      <th>TimeDelta</th>\n",
              "      <th>SOC</th>\n",
              "    </tr>\n",
              "  </thead>\n",
              "  <tbody>\n",
              "    <tr>\n",
              "      <th>0</th>\n",
              "      <td>10.000167</td>\n",
              "      <td>1.0</td>\n",
              "      <td>0.000000</td>\n",
              "      <td>4.166209</td>\n",
              "      <td>0.000000</td>\n",
              "      <td>0.000000</td>\n",
              "      <td>1.000000</td>\n",
              "      <td>0.970000</td>\n",
              "    </tr>\n",
              "    <tr>\n",
              "      <th>1</th>\n",
              "      <td>20.015713</td>\n",
              "      <td>1.0</td>\n",
              "      <td>0.000000</td>\n",
              "      <td>4.166047</td>\n",
              "      <td>0.000000</td>\n",
              "      <td>0.000000</td>\n",
              "      <td>10.015546</td>\n",
              "      <td>0.980028</td>\n",
              "    </tr>\n",
              "    <tr>\n",
              "      <th>2</th>\n",
              "      <td>30.031239</td>\n",
              "      <td>1.0</td>\n",
              "      <td>0.000000</td>\n",
              "      <td>4.166047</td>\n",
              "      <td>0.000000</td>\n",
              "      <td>0.000000</td>\n",
              "      <td>10.015526</td>\n",
              "      <td>0.980028</td>\n",
              "    </tr>\n",
              "    <tr>\n",
              "      <th>3</th>\n",
              "      <td>40.046793</td>\n",
              "      <td>1.0</td>\n",
              "      <td>0.000000</td>\n",
              "      <td>4.166209</td>\n",
              "      <td>0.000000</td>\n",
              "      <td>0.000000</td>\n",
              "      <td>10.015553</td>\n",
              "      <td>0.980123</td>\n",
              "    </tr>\n",
              "    <tr>\n",
              "      <th>4</th>\n",
              "      <td>50.062341</td>\n",
              "      <td>1.0</td>\n",
              "      <td>0.000000</td>\n",
              "      <td>4.166047</td>\n",
              "      <td>0.000000</td>\n",
              "      <td>0.000000</td>\n",
              "      <td>10.015548</td>\n",
              "      <td>0.980028</td>\n",
              "    </tr>\n",
              "    <tr>\n",
              "      <th>...</th>\n",
              "      <td>...</td>\n",
              "      <td>...</td>\n",
              "      <td>...</td>\n",
              "      <td>...</td>\n",
              "      <td>...</td>\n",
              "      <td>...</td>\n",
              "      <td>...</td>\n",
              "      <td>...</td>\n",
              "    </tr>\n",
              "    <tr>\n",
              "      <th>142114</th>\n",
              "      <td>150503.768645</td>\n",
              "      <td>18.0</td>\n",
              "      <td>0.999544</td>\n",
              "      <td>4.249022</td>\n",
              "      <td>1.691192</td>\n",
              "      <td>1.987336</td>\n",
              "      <td>1.015622</td>\n",
              "      <td>0.889110</td>\n",
              "    </tr>\n",
              "    <tr>\n",
              "      <th>142115</th>\n",
              "      <td>150504.768729</td>\n",
              "      <td>18.0</td>\n",
              "      <td>0.999364</td>\n",
              "      <td>4.249184</td>\n",
              "      <td>1.691470</td>\n",
              "      <td>1.987336</td>\n",
              "      <td>1.000084</td>\n",
              "      <td>0.889249</td>\n",
              "    </tr>\n",
              "    <tr>\n",
              "      <th>142116</th>\n",
              "      <td>150505.784258</td>\n",
              "      <td>18.0</td>\n",
              "      <td>0.999544</td>\n",
              "      <td>4.249508</td>\n",
              "      <td>1.691752</td>\n",
              "      <td>1.987336</td>\n",
              "      <td>1.015528</td>\n",
              "      <td>0.889390</td>\n",
              "    </tr>\n",
              "    <tr>\n",
              "      <th>142117</th>\n",
              "      <td>150506.784411</td>\n",
              "      <td>18.0</td>\n",
              "      <td>0.999544</td>\n",
              "      <td>4.249671</td>\n",
              "      <td>1.692029</td>\n",
              "      <td>1.987336</td>\n",
              "      <td>1.000153</td>\n",
              "      <td>0.889528</td>\n",
              "    </tr>\n",
              "    <tr>\n",
              "      <th>142118</th>\n",
              "      <td>150507.800260</td>\n",
              "      <td>18.0</td>\n",
              "      <td>0.999544</td>\n",
              "      <td>4.249832</td>\n",
              "      <td>1.692307</td>\n",
              "      <td>1.987336</td>\n",
              "      <td>1.015849</td>\n",
              "      <td>0.889669</td>\n",
              "    </tr>\n",
              "  </tbody>\n",
              "</table>\n",
              "<p>142119 rows × 8 columns</p>\n",
              "</div>"
            ],
            "text/plain": [
              "         Test_Time(s)  Cycle_Index  ...  TimeDelta       SOC\n",
              "0           10.000167          1.0  ...   1.000000  0.970000\n",
              "1           20.015713          1.0  ...  10.015546  0.980028\n",
              "2           30.031239          1.0  ...  10.015526  0.980028\n",
              "3           40.046793          1.0  ...  10.015553  0.980123\n",
              "4           50.062341          1.0  ...  10.015548  0.980028\n",
              "...               ...          ...  ...        ...       ...\n",
              "142114  150503.768645         18.0  ...   1.015622  0.889110\n",
              "142115  150504.768729         18.0  ...   1.000084  0.889249\n",
              "142116  150505.784258         18.0  ...   1.015528  0.889390\n",
              "142117  150506.784411         18.0  ...   1.000153  0.889528\n",
              "142118  150507.800260         18.0  ...   1.015849  0.889669\n",
              "\n",
              "[142119 rows x 8 columns]"
            ]
          },
          "metadata": {},
          "execution_count": 10
        }
      ]
    },
    {
      "cell_type": "code",
      "metadata": {
        "colab": {
          "base_uri": "https://localhost:8080/",
          "height": 17
        },
        "id": "65WCm6OYoFsX",
        "outputId": "62ec2cc8-7b84-47a0-d723-8a22989705bf"
      },
      "source": [
        "combined_data.to_csv('cd.csv')\n",
        "files.download('cd.csv')"
      ],
      "execution_count": null,
      "outputs": [
        {
          "output_type": "display_data",
          "data": {
            "application/javascript": [
              "\n",
              "    async function download(id, filename, size) {\n",
              "      if (!google.colab.kernel.accessAllowed) {\n",
              "        return;\n",
              "      }\n",
              "      const div = document.createElement('div');\n",
              "      const label = document.createElement('label');\n",
              "      label.textContent = `Downloading \"${filename}\": `;\n",
              "      div.appendChild(label);\n",
              "      const progress = document.createElement('progress');\n",
              "      progress.max = size;\n",
              "      div.appendChild(progress);\n",
              "      document.body.appendChild(div);\n",
              "\n",
              "      const buffers = [];\n",
              "      let downloaded = 0;\n",
              "\n",
              "      const channel = await google.colab.kernel.comms.open(id);\n",
              "      // Send a message to notify the kernel that we're ready.\n",
              "      channel.send({})\n",
              "\n",
              "      for await (const message of channel.messages) {\n",
              "        // Send a message to notify the kernel that we're ready.\n",
              "        channel.send({})\n",
              "        if (message.buffers) {\n",
              "          for (const buffer of message.buffers) {\n",
              "            buffers.push(buffer);\n",
              "            downloaded += buffer.byteLength;\n",
              "            progress.value = downloaded;\n",
              "          }\n",
              "        }\n",
              "      }\n",
              "      const blob = new Blob(buffers, {type: 'application/binary'});\n",
              "      const a = document.createElement('a');\n",
              "      a.href = window.URL.createObjectURL(blob);\n",
              "      a.download = filename;\n",
              "      div.appendChild(a);\n",
              "      a.click();\n",
              "      div.remove();\n",
              "    }\n",
              "  "
            ],
            "text/plain": [
              "<IPython.core.display.Javascript object>"
            ]
          },
          "metadata": {}
        },
        {
          "output_type": "display_data",
          "data": {
            "application/javascript": [
              "download(\"download_67561a17-8732-4ee9-8805-347b2745beb9\", \"cd.csv\", 27699379)"
            ],
            "text/plain": [
              "<IPython.core.display.Javascript object>"
            ]
          },
          "metadata": {}
        }
      ]
    },
    {
      "cell_type": "code",
      "metadata": {
        "id": "j8lLUYPgoehA"
      },
      "source": [
        "display(combined_data.loc[63990])\n"
      ],
      "execution_count": null,
      "outputs": []
    },
    {
      "cell_type": "code",
      "metadata": {
        "id": "D1gdmPPRs-kJ"
      },
      "source": [
        "combined_data.hist()\n",
        "plt.figure(figsize=(20,20))\n",
        "plt.show()"
      ],
      "execution_count": null,
      "outputs": []
    },
    {
      "cell_type": "code",
      "metadata": {
        "colab": {
          "base_uri": "https://localhost:8080/",
          "height": 1000
        },
        "id": "_0OIEihXABYQ",
        "outputId": "a54d54e9-28b9-4276-9aad-d2c3f9812858"
      },
      "source": [
        "  fig = plt.figure(figsize = (15,15))\n",
        "  ax = fig.gca()\n",
        "  combined_data.hist(ax = ax)"
      ],
      "execution_count": 11,
      "outputs": [
        {
          "output_type": "stream",
          "name": "stderr",
          "text": [
            "/usr/local/lib/python3.7/dist-packages/ipykernel_launcher.py:3: UserWarning: To output multiple subplots, the figure containing the passed axes is being cleared\n",
            "  This is separate from the ipykernel package so we can avoid doing imports until\n"
          ]
        },
        {
          "output_type": "execute_result",
          "data": {
            "text/plain": [
              "array([[<matplotlib.axes._subplots.AxesSubplot object at 0x7fa02c3fd750>,\n",
              "        <matplotlib.axes._subplots.AxesSubplot object at 0x7fa03e4b0810>,\n",
              "        <matplotlib.axes._subplots.AxesSubplot object at 0x7fa03e760e10>],\n",
              "       [<matplotlib.axes._subplots.AxesSubplot object at 0x7fa03ecbb690>,\n",
              "        <matplotlib.axes._subplots.AxesSubplot object at 0x7fa03f022c90>,\n",
              "        <matplotlib.axes._subplots.AxesSubplot object at 0x7fa03f4a32d0>],\n",
              "       [<matplotlib.axes._subplots.AxesSubplot object at 0x7fa03f7bc950>,\n",
              "        <matplotlib.axes._subplots.AxesSubplot object at 0x7fa03f999e90>,\n",
              "        <matplotlib.axes._subplots.AxesSubplot object at 0x7fa03f999ed0>]],\n",
              "      dtype=object)"
            ]
          },
          "metadata": {},
          "execution_count": 11
        },
        {
          "output_type": "display_data",
          "data": {
            "image/png": "[encoded data removed]",
            "text/plain": [
              "<Figure size 1080x1080 with 9 Axes>"
            ]
          },
          "metadata": {
            "needs_background": "light"
          }
        }
      ]
    },
    {
      "cell_type": "code",
      "metadata": {
        "colab": {
          "base_uri": "https://localhost:8080/",
          "height": 597
        },
        "id": "AG_E_pvAvEvy",
        "outputId": "e645e7c0-9008-4539-93f9-34e715347fff"
      },
      "source": [
        "correlations = combined_data.corr()\n",
        "plt.figure(figsize=(8,8))\n",
        "sns.heatmap(correlations, cmap='RdBu_r')\n",
        "plt.show()"
      ],
      "execution_count": 12,
      "outputs": [
        {
          "output_type": "display_data",
          "data": {
            "image/png": "[encoded data removed]",
            "text/plain": [
              "<Figure size 576x576 with 2 Axes>"
            ]
          },
          "metadata": {
            "needs_background": "light"
          }
        }
      ]
    },
    {
      "cell_type": "code",
      "metadata": {
        "colab": {
          "base_uri": "https://localhost:8080/",
          "height": 300
        },
        "id": "IbtPgY8nDvbp",
        "outputId": "4d14a512-693a-48f0-eff7-2fb7878574c5"
      },
      "source": [
        "combined_data.describe()"
      ],
      "execution_count": null,
      "outputs": [
        {
          "output_type": "execute_result",
          "data": {
            "text/html": [
              "<div>\n",
              "<style scoped>\n",
              "    .dataframe tbody tr th:only-of-type {\n",
              "        vertical-align: middle;\n",
              "    }\n",
              "\n",
              "    .dataframe tbody tr th {\n",
              "        vertical-align: top;\n",
              "    }\n",
              "\n",
              "    .dataframe thead th {\n",
              "        text-align: right;\n",
              "    }\n",
              "</style>\n",
              "<table border=\"1\" class=\"dataframe\">\n",
              "  <thead>\n",
              "    <tr style=\"text-align: right;\">\n",
              "      <th></th>\n",
              "      <th>Test_Time(s)</th>\n",
              "      <th>Cycle_Index</th>\n",
              "      <th>Current(A)</th>\n",
              "      <th>Voltage(V)</th>\n",
              "      <th>Charge_Capacity(Ah)</th>\n",
              "      <th>Discharge_Capacity(Ah)</th>\n",
              "      <th>TimeDelta</th>\n",
              "      <th>SOC</th>\n",
              "    </tr>\n",
              "  </thead>\n",
              "  <tbody>\n",
              "    <tr>\n",
              "      <th>count</th>\n",
              "      <td>27602.000000</td>\n",
              "      <td>27602.0</td>\n",
              "      <td>27602.000000</td>\n",
              "      <td>27602.000000</td>\n",
              "      <td>27602.000000</td>\n",
              "      <td>27602.000000</td>\n",
              "      <td>27602.000000</td>\n",
              "      <td>27602.000000</td>\n",
              "    </tr>\n",
              "    <tr>\n",
              "      <th>mean</th>\n",
              "      <td>15040.741654</td>\n",
              "      <td>1.0</td>\n",
              "      <td>0.055701</td>\n",
              "      <td>3.897969</td>\n",
              "      <td>2.106916</td>\n",
              "      <td>0.804022</td>\n",
              "      <td>1.214452</td>\n",
              "      <td>0.842407</td>\n",
              "    </tr>\n",
              "    <tr>\n",
              "      <th>std</th>\n",
              "      <td>9710.525082</td>\n",
              "      <td>0.0</td>\n",
              "      <td>0.730714</td>\n",
              "      <td>0.324151</td>\n",
              "      <td>1.031030</td>\n",
              "      <td>0.891472</td>\n",
              "      <td>1.339952</td>\n",
              "      <td>0.200001</td>\n",
              "    </tr>\n",
              "    <tr>\n",
              "      <th>min</th>\n",
              "      <td>1.001205</td>\n",
              "      <td>1.0</td>\n",
              "      <td>-1.000525</td>\n",
              "      <td>2.499921</td>\n",
              "      <td>0.000000</td>\n",
              "      <td>0.000000</td>\n",
              "      <td>0.031246</td>\n",
              "      <td>0.000000</td>\n",
              "    </tr>\n",
              "    <tr>\n",
              "      <th>25%</th>\n",
              "      <td>6972.425579</td>\n",
              "      <td>1.0</td>\n",
              "      <td>-0.999981</td>\n",
              "      <td>3.640014</td>\n",
              "      <td>1.857298</td>\n",
              "      <td>0.000000</td>\n",
              "      <td>1.000245</td>\n",
              "      <td>0.642212</td>\n",
              "    </tr>\n",
              "    <tr>\n",
              "      <th>50%</th>\n",
              "      <td>13942.747873</td>\n",
              "      <td>1.0</td>\n",
              "      <td>0.042780</td>\n",
              "      <td>3.980649</td>\n",
              "      <td>1.996313</td>\n",
              "      <td>0.230640</td>\n",
              "      <td>1.015536</td>\n",
              "      <td>0.997103</td>\n",
              "    </tr>\n",
              "    <tr>\n",
              "      <th>75%</th>\n",
              "      <td>20916.228757</td>\n",
              "      <td>1.0</td>\n",
              "      <td>0.913817</td>\n",
              "      <td>4.199773</td>\n",
              "      <td>1.996313</td>\n",
              "      <td>2.009444</td>\n",
              "      <td>1.015616</td>\n",
              "      <td>1.000000</td>\n",
              "    </tr>\n",
              "    <tr>\n",
              "      <th>max</th>\n",
              "      <td>33521.293923</td>\n",
              "      <td>1.0</td>\n",
              "      <td>1.000313</td>\n",
              "      <td>4.200097</td>\n",
              "      <td>4.005512</td>\n",
              "      <td>2.009444</td>\n",
              "      <td>10.016820</td>\n",
              "      <td>1.000000</td>\n",
              "    </tr>\n",
              "  </tbody>\n",
              "</table>\n",
              "</div>"
            ],
            "text/plain": [
              "       Test_Time(s)  Cycle_Index  ...     TimeDelta           SOC\n",
              "count  27602.000000      27602.0  ...  27602.000000  27602.000000\n",
              "mean   15040.741654          1.0  ...      1.214452      0.842407\n",
              "std     9710.525082          0.0  ...      1.339952      0.200001\n",
              "min        1.001205          1.0  ...      0.031246      0.000000\n",
              "25%     6972.425579          1.0  ...      1.000245      0.642212\n",
              "50%    13942.747873          1.0  ...      1.015536      0.997103\n",
              "75%    20916.228757          1.0  ...      1.015616      1.000000\n",
              "max    33521.293923          1.0  ...     10.016820      1.000000\n",
              "\n",
              "[8 rows x 8 columns]"
            ]
          },
          "metadata": {},
          "execution_count": 46
        }
      ]
    },
    {
      "cell_type": "markdown",
      "metadata": {
        "id": "jej3N8-4JDj4"
      },
      "source": [
        "Deleting 0 valued columns"
      ]
    },
    {
      "cell_type": "code",
      "metadata": {
        "id": "cGcwcEaaItya"
      },
      "source": [
        "combined_data=combined_data.drop(columns=['Internal_Resistance(Ohm)','Is_FC_Data','AC_Impedance(Ohm)',\t'ACI_Phase_Angle(Deg)'])\n",
        "combined_data.describe()"
      ],
      "execution_count": null,
      "outputs": []
    },
    {
      "cell_type": "code",
      "metadata": {
        "id": "e8j2W3tFJXVw"
      },
      "source": [
        "correlations = combined_data.corr()\n",
        "plt.figure(figsize=(8,8))\n",
        "sns.heatmap(correlations, cmap='RdBu_r')\n",
        "plt.show()"
      ],
      "execution_count": null,
      "outputs": []
    },
    {
      "cell_type": "code",
      "metadata": {
        "id": "6UV6QQJwJomw"
      },
      "source": [
        "  fig = plt.figure(figsize = (15,15))\n",
        "  ax = fig.gca()\n",
        "  combined_data.hist(ax = ax)"
      ],
      "execution_count": null,
      "outputs": []
    },
    {
      "cell_type": "markdown",
      "metadata": {
        "id": "lwXxdNoxVNVG"
      },
      "source": [
        "# ***Can run from here***\n",
        "\n",
        "---\n",
        "\n"
      ]
    },
    {
      "cell_type": "code",
      "metadata": {
        "colab": {
          "base_uri": "https://localhost:8080/",
          "height": 300
        },
        "id": "lA5X5VM0CvOI",
        "outputId": "3dfdba18-e319-4b8c-90ea-b5a69b2773e3"
      },
      "source": [
        "#cd2=pd.read_csv('/content/drive/MyDrive/LSTM_SOC_Implementation/r1.csv')\n",
        "cd2=combined_data.drop(columns=['TimeDelta'])\n",
        "cd2.describe()"
      ],
      "execution_count": 13,
      "outputs": [
        {
          "output_type": "execute_result",
          "data": {
            "text/html": [
              "<div>\n",
              "<style scoped>\n",
              "    .dataframe tbody tr th:only-of-type {\n",
              "        vertical-align: middle;\n",
              "    }\n",
              "\n",
              "    .dataframe tbody tr th {\n",
              "        vertical-align: top;\n",
              "    }\n",
              "\n",
              "    .dataframe thead th {\n",
              "        text-align: right;\n",
              "    }\n",
              "</style>\n",
              "<table border=\"1\" class=\"dataframe\">\n",
              "  <thead>\n",
              "    <tr style=\"text-align: right;\">\n",
              "      <th></th>\n",
              "      <th>Test_Time(s)</th>\n",
              "      <th>Cycle_Index</th>\n",
              "      <th>Current(A)</th>\n",
              "      <th>Voltage(V)</th>\n",
              "      <th>Charge_Capacity(Ah)</th>\n",
              "      <th>Discharge_Capacity(Ah)</th>\n",
              "      <th>SOC</th>\n",
              "    </tr>\n",
              "  </thead>\n",
              "  <tbody>\n",
              "    <tr>\n",
              "      <th>count</th>\n",
              "      <td>142119.000000</td>\n",
              "      <td>142119.000000</td>\n",
              "      <td>142119.000000</td>\n",
              "      <td>142119.000000</td>\n",
              "      <td>142119.000000</td>\n",
              "      <td>142119.000000</td>\n",
              "      <td>142119.000000</td>\n",
              "    </tr>\n",
              "    <tr>\n",
              "      <th>mean</th>\n",
              "      <td>78705.582922</td>\n",
              "      <td>9.029032</td>\n",
              "      <td>-0.007765</td>\n",
              "      <td>3.684208</td>\n",
              "      <td>0.412327</td>\n",
              "      <td>1.481353</td>\n",
              "      <td>0.691114</td>\n",
              "    </tr>\n",
              "    <tr>\n",
              "      <th>std</th>\n",
              "      <td>41479.490967</td>\n",
              "      <td>4.802561</td>\n",
              "      <td>0.303031</td>\n",
              "      <td>0.207378</td>\n",
              "      <td>0.539736</td>\n",
              "      <td>0.625663</td>\n",
              "      <td>0.118811</td>\n",
              "    </tr>\n",
              "    <tr>\n",
              "      <th>min</th>\n",
              "      <td>10.000167</td>\n",
              "      <td>1.000000</td>\n",
              "      <td>-1.000233</td>\n",
              "      <td>2.499903</td>\n",
              "      <td>0.000000</td>\n",
              "      <td>0.000000</td>\n",
              "      <td>0.000000</td>\n",
              "    </tr>\n",
              "    <tr>\n",
              "      <th>25%</th>\n",
              "      <td>42831.169001</td>\n",
              "      <td>5.000000</td>\n",
              "      <td>0.000000</td>\n",
              "      <td>3.577119</td>\n",
              "      <td>0.016146</td>\n",
              "      <td>0.999809</td>\n",
              "      <td>0.633504</td>\n",
              "    </tr>\n",
              "    <tr>\n",
              "      <th>50%</th>\n",
              "      <td>78728.254274</td>\n",
              "      <td>9.000000</td>\n",
              "      <td>0.000000</td>\n",
              "      <td>3.661715</td>\n",
              "      <td>0.016146</td>\n",
              "      <td>1.799699</td>\n",
              "      <td>0.672399</td>\n",
              "    </tr>\n",
              "    <tr>\n",
              "      <th>75%</th>\n",
              "      <td>114616.556029</td>\n",
              "      <td>13.000000</td>\n",
              "      <td>0.000000</td>\n",
              "      <td>3.839495</td>\n",
              "      <td>0.815788</td>\n",
              "      <td>1.987336</td>\n",
              "      <td>0.787366</td>\n",
              "    </tr>\n",
              "    <tr>\n",
              "      <th>max</th>\n",
              "      <td>150507.800260</td>\n",
              "      <td>18.000000</td>\n",
              "      <td>0.999904</td>\n",
              "      <td>4.375753</td>\n",
              "      <td>1.692307</td>\n",
              "      <td>1.987336</td>\n",
              "      <td>0.988512</td>\n",
              "    </tr>\n",
              "  </tbody>\n",
              "</table>\n",
              "</div>"
            ],
            "text/plain": [
              "        Test_Time(s)    Cycle_Index  ...  Discharge_Capacity(Ah)            SOC\n",
              "count  142119.000000  142119.000000  ...           142119.000000  142119.000000\n",
              "mean    78705.582922       9.029032  ...                1.481353       0.691114\n",
              "std     41479.490967       4.802561  ...                0.625663       0.118811\n",
              "min        10.000167       1.000000  ...                0.000000       0.000000\n",
              "25%     42831.169001       5.000000  ...                0.999809       0.633504\n",
              "50%     78728.254274       9.000000  ...                1.799699       0.672399\n",
              "75%    114616.556029      13.000000  ...                1.987336       0.787366\n",
              "max    150507.800260      18.000000  ...                1.987336       0.988512\n",
              "\n",
              "[8 rows x 7 columns]"
            ]
          },
          "metadata": {},
          "execution_count": 13
        }
      ]
    },
    {
      "cell_type": "code",
      "metadata": {
        "colab": {
          "base_uri": "https://localhost:8080/",
          "height": 424
        },
        "id": "FSzDs6JUPobf",
        "outputId": "58f59003-2d61-411b-a81f-6ab0dcf884e5"
      },
      "source": [
        "cd2"
      ],
      "execution_count": 14,
      "outputs": [
        {
          "output_type": "execute_result",
          "data": {
            "text/html": [
              "<div>\n",
              "<style scoped>\n",
              "    .dataframe tbody tr th:only-of-type {\n",
              "        vertical-align: middle;\n",
              "    }\n",
              "\n",
              "    .dataframe tbody tr th {\n",
              "        vertical-align: top;\n",
              "    }\n",
              "\n",
              "    .dataframe thead th {\n",
              "        text-align: right;\n",
              "    }\n",
              "</style>\n",
              "<table border=\"1\" class=\"dataframe\">\n",
              "  <thead>\n",
              "    <tr style=\"text-align: right;\">\n",
              "      <th></th>\n",
              "      <th>Test_Time(s)</th>\n",
              "      <th>Cycle_Index</th>\n",
              "      <th>Current(A)</th>\n",
              "      <th>Voltage(V)</th>\n",
              "      <th>Charge_Capacity(Ah)</th>\n",
              "      <th>Discharge_Capacity(Ah)</th>\n",
              "      <th>SOC</th>\n",
              "    </tr>\n",
              "  </thead>\n",
              "  <tbody>\n",
              "    <tr>\n",
              "      <th>0</th>\n",
              "      <td>10.000167</td>\n",
              "      <td>1.0</td>\n",
              "      <td>0.000000</td>\n",
              "      <td>4.166209</td>\n",
              "      <td>0.000000</td>\n",
              "      <td>0.000000</td>\n",
              "      <td>0.970000</td>\n",
              "    </tr>\n",
              "    <tr>\n",
              "      <th>1</th>\n",
              "      <td>20.015713</td>\n",
              "      <td>1.0</td>\n",
              "      <td>0.000000</td>\n",
              "      <td>4.166047</td>\n",
              "      <td>0.000000</td>\n",
              "      <td>0.000000</td>\n",
              "      <td>0.980028</td>\n",
              "    </tr>\n",
              "    <tr>\n",
              "      <th>2</th>\n",
              "      <td>30.031239</td>\n",
              "      <td>1.0</td>\n",
              "      <td>0.000000</td>\n",
              "      <td>4.166047</td>\n",
              "      <td>0.000000</td>\n",
              "      <td>0.000000</td>\n",
              "      <td>0.980028</td>\n",
              "    </tr>\n",
              "    <tr>\n",
              "      <th>3</th>\n",
              "      <td>40.046793</td>\n",
              "      <td>1.0</td>\n",
              "      <td>0.000000</td>\n",
              "      <td>4.166209</td>\n",
              "      <td>0.000000</td>\n",
              "      <td>0.000000</td>\n",
              "      <td>0.980123</td>\n",
              "    </tr>\n",
              "    <tr>\n",
              "      <th>4</th>\n",
              "      <td>50.062341</td>\n",
              "      <td>1.0</td>\n",
              "      <td>0.000000</td>\n",
              "      <td>4.166047</td>\n",
              "      <td>0.000000</td>\n",
              "      <td>0.000000</td>\n",
              "      <td>0.980028</td>\n",
              "    </tr>\n",
              "    <tr>\n",
              "      <th>...</th>\n",
              "      <td>...</td>\n",
              "      <td>...</td>\n",
              "      <td>...</td>\n",
              "      <td>...</td>\n",
              "      <td>...</td>\n",
              "      <td>...</td>\n",
              "      <td>...</td>\n",
              "    </tr>\n",
              "    <tr>\n",
              "      <th>142114</th>\n",
              "      <td>150503.768645</td>\n",
              "      <td>18.0</td>\n",
              "      <td>0.999544</td>\n",
              "      <td>4.249022</td>\n",
              "      <td>1.691192</td>\n",
              "      <td>1.987336</td>\n",
              "      <td>0.889110</td>\n",
              "    </tr>\n",
              "    <tr>\n",
              "      <th>142115</th>\n",
              "      <td>150504.768729</td>\n",
              "      <td>18.0</td>\n",
              "      <td>0.999364</td>\n",
              "      <td>4.249184</td>\n",
              "      <td>1.691470</td>\n",
              "      <td>1.987336</td>\n",
              "      <td>0.889249</td>\n",
              "    </tr>\n",
              "    <tr>\n",
              "      <th>142116</th>\n",
              "      <td>150505.784258</td>\n",
              "      <td>18.0</td>\n",
              "      <td>0.999544</td>\n",
              "      <td>4.249508</td>\n",
              "      <td>1.691752</td>\n",
              "      <td>1.987336</td>\n",
              "      <td>0.889390</td>\n",
              "    </tr>\n",
              "    <tr>\n",
              "      <th>142117</th>\n",
              "      <td>150506.784411</td>\n",
              "      <td>18.0</td>\n",
              "      <td>0.999544</td>\n",
              "      <td>4.249671</td>\n",
              "      <td>1.692029</td>\n",
              "      <td>1.987336</td>\n",
              "      <td>0.889528</td>\n",
              "    </tr>\n",
              "    <tr>\n",
              "      <th>142118</th>\n",
              "      <td>150507.800260</td>\n",
              "      <td>18.0</td>\n",
              "      <td>0.999544</td>\n",
              "      <td>4.249832</td>\n",
              "      <td>1.692307</td>\n",
              "      <td>1.987336</td>\n",
              "      <td>0.889669</td>\n",
              "    </tr>\n",
              "  </tbody>\n",
              "</table>\n",
              "<p>142119 rows × 7 columns</p>\n",
              "</div>"
            ],
            "text/plain": [
              "         Test_Time(s)  Cycle_Index  ...  Discharge_Capacity(Ah)       SOC\n",
              "0           10.000167          1.0  ...                0.000000  0.970000\n",
              "1           20.015713          1.0  ...                0.000000  0.980028\n",
              "2           30.031239          1.0  ...                0.000000  0.980028\n",
              "3           40.046793          1.0  ...                0.000000  0.980123\n",
              "4           50.062341          1.0  ...                0.000000  0.980028\n",
              "...               ...          ...  ...                     ...       ...\n",
              "142114  150503.768645         18.0  ...                1.987336  0.889110\n",
              "142115  150504.768729         18.0  ...                1.987336  0.889249\n",
              "142116  150505.784258         18.0  ...                1.987336  0.889390\n",
              "142117  150506.784411         18.0  ...                1.987336  0.889528\n",
              "142118  150507.800260         18.0  ...                1.987336  0.889669\n",
              "\n",
              "[142119 rows x 7 columns]"
            ]
          },
          "metadata": {},
          "execution_count": 14
        }
      ]
    },
    {
      "cell_type": "code",
      "metadata": {
        "colab": {
          "base_uri": "https://localhost:8080/",
          "height": 924
        },
        "id": "B9hs5ar2DOBt",
        "outputId": "97a5321c-40fa-43fc-bd73-3889505bd514"
      },
      "source": [
        "  fig = plt.figure(figsize = (12,12))\n",
        "  ax = fig.gca()\n",
        "  cd2.hist(ax = ax)"
      ],
      "execution_count": 15,
      "outputs": [
        {
          "output_type": "stream",
          "name": "stderr",
          "text": [
            "/usr/local/lib/python3.7/dist-packages/ipykernel_launcher.py:3: UserWarning: To output multiple subplots, the figure containing the passed axes is being cleared\n",
            "  This is separate from the ipykernel package so we can avoid doing imports until\n"
          ]
        },
        {
          "output_type": "execute_result",
          "data": {
            "text/plain": [
              "array([[<matplotlib.axes._subplots.AxesSubplot object at 0x7fa03e83bb90>,\n",
              "        <matplotlib.axes._subplots.AxesSubplot object at 0x7fa03ede44d0>,\n",
              "        <matplotlib.axes._subplots.AxesSubplot object at 0x7fa03f06a9d0>],\n",
              "       [<matplotlib.axes._subplots.AxesSubplot object at 0x7fa03f22aed0>,\n",
              "        <matplotlib.axes._subplots.AxesSubplot object at 0x7fa03f50c7d0>,\n",
              "        <matplotlib.axes._subplots.AxesSubplot object at 0x7fa03f753cd0>],\n",
              "       [<matplotlib.axes._subplots.AxesSubplot object at 0x7fa03f952290>,\n",
              "        <matplotlib.axes._subplots.AxesSubplot object at 0x7fa03fc376d0>,\n",
              "        <matplotlib.axes._subplots.AxesSubplot object at 0x7fa03fc37710>]],\n",
              "      dtype=object)"
            ]
          },
          "metadata": {},
          "execution_count": 15
        },
        {
          "output_type": "display_data",
          "data": {
            "image/png": "[encoded data removed]",
            "text/plain": [
              "<Figure size 864x864 with 9 Axes>"
            ]
          },
          "metadata": {
            "needs_background": "light"
          }
        }
      ]
    },
    {
      "cell_type": "code",
      "metadata": {
        "colab": {
          "base_uri": "https://localhost:8080/",
          "height": 597
        },
        "id": "qC51kWbhEywO",
        "outputId": "8958ca84-5868-49b3-8168-85ff9ee9a24a"
      },
      "source": [
        "correlations = cd2.corr()\n",
        "plt.figure(figsize=(8,8))\n",
        "sns.heatmap(correlations, cmap='RdBu_r')\n",
        "plt.show()"
      ],
      "execution_count": 16,
      "outputs": [
        {
          "output_type": "display_data",
          "data": {
            "image/png": "[encoded data removed]",
            "text/plain": [
              "<Figure size 576x576 with 2 Axes>"
            ]
          },
          "metadata": {
            "needs_background": "light"
          }
        }
      ]
    },
    {
      "cell_type": "code",
      "metadata": {
        "id": "VVAxdxD_FSA2"
      },
      "source": [
        "y = cd2.SOC\n",
        "X = cd2.drop(['SOC'], axis=1)"
      ],
      "execution_count": 17,
      "outputs": []
    },
    {
      "cell_type": "code",
      "metadata": {
        "colab": {
          "base_uri": "https://localhost:8080/",
          "height": 300
        },
        "id": "lWEv98nHWPCz",
        "outputId": "fab6db89-22eb-4f51-f2ff-4c47155bb890"
      },
      "source": [
        "X.describe()"
      ],
      "execution_count": 18,
      "outputs": [
        {
          "output_type": "execute_result",
          "data": {
            "text/html": [
              "<div>\n",
              "<style scoped>\n",
              "    .dataframe tbody tr th:only-of-type {\n",
              "        vertical-align: middle;\n",
              "    }\n",
              "\n",
              "    .dataframe tbody tr th {\n",
              "        vertical-align: top;\n",
              "    }\n",
              "\n",
              "    .dataframe thead th {\n",
              "        text-align: right;\n",
              "    }\n",
              "</style>\n",
              "<table border=\"1\" class=\"dataframe\">\n",
              "  <thead>\n",
              "    <tr style=\"text-align: right;\">\n",
              "      <th></th>\n",
              "      <th>Test_Time(s)</th>\n",
              "      <th>Cycle_Index</th>\n",
              "      <th>Current(A)</th>\n",
              "      <th>Voltage(V)</th>\n",
              "      <th>Charge_Capacity(Ah)</th>\n",
              "      <th>Discharge_Capacity(Ah)</th>\n",
              "    </tr>\n",
              "  </thead>\n",
              "  <tbody>\n",
              "    <tr>\n",
              "      <th>count</th>\n",
              "      <td>142119.000000</td>\n",
              "      <td>142119.000000</td>\n",
              "      <td>142119.000000</td>\n",
              "      <td>142119.000000</td>\n",
              "      <td>142119.000000</td>\n",
              "      <td>142119.000000</td>\n",
              "    </tr>\n",
              "    <tr>\n",
              "      <th>mean</th>\n",
              "      <td>78705.582922</td>\n",
              "      <td>9.029032</td>\n",
              "      <td>-0.007765</td>\n",
              "      <td>3.684208</td>\n",
              "      <td>0.412327</td>\n",
              "      <td>1.481353</td>\n",
              "    </tr>\n",
              "    <tr>\n",
              "      <th>std</th>\n",
              "      <td>41479.490967</td>\n",
              "      <td>4.802561</td>\n",
              "      <td>0.303031</td>\n",
              "      <td>0.207378</td>\n",
              "      <td>0.539736</td>\n",
              "      <td>0.625663</td>\n",
              "    </tr>\n",
              "    <tr>\n",
              "      <th>min</th>\n",
              "      <td>10.000167</td>\n",
              "      <td>1.000000</td>\n",
              "      <td>-1.000233</td>\n",
              "      <td>2.499903</td>\n",
              "      <td>0.000000</td>\n",
              "      <td>0.000000</td>\n",
              "    </tr>\n",
              "    <tr>\n",
              "      <th>25%</th>\n",
              "      <td>42831.169001</td>\n",
              "      <td>5.000000</td>\n",
              "      <td>0.000000</td>\n",
              "      <td>3.577119</td>\n",
              "      <td>0.016146</td>\n",
              "      <td>0.999809</td>\n",
              "    </tr>\n",
              "    <tr>\n",
              "      <th>50%</th>\n",
              "      <td>78728.254274</td>\n",
              "      <td>9.000000</td>\n",
              "      <td>0.000000</td>\n",
              "      <td>3.661715</td>\n",
              "      <td>0.016146</td>\n",
              "      <td>1.799699</td>\n",
              "    </tr>\n",
              "    <tr>\n",
              "      <th>75%</th>\n",
              "      <td>114616.556029</td>\n",
              "      <td>13.000000</td>\n",
              "      <td>0.000000</td>\n",
              "      <td>3.839495</td>\n",
              "      <td>0.815788</td>\n",
              "      <td>1.987336</td>\n",
              "    </tr>\n",
              "    <tr>\n",
              "      <th>max</th>\n",
              "      <td>150507.800260</td>\n",
              "      <td>18.000000</td>\n",
              "      <td>0.999904</td>\n",
              "      <td>4.375753</td>\n",
              "      <td>1.692307</td>\n",
              "      <td>1.987336</td>\n",
              "    </tr>\n",
              "  </tbody>\n",
              "</table>\n",
              "</div>"
            ],
            "text/plain": [
              "        Test_Time(s)  ...  Discharge_Capacity(Ah)\n",
              "count  142119.000000  ...           142119.000000\n",
              "mean    78705.582922  ...                1.481353\n",
              "std     41479.490967  ...                0.625663\n",
              "min        10.000167  ...                0.000000\n",
              "25%     42831.169001  ...                0.999809\n",
              "50%     78728.254274  ...                1.799699\n",
              "75%    114616.556029  ...                1.987336\n",
              "max    150507.800260  ...                1.987336\n",
              "\n",
              "[8 rows x 6 columns]"
            ]
          },
          "metadata": {},
          "execution_count": 18
        }
      ]
    },
    {
      "cell_type": "markdown",
      "metadata": {
        "id": "7or5lAg9zv05"
      },
      "source": [
        "split"
      ]
    },
    {
      "cell_type": "code",
      "metadata": {
        "colab": {
          "base_uri": "https://localhost:8080/"
        },
        "id": "f3KejRNIz8L6",
        "outputId": "e7f899ca-63ac-4e93-befa-d3818d2e30f7"
      },
      "source": [
        "cd2.values"
      ],
      "execution_count": null,
      "outputs": [
        {
          "output_type": "execute_result",
          "data": {
            "text/plain": [
              "array([[1.00120490e+00, 0.00000000e+00, 3.43425655e+00, 0.00000000e+00,\n",
              "        0.00000000e+00, 5.00000000e-01],\n",
              "       [2.01676330e+00, 0.00000000e+00, 3.43441844e+00, 0.00000000e+00,\n",
              "        0.00000000e+00, 5.49657906e-01],\n",
              "       [3.03225394e+00, 0.00000000e+00, 3.43458056e+00, 0.00000000e+00,\n",
              "        0.00000000e+00, 5.49753273e-01],\n",
              "       ...,\n",
              "       [3.35194814e+04, 0.00000000e+00, 4.19588470e+00, 4.00551180e+00,\n",
              "        2.00944414e+00, 9.97579238e-01],\n",
              "       [3.35204970e+04, 0.00000000e+00, 4.19588470e+00, 4.00551180e+00,\n",
              "        2.00944414e+00, 9.97579238e-01],\n",
              "       [3.35212939e+04, 0.00000000e+00, 4.19588470e+00, 4.00551180e+00,\n",
              "        2.00944414e+00, 9.97579238e-01]])"
            ]
          },
          "metadata": {},
          "execution_count": 105
        }
      ]
    },
    {
      "cell_type": "code",
      "metadata": {
        "id": "xZ7aC4j11Rpw"
      },
      "source": [
        "from sklearn.preprocessing import MinMaxScaler\n"
      ],
      "execution_count": 19,
      "outputs": []
    },
    {
      "cell_type": "code",
      "metadata": {
        "id": "ihBUmg5bzu8E"
      },
      "source": [
        "dataset = cd2.SOC.values #numpy.ndarray\n",
        "dataset = dataset.astype('float64')\n",
        "dataset = np.reshape(dataset, (-1, 1))\n",
        "scaler = MinMaxScaler(feature_range=(0, 1))\n",
        "dataset = scaler.fit_transform(dataset)\n",
        "train_size = int(len(dataset) * 0.80)\n",
        "test_size = len(dataset) - train_size\n",
        "train, test = dataset[0:train_size,:], dataset[train_size:len(dataset),:]"
      ],
      "execution_count": 20,
      "outputs": []
    },
    {
      "cell_type": "code",
      "metadata": {
        "id": "JYjXEEeV1Xmy"
      },
      "source": [
        "# convert an array of values into a dataset matrix\n",
        "def create_dataset(dataset, look_back=1):\n",
        "    X, Y = [], []\n",
        "    for i in range(len(dataset)-look_back-1):\n",
        "        a = dataset[i:(i+look_back), 0]\n",
        "        X.append(a)\n",
        "        Y.append(dataset[i + look_back, 0])\n",
        "    return np.array(X), np.array(Y)"
      ],
      "execution_count": 21,
      "outputs": []
    },
    {
      "cell_type": "code",
      "metadata": {
        "id": "dw523Skl1al8"
      },
      "source": [
        "# reshape into X=t and Y=t+1\n",
        "look_back = 6\n",
        "X_train, Y_train = create_dataset(train, look_back)\n",
        "X_test, Y_test = create_dataset(test, look_back)"
      ],
      "execution_count": 22,
      "outputs": []
    },
    {
      "cell_type": "code",
      "metadata": {
        "colab": {
          "base_uri": "https://localhost:8080/"
        },
        "id": "yu8EmIUW13Ts",
        "outputId": "f44ac567-c113-47eb-fc43-62b33d393976"
      },
      "source": [
        "X_train.shape"
      ],
      "execution_count": 23,
      "outputs": [
        {
          "output_type": "execute_result",
          "data": {
            "text/plain": [
              "(113688, 6)"
            ]
          },
          "metadata": {},
          "execution_count": 23
        }
      ]
    },
    {
      "cell_type": "code",
      "metadata": {
        "colab": {
          "base_uri": "https://localhost:8080/"
        },
        "id": "yaHqs7FL2FKn",
        "outputId": "6f7417fd-4234-4e48-ff8e-d23d61fe50a8"
      },
      "source": [
        "Y_train.shape"
      ],
      "execution_count": 24,
      "outputs": [
        {
          "output_type": "execute_result",
          "data": {
            "text/plain": [
              "(113688,)"
            ]
          },
          "metadata": {},
          "execution_count": 24
        }
      ]
    },
    {
      "cell_type": "code",
      "metadata": {
        "id": "ntkwGpFK2Kvv"
      },
      "source": [
        "# reshape input to be [samples, time steps, features]\n",
        "X_train = np.reshape(X_train, (X_train.shape[0], 1, X_train.shape[1]))\n",
        "X_test = np.reshape(X_test, (X_test.shape[0], 1, X_test.shape[1]))"
      ],
      "execution_count": 25,
      "outputs": []
    },
    {
      "cell_type": "code",
      "metadata": {
        "colab": {
          "base_uri": "https://localhost:8080/"
        },
        "id": "BIfIWrpP2NcJ",
        "outputId": "4fbf2fd2-788a-4307-eb49-d014b37c8941"
      },
      "source": [
        "X_train.shape"
      ],
      "execution_count": 56,
      "outputs": [
        {
          "output_type": "execute_result",
          "data": {
            "text/plain": [
              "(113688, 1, 6)"
            ]
          },
          "metadata": {},
          "execution_count": 56
        }
      ]
    },
    {
      "cell_type": "code",
      "metadata": {
        "id": "06NjbtWi2Z6m"
      },
      "source": [
        "import math\n",
        "import keras\n",
        "from keras.models import Sequential\n",
        "from keras.layers import Dense\n",
        "from keras.layers import LSTM\n",
        "from keras.layers import Dropout\n",
        "from keras.layers import *\n",
        "from sklearn.preprocessing import MinMaxScaler\n",
        "from sklearn.metrics import mean_squared_error\n",
        "from sklearn.metrics import mean_absolute_error\n",
        "from keras.callbacks import EarlyStopping"
      ],
      "execution_count": 26,
      "outputs": []
    },
    {
      "cell_type": "code",
      "metadata": {
        "colab": {
          "base_uri": "https://localhost:8080/"
        },
        "id": "tFJgXQVc2QAj",
        "outputId": "4664c2d7-8bef-40dd-e1d0-7ec6b9a73bf8"
      },
      "source": [
        "model = Sequential()\n",
        "model.add(LSTM(50, input_shape=(X_train.shape[1], X_train.shape[2])))\n",
        "model.add(Dropout(0.6))\n",
        "model.add(Dense(2))\n",
        "model.compile(loss='mean_squared_error', optimizer='adam')\n",
        "\n",
        "history = model.fit(X_train, Y_train, epochs=100, batch_size=32, validation_data=(X_test, Y_test), \n",
        "                    callbacks=[EarlyStopping(monitor='val_loss', patience=30)], verbose=1, shuffle=False)\n",
        "\n",
        "# Training Phase\n",
        "model.summary()"
      ],
      "execution_count": 27,
      "outputs": [
        {
          "output_type": "stream",
          "name": "stdout",
          "text": [
            "Epoch 1/100\n",
            "3553/3553 [==============================] - 27s 6ms/step - loss: 0.0157 - val_loss: 0.0071\n",
            "Epoch 2/100\n",
            "3553/3553 [==============================] - 20s 6ms/step - loss: 0.0018 - val_loss: 0.0101\n",
            "Epoch 3/100\n",
            "3553/3553 [==============================] - 20s 6ms/step - loss: 0.0017 - val_loss: 0.0107\n",
            "Epoch 4/100\n",
            "3553/3553 [==============================] - 20s 6ms/step - loss: 0.0016 - val_loss: 0.0108\n",
            "Epoch 5/100\n",
            "3553/3553 [==============================] - 19s 5ms/step - loss: 0.0015 - val_loss: 0.0104\n",
            "Epoch 6/100\n",
            "3553/3553 [==============================] - 19s 5ms/step - loss: 0.0014 - val_loss: 0.0101\n",
            "Epoch 7/100\n",
            "3553/3553 [==============================] - 19s 5ms/step - loss: 0.0013 - val_loss: 0.0098\n",
            "Epoch 8/100\n",
            "3553/3553 [==============================] - 19s 5ms/step - loss: 0.0013 - val_loss: 0.0096\n",
            "Epoch 9/100\n",
            "3553/3553 [==============================] - 20s 6ms/step - loss: 0.0012 - val_loss: 0.0095\n",
            "Epoch 10/100\n",
            "3553/3553 [==============================] - 20s 6ms/step - loss: 0.0012 - val_loss: 0.0092\n",
            "Epoch 11/100\n",
            "3553/3553 [==============================] - 20s 6ms/step - loss: 0.0011 - val_loss: 0.0091\n",
            "Epoch 12/100\n",
            "3553/3553 [==============================] - 20s 6ms/step - loss: 0.0011 - val_loss: 0.0089\n",
            "Epoch 13/100\n",
            "3553/3553 [==============================] - 20s 6ms/step - loss: 0.0011 - val_loss: 0.0087\n",
            "Epoch 14/100\n",
            "3553/3553 [==============================] - 20s 6ms/step - loss: 0.0010 - val_loss: 0.0087\n",
            "Epoch 15/100\n",
            "3553/3553 [==============================] - 20s 6ms/step - loss: 0.0010 - val_loss: 0.0086\n",
            "Epoch 16/100\n",
            "3553/3553 [==============================] - 20s 6ms/step - loss: 9.9468e-04 - val_loss: 0.0085\n",
            "Epoch 17/100\n",
            "3553/3553 [==============================] - 20s 6ms/step - loss: 9.7619e-04 - val_loss: 0.0083\n",
            "Epoch 18/100\n",
            "3553/3553 [==============================] - 20s 6ms/step - loss: 9.6333e-04 - val_loss: 0.0083\n",
            "Epoch 19/100\n",
            "3553/3553 [==============================] - 20s 6ms/step - loss: 9.5016e-04 - val_loss: 0.0083\n",
            "Epoch 20/100\n",
            "3553/3553 [==============================] - 19s 5ms/step - loss: 9.3681e-04 - val_loss: 0.0081\n",
            "Epoch 21/100\n",
            "3553/3553 [==============================] - 20s 6ms/step - loss: 9.2088e-04 - val_loss: 0.0082\n",
            "Epoch 22/100\n",
            "3553/3553 [==============================] - 20s 5ms/step - loss: 9.2000e-04 - val_loss: 0.0081\n",
            "Epoch 23/100\n",
            "3553/3553 [==============================] - 20s 6ms/step - loss: 9.0295e-04 - val_loss: 0.0080\n",
            "Epoch 24/100\n",
            "3553/3553 [==============================] - 20s 6ms/step - loss: 9.0023e-04 - val_loss: 0.0079\n",
            "Epoch 25/100\n",
            "3553/3553 [==============================] - 20s 6ms/step - loss: 8.8800e-04 - val_loss: 0.0079\n",
            "Epoch 26/100\n",
            "3553/3553 [==============================] - 20s 6ms/step - loss: 8.8376e-04 - val_loss: 0.0079\n",
            "Epoch 27/100\n",
            "3553/3553 [==============================] - 19s 5ms/step - loss: 8.7299e-04 - val_loss: 0.0079\n",
            "Epoch 28/100\n",
            "3553/3553 [==============================] - 19s 5ms/step - loss: 8.7419e-04 - val_loss: 0.0079\n",
            "Epoch 29/100\n",
            "3553/3553 [==============================] - 20s 6ms/step - loss: 8.7631e-04 - val_loss: 0.0078\n",
            "Epoch 30/100\n",
            "3553/3553 [==============================] - 19s 5ms/step - loss: 8.6596e-04 - val_loss: 0.0078\n",
            "Epoch 31/100\n",
            "3553/3553 [==============================] - 20s 6ms/step - loss: 8.6376e-04 - val_loss: 0.0077\n",
            "Model: \"sequential\"\n",
            "_________________________________________________________________\n",
            " Layer (type)                Output Shape              Param #   \n",
            "=================================================================\n",
            " lstm (LSTM)                 (None, 50)                11400     \n",
            "                                                                 \n",
            " dropout (Dropout)           (None, 50)                0         \n",
            "                                                                 \n",
            " dense (Dense)               (None, 2)                 102       \n",
            "                                                                 \n",
            "=================================================================\n",
            "Total params: 11,502\n",
            "Trainable params: 11,502\n",
            "Non-trainable params: 0\n",
            "_________________________________________________________________\n"
          ]
        }
      ]
    },
    {
      "cell_type": "code",
      "metadata": {
        "id": "v4fmb61Ap94l"
      },
      "source": [
        "\n",
        "\n",
        "##################################\n",
        "model = Sequential()\n",
        "model.add(LSTM(100, input_shape=(X_train.shape[1], X_train.shape[2])))\n",
        "model.add(Dropout(0.2))\n",
        "model.add(Dense(1))\n",
        "model.compile(loss='mean_squared_error', optimizer='adam')\n",
        "\n",
        "history = model.fit(X_train, Y_train, epochs=20, batch_size=70, validation_data=(X_test, Y_test), \n",
        "                    callbacks=[EarlyStopping(monitor='val_loss', patience=10)], verbose=1, shuffle=False)\n",
        "\n",
        "# Training Phase\n",
        "model.summary()"
      ],
      "execution_count": null,
      "outputs": []
    },
    {
      "cell_type": "code",
      "metadata": {
        "colab": {
          "base_uri": "https://localhost:8080/"
        },
        "id": "C9igKq7u2jvl",
        "outputId": "65565120-3830-40e2-d605-be31b5700727"
      },
      "source": [
        "# make predictions\n",
        "train_predict = model.predict(X_train)\n",
        "test_predict = model.predict(X_test)\n",
        "# invert predictions\n",
        "train_predict = scaler.inverse_transform(train_predict)\n",
        "Y_train = scaler.inverse_transform([Y_train])\n",
        "test_predict = scaler.inverse_transform(test_predict)\n",
        "Y_test = scaler.inverse_transform([Y_test])\n",
        "\n",
        "print('Train Mean Absolute Error:', mean_absolute_error(Y_train[0], train_predict[:,0]))\n",
        "print('Train Root Mean Squared Error:',np.sqrt(mean_squared_error(Y_train[0], train_predict[:,0])))\n",
        "print('Test Mean Absolute Error:', mean_absolute_error(Y_test[0], test_predict[:,0]))\n",
        "print('Test Root Mean Squared Error:',np.sqrt(mean_squared_error(Y_test[0], test_predict[:,0])))"
      ],
      "execution_count": 29,
      "outputs": [
        {
          "output_type": "stream",
          "name": "stdout",
          "text": [
            "Train Mean Absolute Error: 0.02406192921388892\n",
            "Train Root Mean Squared Error: 0.029625362864571105\n",
            "Test Mean Absolute Error: 0.014030085066774445\n",
            "Test Root Mean Squared Error: 0.016745556091644628\n"
          ]
        }
      ]
    },
    {
      "cell_type": "code",
      "metadata": {
        "colab": {
          "base_uri": "https://localhost:8080/",
          "height": 295
        },
        "id": "hADXDvCd2qzF",
        "outputId": "67de68cb-b553-4a24-d824-737b692c80fe"
      },
      "source": [
        "plt.figure(figsize=(8,4))\n",
        "plt.plot(history.history['loss'], label='Train Loss')\n",
        "plt.plot(history.history['val_loss'], label='Test Loss')\n",
        "plt.title('model loss')\n",
        "plt.ylabel('loss')\n",
        "plt.xlabel('epochs')\n",
        "plt.legend(loc='upper right')\n",
        "plt.show();"
      ],
      "execution_count": 33,
      "outputs": [
        {
          "output_type": "display_data",
          "data": {
            "image/png": "[encoded data removed]",
            "text/plain": [
              "<Figure size 576x288 with 1 Axes>"
            ]
          },
          "metadata": {
            "needs_background": "light"
          }
        }
      ]
    },
    {
      "cell_type": "code",
      "metadata": {
        "colab": {
          "base_uri": "https://localhost:8080/",
          "height": 284
        },
        "id": "stz_dngk2wpa",
        "outputId": "9aa1ba88-e2f5-4d7b-f1db-08afcd16467b"
      },
      "source": [
        "aa=[x for x in range(10000)]\n",
        "plt.figure(figsize=(20,4))\n",
        "plt.plot(aa, Y_test[0][:10000], marker='.', label=\"actual\")\n",
        "plt.plot(aa, test_predict[:,0][:10000], 'r', label=\"prediction\")\n",
        "plt.tick_params(left=False, labelleft=True) #remove ticks\n",
        "#plt.tight_layout()\n",
        "#sns.despine(top=True)\n",
        "plt.subplots_adjust(left=0.07)\n",
        "plt.ylabel('SOC', size=15)\n",
        "plt.xlabel('Time step', size=15)\n",
        "plt.legend(fontsize=15)\n",
        "plt.show();"
      ],
      "execution_count": 41,
      "outputs": [
        {
          "output_type": "display_data",
          "data": {
            "image/png": "[encoded data removed]",
            "text/plain": [
              "<Figure size 1440x288 with 1 Axes>"
            ]
          },
          "metadata": {
            "needs_background": "light"
          }
        }
      ]
    },
    {
      "cell_type": "code",
      "metadata": {
        "colab": {
          "base_uri": "https://localhost:8080/"
        },
        "id": "9upe3CIKFjui",
        "outputId": "ffc98728-5edd-4171-b302-6596a02b14ac"
      },
      "source": [
        "y.describe()"
      ],
      "execution_count": 43,
      "outputs": [
        {
          "output_type": "execute_result",
          "data": {
            "text/plain": [
              "count    142119.000000\n",
              "mean          0.691114\n",
              "std           0.118811\n",
              "min           0.000000\n",
              "25%           0.633504\n",
              "50%           0.672399\n",
              "75%           0.787366\n",
              "max           0.988512\n",
              "Name: SOC, dtype: float64"
            ]
          },
          "metadata": {},
          "execution_count": 43
        }
      ]
    },
    {
      "cell_type": "code",
      "metadata": {
        "id": "gbXLDjCuW5EB"
      },
      "source": [
        "#split the dataset\n",
        "from sklearn.model_selection import train_test_split\n",
        "X_train, X_test, y_train, y_test =train_test_split(X, y, test_size = 0.3, random_state = 1) #1 is seed for random state , useful for regenerating same"
      ],
      "execution_count": null,
      "outputs": []
    },
    {
      "cell_type": "code",
      "metadata": {
        "colab": {
          "base_uri": "https://localhost:8080/",
          "height": 175
        },
        "id": "1cFeJ6ZZLLL0",
        "outputId": "fe83febf-3913-4044-8ae3-7ae3e2541485"
      },
      "source": [
        "X_train[1:5]"
      ],
      "execution_count": null,
      "outputs": [
        {
          "output_type": "execute_result",
          "data": {
            "text/html": [
              "<div>\n",
              "<style scoped>\n",
              "    .dataframe tbody tr th:only-of-type {\n",
              "        vertical-align: middle;\n",
              "    }\n",
              "\n",
              "    .dataframe tbody tr th {\n",
              "        vertical-align: top;\n",
              "    }\n",
              "\n",
              "    .dataframe thead th {\n",
              "        text-align: right;\n",
              "    }\n",
              "</style>\n",
              "<table border=\"1\" class=\"dataframe\">\n",
              "  <thead>\n",
              "    <tr style=\"text-align: right;\">\n",
              "      <th></th>\n",
              "      <th>Test_Time(s)</th>\n",
              "      <th>Current(A)</th>\n",
              "      <th>Voltage(V)</th>\n",
              "      <th>Charge_Capacity(Ah)</th>\n",
              "      <th>Discharge_Capacity(Ah)</th>\n",
              "    </tr>\n",
              "  </thead>\n",
              "  <tbody>\n",
              "    <tr>\n",
              "      <th>22706</th>\n",
              "      <td>28576.552241</td>\n",
              "      <td>0.824601</td>\n",
              "      <td>4.199935</td>\n",
              "      <td>3.778262</td>\n",
              "      <td>2.009444</td>\n",
              "    </tr>\n",
              "    <tr>\n",
              "      <th>18466</th>\n",
              "      <td>18658.375942</td>\n",
              "      <td>-1.000162</td>\n",
              "      <td>3.419675</td>\n",
              "      <td>1.996313</td>\n",
              "      <td>1.540662</td>\n",
              "    </tr>\n",
              "    <tr>\n",
              "      <th>16507</th>\n",
              "      <td>16678.177943</td>\n",
              "      <td>-1.000162</td>\n",
              "      <td>3.527577</td>\n",
              "      <td>1.996313</td>\n",
              "      <td>0.990547</td>\n",
              "    </tr>\n",
              "    <tr>\n",
              "      <th>22399</th>\n",
              "      <td>26972.366988</td>\n",
              "      <td>0.999950</td>\n",
              "      <td>3.982350</td>\n",
              "      <td>3.336901</td>\n",
              "      <td>2.009444</td>\n",
              "    </tr>\n",
              "  </tbody>\n",
              "</table>\n",
              "</div>"
            ],
            "text/plain": [
              "       Test_Time(s)  Current(A)  ...  Charge_Capacity(Ah)  Discharge_Capacity(Ah)\n",
              "22706  28576.552241    0.824601  ...             3.778262                2.009444\n",
              "18466  18658.375942   -1.000162  ...             1.996313                1.540662\n",
              "16507  16678.177943   -1.000162  ...             1.996313                0.990547\n",
              "22399  26972.366988    0.999950  ...             3.336901                2.009444\n",
              "\n",
              "[4 rows x 5 columns]"
            ]
          },
          "metadata": {},
          "execution_count": 78
        }
      ]
    },
    {
      "cell_type": "code",
      "metadata": {
        "id": "NnZATi--aPBy"
      },
      "source": [
        "from sklearn.preprocessing import MinMaxScaler\n",
        "from sklearn.preprocessing import StandardScaler\n",
        "scaler = MinMaxScaler(feature_range=(0, 1))"
      ],
      "execution_count": null,
      "outputs": []
    },
    {
      "cell_type": "code",
      "metadata": {
        "id": "Td6WLxAAJcGp"
      },
      "source": [
        "\n",
        "\n",
        "#Creating Instance of StandarScaler\n",
        "#scaler = MinMaxScaler()\n",
        "#scaler = StandardScaler()\n",
        "#Perform scaling in X_train with fit_transform.\n",
        "#Here we are applying fit_transform because,\n",
        "        # fit will calculate mean and standard deviation of X_train\n",
        "        # transform will actually perform scaling with calculated mean and std.\n",
        "        # fit_transform method does this both thing in one line of code.\n",
        "X_train1 = scaler.fit_transform(X_train)\n",
        "\n",
        "# Here we will only use transform because we have already calculated mean and std.\n",
        "# Another reason is we don't want to know the mean and std of our test dataset As it\n",
        "# Lead to information leakage.\n",
        "X_test1 = scaler.transform(X_test)"
      ],
      "execution_count": null,
      "outputs": []
    },
    {
      "cell_type": "markdown",
      "metadata": {
        "id": "qt74xvs4IBGj"
      },
      "source": [
        ""
      ]
    },
    {
      "cell_type": "code",
      "metadata": {
        "colab": {
          "base_uri": "https://localhost:8080/"
        },
        "id": "87EBtoI4KO0r",
        "outputId": "29059ae2-21bb-4fe1-f94f-35106243389d"
      },
      "source": [
        "X_train1[1:5]"
      ],
      "execution_count": null,
      "outputs": [
        {
          "output_type": "execute_result",
          "data": {
            "text/plain": [
              "array([[0.35294118, 0.50008222, 0.62582368, 0.00954253, 0.70433413,\n",
              "        0.01020189, 0.725581  ],\n",
              "       [0.41176471, 0.50008222, 0.60076108, 0.00954253, 0.80495919,\n",
              "        0.01020189, 0.82212311],\n",
              "       [0.64705882, 0.50008222, 0.6355703 , 0.36398502, 1.        ,\n",
              "        0.349739  , 1.        ],\n",
              "       [0.35294118, 0.50008222, 0.62406014, 0.00954253, 0.70433413,\n",
              "        0.01020189, 0.725581  ]])"
            ]
          },
          "metadata": {},
          "execution_count": 381
        }
      ]
    },
    {
      "cell_type": "code",
      "metadata": {
        "id": "DDPopP5LU33b"
      },
      "source": [
        "a1=X_train1.shape[0]\n",
        "a2=X_train1.shape[1]\n",
        "a3=X_test1.shape[0]\n",
        "a4=X_test1.shape[1]"
      ],
      "execution_count": null,
      "outputs": []
    },
    {
      "cell_type": "code",
      "metadata": {
        "colab": {
          "base_uri": "https://localhost:8080/"
        },
        "id": "xDWxggUWSRYt",
        "outputId": "edcc80e8-66b9-44c6-d15c-81d89e02c4ac"
      },
      "source": [
        "X_train1"
      ],
      "execution_count": null,
      "outputs": [
        {
          "output_type": "execute_result",
          "data": {
            "text/plain": [
              "array([[0.60495156, 0.52941176, 0.50008222, ..., 1.        , 0.12107558,\n",
              "        1.        ],\n",
              "       [0.38259242, 0.35294118, 0.50008222, ..., 0.70433413, 0.01020189,\n",
              "        0.725581  ],\n",
              "       [0.43491065, 0.41176471, 0.50008222, ..., 0.80495919, 0.01020189,\n",
              "        0.82212311],\n",
              "       ...,\n",
              "       [0.19091954, 0.11764706, 0.50008222, ..., 0.301847  , 0.01020189,\n",
              "        0.32665175],\n",
              "       [0.2913361 , 0.23529412, 0.50008222, ..., 0.50309009, 0.01020189,\n",
              "        0.52929068],\n",
              "       [0.99390948, 0.94117647, 0.50008222, ..., 1.        , 0.95138796,\n",
              "        1.        ]])"
            ]
          },
          "metadata": {},
          "execution_count": 336
        }
      ]
    },
    {
      "cell_type": "code",
      "metadata": {
        "id": "F-l_n8YAMSZo"
      },
      "source": [
        "# reshape input to be [samples, time steps, features]\n",
        "X_train2 = np.reshape(X_train1, (a1, 1, a2))\n",
        "X_test2 = np.reshape(X_test1, (a3,1, a4))"
      ],
      "execution_count": null,
      "outputs": []
    },
    {
      "cell_type": "code",
      "metadata": {
        "colab": {
          "base_uri": "https://localhost:8080/"
        },
        "id": "Z7pbRcmrqABQ",
        "outputId": "86ba3ba5-5850-4081-d6d7-2bf7dce9800f"
      },
      "source": [
        "X_train2.shape"
      ],
      "execution_count": null,
      "outputs": [
        {
          "output_type": "execute_result",
          "data": {
            "text/plain": [
              "(85271, 1, 7)"
            ]
          },
          "metadata": {},
          "execution_count": 428
        }
      ]
    },
    {
      "cell_type": "code",
      "metadata": {
        "colab": {
          "base_uri": "https://localhost:8080/"
        },
        "id": "sHU_curtYGv5",
        "outputId": "83471f54-cd44-47f6-baa1-c83d1142aa88"
      },
      "source": [
        "y_train2=y_train.to_numpy()\n",
        "y_train2\n",
        "y_test2=y_test.to_numpy()\n",
        "y_test2"
      ],
      "execution_count": null,
      "outputs": [
        {
          "output_type": "execute_result",
          "data": {
            "text/plain": [
              "array([0.63207216, 0.42418453, 0.70184814, ..., 0.64467682, 0.65214965,\n",
              "       0.61019394])"
            ]
          },
          "metadata": {},
          "execution_count": 429
        }
      ]
    },
    {
      "cell_type": "code",
      "metadata": {
        "id": "O8kms4CWNi6R"
      },
      "source": [
        "import math\n",
        "import keras\n",
        "from keras.models import Sequential\n",
        "from keras.layers import Dense\n",
        "from keras.layers import LSTM\n",
        "from keras.layers import Dropout\n",
        "from keras.layers import *\n",
        "from sklearn.preprocessing import MinMaxScaler\n",
        "from sklearn.metrics import mean_squared_error\n",
        "from sklearn.metrics import mean_absolute_error\n",
        "from keras.callbacks import EarlyStopping"
      ],
      "execution_count": null,
      "outputs": []
    },
    {
      "cell_type": "code",
      "metadata": {
        "colab": {
          "base_uri": "https://localhost:8080/"
        },
        "id": "JckeJKvhNRrr",
        "outputId": "f1ba5a8c-aa82-4db9-badf-5aad792b6f9b"
      },
      "source": [
        "model = Sequential()\n",
        "model.add(LSTM(50, input_shape=(X_train2.shape[1], X_train2.shape[2])))\n",
        "model.add(Dropout(0.6))\n",
        "model.add(Dense(2))\n",
        "model.compile(loss='mean_squared_error', optimizer='adam')\n",
        "\n",
        "history = model.fit(X_train2, y_train2, epochs=20, batch_size=32, validation_data=(X_test2, y_test2), \n",
        "                    callbacks=[EarlyStopping(monitor='val_loss', patience=10)], verbose=1, shuffle=False)\n",
        "\n",
        "# Training Phase\n",
        "model.summary()"
      ],
      "execution_count": null,
      "outputs": [
        {
          "output_type": "stream",
          "name": "stdout",
          "text": [
            "Epoch 1/20\n",
            "2665/2665 [==============================] - 13s 4ms/step - loss: 0.0150 - val_loss: 3.9886e-04\n",
            "Epoch 2/20\n",
            "2665/2665 [==============================] - 10s 4ms/step - loss: 0.0011 - val_loss: 2.8477e-04\n",
            "Epoch 3/20\n",
            "2665/2665 [==============================] - 10s 4ms/step - loss: 6.2021e-04 - val_loss: 1.1893e-04\n",
            "Epoch 4/20\n",
            "2665/2665 [==============================] - 10s 4ms/step - loss: 4.7525e-04 - val_loss: 3.4772e-05\n",
            "Epoch 5/20\n",
            "2665/2665 [==============================] - 10s 4ms/step - loss: 4.4919e-04 - val_loss: 9.4581e-06\n",
            "Epoch 6/20\n",
            "2665/2665 [==============================] - 10s 4ms/step - loss: 4.5217e-04 - val_loss: 2.1717e-05\n",
            "Epoch 7/20\n",
            "2665/2665 [==============================] - 10s 4ms/step - loss: 4.3846e-04 - val_loss: 7.5175e-05\n",
            "Epoch 8/20\n",
            "2665/2665 [==============================] - 10s 4ms/step - loss: 4.3855e-04 - val_loss: 6.7489e-05\n",
            "Epoch 9/20\n",
            "2665/2665 [==============================] - 10s 4ms/step - loss: 4.2767e-04 - val_loss: 1.7911e-05\n",
            "Epoch 10/20\n",
            "2665/2665 [==============================] - 10s 4ms/step - loss: 4.3578e-04 - val_loss: 1.6668e-05\n",
            "Epoch 11/20\n",
            "2665/2665 [==============================] - 10s 4ms/step - loss: 4.3546e-04 - val_loss: 2.9912e-05\n",
            "Epoch 12/20\n",
            "2665/2665 [==============================] - 10s 4ms/step - loss: 4.3473e-04 - val_loss: 4.3118e-05\n",
            "Epoch 13/20\n",
            "2665/2665 [==============================] - 10s 4ms/step - loss: 4.2914e-04 - val_loss: 2.8471e-05\n",
            "Epoch 14/20\n",
            "2665/2665 [==============================] - 11s 4ms/step - loss: 4.2998e-04 - val_loss: 6.3201e-05\n",
            "Epoch 15/20\n",
            "2665/2665 [==============================] - 10s 4ms/step - loss: 4.3126e-04 - val_loss: 2.7037e-05\n",
            "Model: \"sequential_33\"\n",
            "_________________________________________________________________\n",
            " Layer (type)                Output Shape              Param #   \n",
            "=================================================================\n",
            " lstm_31 (LSTM)              (None, 50)                11600     \n",
            "                                                                 \n",
            " dropout_29 (Dropout)        (None, 50)                0         \n",
            "                                                                 \n",
            " dense_29 (Dense)            (None, 2)                 102       \n",
            "                                                                 \n",
            "=================================================================\n",
            "Total params: 11,702\n",
            "Trainable params: 11,702\n",
            "Non-trainable params: 0\n",
            "_________________________________________________________________\n"
          ]
        }
      ]
    },
    {
      "cell_type": "code",
      "metadata": {
        "colab": {
          "base_uri": "https://localhost:8080/"
        },
        "id": "ac3hNOheevsV",
        "outputId": "343c44a0-b578-4941-ac51-2bdf8c982c48"
      },
      "source": [
        "X_train2.shape"
      ],
      "execution_count": null,
      "outputs": [
        {
          "output_type": "execute_result",
          "data": {
            "text/plain": [
              "(85271, 1, 7)"
            ]
          },
          "metadata": {},
          "execution_count": 432
        }
      ]
    },
    {
      "cell_type": "code",
      "metadata": {
        "id": "fJNDVfzg5r3D"
      },
      "source": [
        "# make predictions\n",
        "train_predict = model.predict(X_train2)\n",
        "test_predict = model.predict(X_test2)"
      ],
      "execution_count": null,
      "outputs": []
    },
    {
      "cell_type": "code",
      "metadata": {
        "colab": {
          "base_uri": "https://localhost:8080/"
        },
        "id": "euM66N1Or2xh",
        "outputId": "6499c8f4-bac2-4652-e0c3-7e43e22cc39f"
      },
      "source": [
        "train_predict.shape"
      ],
      "execution_count": null,
      "outputs": [
        {
          "output_type": "execute_result",
          "data": {
            "text/plain": [
              "(85271, 2)"
            ]
          },
          "metadata": {},
          "execution_count": 434
        }
      ]
    },
    {
      "cell_type": "code",
      "metadata": {
        "id": "DG5VrwhL56Hu"
      },
      "source": [
        "train_predict.shape\n",
        "train_predict=np.delete(train_predict,1,1) #1,1 1st 1 represents 2nd(0,1) and 2nd 1 represents axis =1 ie vertical ie columns\n",
        "train_predict;"
      ],
      "execution_count": null,
      "outputs": []
    },
    {
      "cell_type": "code",
      "metadata": {
        "colab": {
          "base_uri": "https://localhost:8080/"
        },
        "id": "h0w-Q4LFiiAQ",
        "outputId": "f0879299-eff5-4b80-e60d-340b947bb7ab"
      },
      "source": [
        "test_predict=np.delete(test_predict,1,1) #1,1 1st 1 represents 2nd(0,1) and 2nd 1 represents axis =1 ie vertical ie columns\n",
        "\n",
        "test_predict"
      ],
      "execution_count": null,
      "outputs": [
        {
          "output_type": "execute_result",
          "data": {
            "text/plain": [
              "array([[0.6305881 ],\n",
              "       [0.43137866],\n",
              "       [0.69799805],\n",
              "       ...,\n",
              "       [0.6452552 ],\n",
              "       [0.65107596],\n",
              "       [0.6093849 ]], dtype=float32)"
            ]
          },
          "metadata": {},
          "execution_count": 436
        }
      ]
    },
    {
      "cell_type": "code",
      "metadata": {
        "colab": {
          "base_uri": "https://localhost:8080/"
        },
        "id": "8ILQK7zD9Bvk",
        "outputId": "14668974-5db5-4858-a3a3-e103618179e1"
      },
      "source": [
        "y_train.shape"
      ],
      "execution_count": null,
      "outputs": [
        {
          "output_type": "execute_result",
          "data": {
            "text/plain": [
              "(85271,)"
            ]
          },
          "metadata": {},
          "execution_count": 437
        }
      ]
    },
    {
      "cell_type": "code",
      "metadata": {
        "colab": {
          "base_uri": "https://localhost:8080/"
        },
        "id": "Fen2ho2W8KMk",
        "outputId": "8c1d1f28-f4b9-472d-cded-f7c1de67ebcc"
      },
      "source": [
        "z = np.zeros((train_predict.shape[0],6), dtype=np.int64)\n",
        "train_predict2=np.append(train_predict, z, axis=1)\n",
        "train_predict2.shape\n",
        "\n",
        "z = np.zeros((test_predict.shape[0],6), dtype=np.int64)\n",
        "test_predict2=np.append(test_predict, z, axis=1)\n",
        "test_predict2.shape"
      ],
      "execution_count": null,
      "outputs": [
        {
          "output_type": "execute_result",
          "data": {
            "text/plain": [
              "(56848, 7)"
            ]
          },
          "metadata": {},
          "execution_count": 438
        }
      ]
    },
    {
      "cell_type": "code",
      "metadata": {
        "id": "xBQ3E6wy-Qp-",
        "colab": {
          "base_uri": "https://localhost:8080/",
          "height": 231
        },
        "outputId": "726fe269-9068-490d-f1d9-16d8db2da74f"
      },
      "source": [
        "# invert predictions\n",
        "\n",
        "train_predict3 = scaler.inverse_transform(train_predict2)\n",
        "#y_train = scaler.inverse_transform([y_train])\n",
        "test_predict3 = scaler.inverse_transform(test_predict2)\n",
        "#y_test = scaler.inverse_transform([y_test])"
      ],
      "execution_count": null,
      "outputs": [
        {
          "output_type": "error",
          "ename": "NameError",
          "evalue": "ignored",
          "traceback": [
            "\u001b[0;31m---------------------------------------------------------------------------\u001b[0m",
            "\u001b[0;31mNameError\u001b[0m                                 Traceback (most recent call last)",
            "\u001b[0;32m<ipython-input-2-cb57c0765f03>\u001b[0m in \u001b[0;36m<module>\u001b[0;34m()\u001b[0m\n\u001b[1;32m      1\u001b[0m \u001b[0;31m# invert predictions\u001b[0m\u001b[0;34m\u001b[0m\u001b[0;34m\u001b[0m\u001b[0;34m\u001b[0m\u001b[0m\n\u001b[1;32m      2\u001b[0m \u001b[0;34m\u001b[0m\u001b[0m\n\u001b[0;32m----> 3\u001b[0;31m \u001b[0mtrain_predict3\u001b[0m \u001b[0;34m=\u001b[0m \u001b[0mscaler\u001b[0m\u001b[0;34m.\u001b[0m\u001b[0minverse_transform\u001b[0m\u001b[0;34m(\u001b[0m\u001b[0mtrain_predict2\u001b[0m\u001b[0;34m)\u001b[0m\u001b[0;34m\u001b[0m\u001b[0;34m\u001b[0m\u001b[0m\n\u001b[0m\u001b[1;32m      4\u001b[0m \u001b[0;31m#y_train = scaler.inverse_transform([y_train])\u001b[0m\u001b[0;34m\u001b[0m\u001b[0;34m\u001b[0m\u001b[0;34m\u001b[0m\u001b[0m\n\u001b[1;32m      5\u001b[0m \u001b[0mtest_predict3\u001b[0m \u001b[0;34m=\u001b[0m \u001b[0mscaler\u001b[0m\u001b[0;34m.\u001b[0m\u001b[0minverse_transform\u001b[0m\u001b[0;34m(\u001b[0m\u001b[0mtest_predict2\u001b[0m\u001b[0;34m)\u001b[0m\u001b[0;34m\u001b[0m\u001b[0;34m\u001b[0m\u001b[0m\n",
            "\u001b[0;31mNameError\u001b[0m: name 'scaler' is not defined"
          ]
        }
      ]
    },
    {
      "cell_type": "code",
      "metadata": {
        "colab": {
          "base_uri": "https://localhost:8080/",
          "height": 163
        },
        "id": "LoIxxb3yhSyH",
        "outputId": "c24f46bd-45f1-4e9e-bf18-5fce138ea898"
      },
      "source": [
        "train_predict2.shape"
      ],
      "execution_count": null,
      "outputs": [
        {
          "output_type": "error",
          "ename": "NameError",
          "evalue": "ignored",
          "traceback": [
            "\u001b[0;31m---------------------------------------------------------------------------\u001b[0m",
            "\u001b[0;31mNameError\u001b[0m                                 Traceback (most recent call last)",
            "\u001b[0;32m<ipython-input-1-cd4a143e7f4a>\u001b[0m in \u001b[0;36m<module>\u001b[0;34m()\u001b[0m\n\u001b[0;32m----> 1\u001b[0;31m \u001b[0mtrain_predict2\u001b[0m\u001b[0;34m.\u001b[0m\u001b[0mshape\u001b[0m\u001b[0;34m\u001b[0m\u001b[0;34m\u001b[0m\u001b[0m\n\u001b[0m",
            "\u001b[0;31mNameError\u001b[0m: name 'train_predict2' is not defined"
          ]
        }
      ]
    },
    {
      "cell_type": "code",
      "metadata": {
        "colab": {
          "base_uri": "https://localhost:8080/"
        },
        "id": "k169Hiiu-pRt",
        "outputId": "ad750869-27c4-4318-ca43-bb1b472e412f"
      },
      "source": [
        "train_predict3[:,0]"
      ],
      "execution_count": null,
      "outputs": [
        {
          "output_type": "execute_result",
          "data": {
            "text/plain": [
              "array([11.46641475, 11.15107423, 11.46227348, ..., 13.5930441 ,\n",
              "       12.00150609, 14.48897624])"
            ]
          },
          "metadata": {},
          "execution_count": 440
        }
      ]
    },
    {
      "cell_type": "code",
      "metadata": {
        "colab": {
          "base_uri": "https://localhost:8080/"
        },
        "id": "3dmSiQAOZ5oR",
        "outputId": "5d37026b-3a2e-41ab-d7bb-d5f58f46e3a9"
      },
      "source": [
        "print('Train Mean Absolute Error:', mean_absolute_error(y_train, train_predict3[:,0]))\n",
        "print('Train Root Mean Squared Error:',np.sqrt(mean_squared_error(y_train, train_predict3[:,0])))\n",
        "print('Test Mean Absolute Error:', mean_absolute_error(y_test, test_predict3[:,0]))\n",
        "print('Test Root Mean Squared Error:',np.sqrt(mean_squared_error(y_test, test_predict3[:,0])))"
      ],
      "execution_count": null,
      "outputs": [
        {
          "output_type": "stream",
          "name": "stdout",
          "text": [
            "Train Mean Absolute Error: 11.483963278837287\n",
            "Train Root Mean Squared Error: 11.619462533194804\n",
            "Test Mean Absolute Error: 11.489873426364861\n",
            "Test Root Mean Squared Error: 11.62519924136153\n"
          ]
        }
      ]
    },
    {
      "cell_type": "code",
      "metadata": {
        "colab": {
          "base_uri": "https://localhost:8080/"
        },
        "id": "UpbzmGfcDYsD",
        "outputId": "1ee96293-2911-4976-9f32-1ff4f611080f"
      },
      "source": [
        "y_test3[1:5]"
      ],
      "execution_count": null,
      "outputs": [
        {
          "output_type": "execute_result",
          "data": {
            "text/plain": [
              "array([0.42418453, 0.70184814, 0.61028401, 0.74407392])"
            ]
          },
          "metadata": {},
          "execution_count": 442
        }
      ]
    },
    {
      "cell_type": "code",
      "metadata": {
        "colab": {
          "base_uri": "https://localhost:8080/"
        },
        "id": "RJU_dNSAJPV3",
        "outputId": "8c855dc4-c7dd-4386-f48f-05cb54c3a4d1"
      },
      "source": [
        "test_predict3.shape\n"
      ],
      "execution_count": null,
      "outputs": [
        {
          "output_type": "execute_result",
          "data": {
            "text/plain": [
              "(56848, 7)"
            ]
          },
          "metadata": {},
          "execution_count": 443
        }
      ]
    },
    {
      "cell_type": "code",
      "metadata": {
        "colab": {
          "base_uri": "https://localhost:8080/",
          "height": 295
        },
        "id": "F4FgvyxuZ8bK",
        "outputId": "4898cf87-0d0f-4bd8-ee11-82a5c0c04ace"
      },
      "source": [
        "plt.figure(figsize=(8,4))\n",
        "plt.plot(history.history['loss'], label='Train Loss')\n",
        "plt.plot(history.history['val_loss'], label='Test Loss')\n",
        "plt.title('model loss')\n",
        "plt.ylabel('loss')\n",
        "plt.xlabel('epochs')\n",
        "plt.legend(loc='upper right')\n",
        "plt.show();"
      ],
      "execution_count": null,
      "outputs": [
        {
          "output_type": "display_data",
          "data": {
            "image/png": "[encoded data removed]",
            "text/plain": [
              "<Figure size 576x288 with 1 Axes>"
            ]
          },
          "metadata": {}
        }
      ]
    },
    {
      "cell_type": "code",
      "metadata": {
        "colab": {
          "base_uri": "https://localhost:8080/",
          "height": 231
        },
        "id": "0Z42pzCpZ_SO",
        "outputId": "6c986560-b84f-4f09-ee7a-20d112c1c9ca"
      },
      "source": [
        "aa=[x for x in range(40)]\n",
        "plt.figure(figsize=(18,15))\n",
        "plt.plot(aa, 100*y_test3[20:60], marker='.', label=\"actual\")\n",
        "plt.plot(aa, 100*test_predict[:,0][20:60], 'r', label=\"prediction\")\n",
        "# plt.tick_params(left=False, labelleft=True) #remove ticks\n",
        "plt.tight_layout()\n",
        "sns.despine(top=True)\n",
        "plt.subplots_adjust(left=0.07)\n",
        "plt.ylabel('SOC', size=8)\n",
        "plt.xlabel('Time step', size=15)\n",
        "plt.legend(fontsize=15)\n",
        "plt.show();"
      ],
      "execution_count": null,
      "outputs": [
        {
          "output_type": "error",
          "ename": "NameError",
          "evalue": "ignored",
          "traceback": [
            "\u001b[0;31m---------------------------------------------------------------------------\u001b[0m",
            "\u001b[0;31mNameError\u001b[0m                                 Traceback (most recent call last)",
            "\u001b[0;32m<ipython-input-1-3757578982d9>\u001b[0m in \u001b[0;36m<module>\u001b[0;34m()\u001b[0m\n\u001b[1;32m      1\u001b[0m \u001b[0maa\u001b[0m\u001b[0;34m=\u001b[0m\u001b[0;34m[\u001b[0m\u001b[0mx\u001b[0m \u001b[0;32mfor\u001b[0m \u001b[0mx\u001b[0m \u001b[0;32min\u001b[0m \u001b[0mrange\u001b[0m\u001b[0;34m(\u001b[0m\u001b[0;36m40\u001b[0m\u001b[0;34m)\u001b[0m\u001b[0;34m]\u001b[0m\u001b[0;34m\u001b[0m\u001b[0;34m\u001b[0m\u001b[0m\n\u001b[0;32m----> 2\u001b[0;31m \u001b[0mplt\u001b[0m\u001b[0;34m.\u001b[0m\u001b[0mfigure\u001b[0m\u001b[0;34m(\u001b[0m\u001b[0mfigsize\u001b[0m\u001b[0;34m=\u001b[0m\u001b[0;34m(\u001b[0m\u001b[0;36m18\u001b[0m\u001b[0;34m,\u001b[0m\u001b[0;36m15\u001b[0m\u001b[0;34m)\u001b[0m\u001b[0;34m)\u001b[0m\u001b[0;34m\u001b[0m\u001b[0;34m\u001b[0m\u001b[0m\n\u001b[0m\u001b[1;32m      3\u001b[0m \u001b[0mplt\u001b[0m\u001b[0;34m.\u001b[0m\u001b[0mplot\u001b[0m\u001b[0;34m(\u001b[0m\u001b[0maa\u001b[0m\u001b[0;34m,\u001b[0m \u001b[0;36m100\u001b[0m\u001b[0;34m*\u001b[0m\u001b[0my_test3\u001b[0m\u001b[0;34m[\u001b[0m\u001b[0;36m20\u001b[0m\u001b[0;34m:\u001b[0m\u001b[0;36m60\u001b[0m\u001b[0;34m]\u001b[0m\u001b[0;34m,\u001b[0m \u001b[0mmarker\u001b[0m\u001b[0;34m=\u001b[0m\u001b[0;34m'.'\u001b[0m\u001b[0;34m,\u001b[0m \u001b[0mlabel\u001b[0m\u001b[0;34m=\u001b[0m\u001b[0;34m\"actual\"\u001b[0m\u001b[0;34m)\u001b[0m\u001b[0;34m\u001b[0m\u001b[0;34m\u001b[0m\u001b[0m\n\u001b[1;32m      4\u001b[0m \u001b[0mplt\u001b[0m\u001b[0;34m.\u001b[0m\u001b[0mplot\u001b[0m\u001b[0;34m(\u001b[0m\u001b[0maa\u001b[0m\u001b[0;34m,\u001b[0m \u001b[0;36m100\u001b[0m\u001b[0;34m*\u001b[0m\u001b[0mtest_predict\u001b[0m\u001b[0;34m[\u001b[0m\u001b[0;34m:\u001b[0m\u001b[0;34m,\u001b[0m\u001b[0;36m0\u001b[0m\u001b[0;34m]\u001b[0m\u001b[0;34m[\u001b[0m\u001b[0;36m20\u001b[0m\u001b[0;34m:\u001b[0m\u001b[0;36m60\u001b[0m\u001b[0;34m]\u001b[0m\u001b[0;34m,\u001b[0m \u001b[0;34m'r'\u001b[0m\u001b[0;34m,\u001b[0m \u001b[0mlabel\u001b[0m\u001b[0;34m=\u001b[0m\u001b[0;34m\"prediction\"\u001b[0m\u001b[0;34m)\u001b[0m\u001b[0;34m\u001b[0m\u001b[0;34m\u001b[0m\u001b[0m\n\u001b[1;32m      5\u001b[0m \u001b[0;31m# plt.tick_params(left=False, labelleft=True) #remove ticks\u001b[0m\u001b[0;34m\u001b[0m\u001b[0;34m\u001b[0m\u001b[0;34m\u001b[0m\u001b[0m\n",
            "\u001b[0;31mNameError\u001b[0m: name 'plt' is not defined"
          ]
        }
      ]
    }
  ]
}
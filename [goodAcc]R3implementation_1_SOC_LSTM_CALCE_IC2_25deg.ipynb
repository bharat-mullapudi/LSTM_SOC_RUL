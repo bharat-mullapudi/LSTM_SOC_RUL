{
  "nbformat": 4,
  "nbformat_minor": 0,
  "metadata": {
    "colab": {
      "name": "R3implementation_1_SOC_LSTM_CALCE_IC2_25deg.ipynb",
      "provenance": [],
      "collapsed_sections": [],
      "mount_file_id": "1i7AAoUvs8slVYi7ARI5TC-oPVQIVDEbH",
      "authorship_tag": "ABX9TyNPWy6bV2PVGDInX5KIlLDS",
      "include_colab_link": true
    },
    "kernelspec": {
      "name": "python3",
      "display_name": "Python 3"
    },
    "language_info": {
      "name": "python"
    }
  },
  "cells": [
    {
      "cell_type": "markdown",
      "metadata": {
        "id": "view-in-github",
        "colab_type": "text"
      },
      "source": [
        "<a href=\"https://colab.research.google.com/github/bharat-mullapudi/LSTM_SOC_RUL/blob/main/%5BgoodAcc%5DR3implementation_1_SOC_LSTM_CALCE_IC2_25deg.ipynb\" target=\"_parent\"><img src=\"https://colab.research.google.com/assets/colab-badge.svg\" alt=\"Open In Colab\"/></a>"
      ]
    },
    {
      "cell_type": "code",
      "metadata": {
        "colab": {
          "base_uri": "https://localhost:8080/"
        },
        "id": "V5wlvJX-tvun",
        "outputId": "5e345877-1326-44c0-8781-1d60ec71ebb0"
      },
      "source": [
        "from google.colab import drive\n",
        "drive.mount('/content/drive/')"
      ],
      "execution_count": 1,
      "outputs": [
        {
          "output_type": "stream",
          "name": "stdout",
          "text": [
            "Mounted at /content/drive/\n"
          ]
        }
      ]
    },
    {
      "cell_type": "code",
      "metadata": {
        "id": "tI6EDld8uL52"
      },
      "source": [
        "import numpy as np\n",
        "import pandas as pd\n",
        "import matplotlib.pyplot as plt\n",
        "from google.colab import files\n",
        "import seaborn as sns\n"
      ],
      "execution_count": 2,
      "outputs": []
    },
    {
      "cell_type": "code",
      "metadata": {
        "id": "Ju4NGqAquQk9"
      },
      "source": [
        "df = pd.read_excel('/content/drive/MyDrive/LSTM_SOC_Implementation/calce_incremental_INR_18650-20R/Incremental_temp_25.xlsx')"
      ],
      "execution_count": 3,
      "outputs": []
    },
    {
      "cell_type": "code",
      "metadata": {
        "colab": {
          "base_uri": "https://localhost:8080/",
          "height": 423
        },
        "id": "vKmhVn9DO0Mo",
        "outputId": "6b21f77f-87da-4b88-809e-b9d627714f8e"
      },
      "source": [
        "df"
      ],
      "execution_count": 4,
      "outputs": [
        {
          "output_type": "execute_result",
          "data": {
            "text/html": [
              "<div>\n",
              "<style scoped>\n",
              "    .dataframe tbody tr th:only-of-type {\n",
              "        vertical-align: middle;\n",
              "    }\n",
              "\n",
              "    .dataframe tbody tr th {\n",
              "        vertical-align: top;\n",
              "    }\n",
              "\n",
              "    .dataframe thead th {\n",
              "        text-align: right;\n",
              "    }\n",
              "</style>\n",
              "<table border=\"1\" class=\"dataframe\">\n",
              "  <thead>\n",
              "    <tr style=\"text-align: right;\">\n",
              "      <th></th>\n",
              "      <th>Test_Time(s)</th>\n",
              "      <th>Cycle_Index</th>\n",
              "      <th>Current(A)</th>\n",
              "      <th>Voltage(V)</th>\n",
              "      <th>Charge_Capacity(Ah)</th>\n",
              "      <th>Discharge_Capacity(Ah)</th>\n",
              "      <th>TimeDelta</th>\n",
              "      <th>SOC</th>\n",
              "    </tr>\n",
              "  </thead>\n",
              "  <tbody>\n",
              "    <tr>\n",
              "      <th>0</th>\n",
              "      <td>10.000167</td>\n",
              "      <td>1.0</td>\n",
              "      <td>0.0</td>\n",
              "      <td>4.166209</td>\n",
              "      <td>0.0</td>\n",
              "      <td>0.0</td>\n",
              "      <td>1</td>\n",
              "      <td>0.97</td>\n",
              "    </tr>\n",
              "    <tr>\n",
              "      <th>1</th>\n",
              "      <td>20.015713</td>\n",
              "      <td>1.0</td>\n",
              "      <td>0.0</td>\n",
              "      <td>4.166047</td>\n",
              "      <td>0.0</td>\n",
              "      <td>0.0</td>\n",
              "      <td>10.0155</td>\n",
              "      <td>0.980028</td>\n",
              "    </tr>\n",
              "    <tr>\n",
              "      <th>2</th>\n",
              "      <td>30.031239</td>\n",
              "      <td>1.0</td>\n",
              "      <td>0.0</td>\n",
              "      <td>4.166047</td>\n",
              "      <td>0.0</td>\n",
              "      <td>0.0</td>\n",
              "      <td>10.0155</td>\n",
              "      <td>0.980028</td>\n",
              "    </tr>\n",
              "    <tr>\n",
              "      <th>3</th>\n",
              "      <td>40.046793</td>\n",
              "      <td>1.0</td>\n",
              "      <td>0.0</td>\n",
              "      <td>4.166209</td>\n",
              "      <td>0.0</td>\n",
              "      <td>0.0</td>\n",
              "      <td>10.0156</td>\n",
              "      <td>0.980123</td>\n",
              "    </tr>\n",
              "    <tr>\n",
              "      <th>4</th>\n",
              "      <td>50.062341</td>\n",
              "      <td>1.0</td>\n",
              "      <td>0.0</td>\n",
              "      <td>4.166047</td>\n",
              "      <td>0.0</td>\n",
              "      <td>0.0</td>\n",
              "      <td>10.0155</td>\n",
              "      <td>0.980028</td>\n",
              "    </tr>\n",
              "    <tr>\n",
              "      <th>...</th>\n",
              "      <td>...</td>\n",
              "      <td>...</td>\n",
              "      <td>...</td>\n",
              "      <td>...</td>\n",
              "      <td>...</td>\n",
              "      <td>...</td>\n",
              "      <td>...</td>\n",
              "      <td>...</td>\n",
              "    </tr>\n",
              "    <tr>\n",
              "      <th>1048570</th>\n",
              "      <td>NaN</td>\n",
              "      <td>NaN</td>\n",
              "      <td>NaN</td>\n",
              "      <td>NaN</td>\n",
              "      <td>NaN</td>\n",
              "      <td>NaN</td>\n",
              "      <td></td>\n",
              "      <td></td>\n",
              "    </tr>\n",
              "    <tr>\n",
              "      <th>1048571</th>\n",
              "      <td>NaN</td>\n",
              "      <td>NaN</td>\n",
              "      <td>NaN</td>\n",
              "      <td>NaN</td>\n",
              "      <td>NaN</td>\n",
              "      <td>NaN</td>\n",
              "      <td></td>\n",
              "      <td></td>\n",
              "    </tr>\n",
              "    <tr>\n",
              "      <th>1048572</th>\n",
              "      <td>NaN</td>\n",
              "      <td>NaN</td>\n",
              "      <td>NaN</td>\n",
              "      <td>NaN</td>\n",
              "      <td>NaN</td>\n",
              "      <td>NaN</td>\n",
              "      <td></td>\n",
              "      <td></td>\n",
              "    </tr>\n",
              "    <tr>\n",
              "      <th>1048573</th>\n",
              "      <td>NaN</td>\n",
              "      <td>NaN</td>\n",
              "      <td>NaN</td>\n",
              "      <td>NaN</td>\n",
              "      <td>NaN</td>\n",
              "      <td>NaN</td>\n",
              "      <td></td>\n",
              "      <td></td>\n",
              "    </tr>\n",
              "    <tr>\n",
              "      <th>1048574</th>\n",
              "      <td>NaN</td>\n",
              "      <td>NaN</td>\n",
              "      <td>NaN</td>\n",
              "      <td>NaN</td>\n",
              "      <td>NaN</td>\n",
              "      <td>NaN</td>\n",
              "      <td></td>\n",
              "      <td></td>\n",
              "    </tr>\n",
              "  </tbody>\n",
              "</table>\n",
              "<p>1048575 rows × 8 columns</p>\n",
              "</div>"
            ],
            "text/plain": [
              "         Test_Time(s)  Cycle_Index  ...  TimeDelta       SOC\n",
              "0           10.000167          1.0  ...          1      0.97\n",
              "1           20.015713          1.0  ...    10.0155  0.980028\n",
              "2           30.031239          1.0  ...    10.0155  0.980028\n",
              "3           40.046793          1.0  ...    10.0156  0.980123\n",
              "4           50.062341          1.0  ...    10.0155  0.980028\n",
              "...               ...          ...  ...        ...       ...\n",
              "1048570           NaN          NaN  ...                     \n",
              "1048571           NaN          NaN  ...                     \n",
              "1048572           NaN          NaN  ...                     \n",
              "1048573           NaN          NaN  ...                     \n",
              "1048574           NaN          NaN  ...                     \n",
              "\n",
              "[1048575 rows x 8 columns]"
            ]
          },
          "metadata": {},
          "execution_count": 4
        }
      ]
    },
    {
      "cell_type": "code",
      "metadata": {
        "id": "zXneLTAPvFFs"
      },
      "source": [
        "df=df.dropna()"
      ],
      "execution_count": 5,
      "outputs": []
    },
    {
      "cell_type": "code",
      "metadata": {
        "id": "CrVQ2ETgCrim"
      },
      "source": [
        "combined_data=df"
      ],
      "execution_count": 7,
      "outputs": []
    },
    {
      "cell_type": "code",
      "metadata": {
        "id": "HAjkmkUaqh0E"
      },
      "source": [
        "combined_data.to_csv('Incremental_Init_25.csv')\n",
        "combined_data=pd.read_csv('Incremental_Init_25.csv')"
      ],
      "execution_count": 8,
      "outputs": []
    },
    {
      "cell_type": "code",
      "metadata": {
        "colab": {
          "base_uri": "https://localhost:8080/",
          "height": 300
        },
        "id": "oLqTe4j6GuNp",
        "outputId": "26d7446e-1a57-4532-d3c4-47dca1ec58ef"
      },
      "source": [
        "combined_data.describe()"
      ],
      "execution_count": 9,
      "outputs": [
        {
          "output_type": "execute_result",
          "data": {
            "text/html": [
              "<div>\n",
              "<style scoped>\n",
              "    .dataframe tbody tr th:only-of-type {\n",
              "        vertical-align: middle;\n",
              "    }\n",
              "\n",
              "    .dataframe tbody tr th {\n",
              "        vertical-align: top;\n",
              "    }\n",
              "\n",
              "    .dataframe thead th {\n",
              "        text-align: right;\n",
              "    }\n",
              "</style>\n",
              "<table border=\"1\" class=\"dataframe\">\n",
              "  <thead>\n",
              "    <tr style=\"text-align: right;\">\n",
              "      <th></th>\n",
              "      <th>Unnamed: 0</th>\n",
              "      <th>Test_Time(s)</th>\n",
              "      <th>Cycle_Index</th>\n",
              "      <th>Current(A)</th>\n",
              "      <th>Voltage(V)</th>\n",
              "      <th>Charge_Capacity(Ah)</th>\n",
              "      <th>Discharge_Capacity(Ah)</th>\n",
              "      <th>TimeDelta</th>\n",
              "      <th>SOC</th>\n",
              "    </tr>\n",
              "  </thead>\n",
              "  <tbody>\n",
              "    <tr>\n",
              "      <th>count</th>\n",
              "      <td>142119.000000</td>\n",
              "      <td>142119.000000</td>\n",
              "      <td>142119.000000</td>\n",
              "      <td>142119.000000</td>\n",
              "      <td>142119.000000</td>\n",
              "      <td>142119.000000</td>\n",
              "      <td>142119.000000</td>\n",
              "      <td>142119.000000</td>\n",
              "      <td>142119.000000</td>\n",
              "    </tr>\n",
              "    <tr>\n",
              "      <th>mean</th>\n",
              "      <td>71059.000000</td>\n",
              "      <td>78705.582922</td>\n",
              "      <td>9.029032</td>\n",
              "      <td>-0.007765</td>\n",
              "      <td>3.684208</td>\n",
              "      <td>0.412327</td>\n",
              "      <td>1.481353</td>\n",
              "      <td>1.058963</td>\n",
              "      <td>0.691114</td>\n",
              "    </tr>\n",
              "    <tr>\n",
              "      <th>std</th>\n",
              "      <td>41026.365791</td>\n",
              "      <td>41479.490967</td>\n",
              "      <td>4.802561</td>\n",
              "      <td>0.303031</td>\n",
              "      <td>0.207378</td>\n",
              "      <td>0.539736</td>\n",
              "      <td>0.625663</td>\n",
              "      <td>0.660660</td>\n",
              "      <td>0.118811</td>\n",
              "    </tr>\n",
              "    <tr>\n",
              "      <th>min</th>\n",
              "      <td>0.000000</td>\n",
              "      <td>10.000167</td>\n",
              "      <td>1.000000</td>\n",
              "      <td>-1.000233</td>\n",
              "      <td>2.499903</td>\n",
              "      <td>0.000000</td>\n",
              "      <td>0.000000</td>\n",
              "      <td>0.000000</td>\n",
              "      <td>0.000000</td>\n",
              "    </tr>\n",
              "    <tr>\n",
              "      <th>25%</th>\n",
              "      <td>35529.500000</td>\n",
              "      <td>42831.169001</td>\n",
              "      <td>5.000000</td>\n",
              "      <td>0.000000</td>\n",
              "      <td>3.577119</td>\n",
              "      <td>0.016146</td>\n",
              "      <td>0.999809</td>\n",
              "      <td>1.000083</td>\n",
              "      <td>0.633504</td>\n",
              "    </tr>\n",
              "    <tr>\n",
              "      <th>50%</th>\n",
              "      <td>71059.000000</td>\n",
              "      <td>78728.254274</td>\n",
              "      <td>9.000000</td>\n",
              "      <td>0.000000</td>\n",
              "      <td>3.661715</td>\n",
              "      <td>0.016146</td>\n",
              "      <td>1.799699</td>\n",
              "      <td>1.015559</td>\n",
              "      <td>0.672399</td>\n",
              "    </tr>\n",
              "    <tr>\n",
              "      <th>75%</th>\n",
              "      <td>106588.500000</td>\n",
              "      <td>114616.556029</td>\n",
              "      <td>13.000000</td>\n",
              "      <td>0.000000</td>\n",
              "      <td>3.839495</td>\n",
              "      <td>0.815788</td>\n",
              "      <td>1.987336</td>\n",
              "      <td>1.015613</td>\n",
              "      <td>0.787366</td>\n",
              "    </tr>\n",
              "    <tr>\n",
              "      <th>max</th>\n",
              "      <td>142118.000000</td>\n",
              "      <td>150507.800260</td>\n",
              "      <td>18.000000</td>\n",
              "      <td>0.999904</td>\n",
              "      <td>4.375753</td>\n",
              "      <td>1.692307</td>\n",
              "      <td>1.987336</td>\n",
              "      <td>10.017162</td>\n",
              "      <td>0.988512</td>\n",
              "    </tr>\n",
              "  </tbody>\n",
              "</table>\n",
              "</div>"
            ],
            "text/plain": [
              "          Unnamed: 0   Test_Time(s)  ...      TimeDelta            SOC\n",
              "count  142119.000000  142119.000000  ...  142119.000000  142119.000000\n",
              "mean    71059.000000   78705.582922  ...       1.058963       0.691114\n",
              "std     41026.365791   41479.490967  ...       0.660660       0.118811\n",
              "min         0.000000      10.000167  ...       0.000000       0.000000\n",
              "25%     35529.500000   42831.169001  ...       1.000083       0.633504\n",
              "50%     71059.000000   78728.254274  ...       1.015559       0.672399\n",
              "75%    106588.500000  114616.556029  ...       1.015613       0.787366\n",
              "max    142118.000000  150507.800260  ...      10.017162       0.988512\n",
              "\n",
              "[8 rows x 9 columns]"
            ]
          },
          "metadata": {},
          "execution_count": 9
        }
      ]
    },
    {
      "cell_type": "code",
      "metadata": {
        "colab": {
          "base_uri": "https://localhost:8080/",
          "height": 17
        },
        "id": "hpknBqegD2f3",
        "outputId": "1ea1dcb7-823c-406b-97b5-7da18970ffe1"
      },
      "source": [
        "combined_data.to_csv('merged0.csv')"
      ],
      "execution_count": null,
      "outputs": [
        {
          "output_type": "display_data",
          "data": {
            "application/javascript": [
              "\n",
              "    async function download(id, filename, size) {\n",
              "      if (!google.colab.kernel.accessAllowed) {\n",
              "        return;\n",
              "      }\n",
              "      const div = document.createElement('div');\n",
              "      const label = document.createElement('label');\n",
              "      label.textContent = `Downloading \"${filename}\": `;\n",
              "      div.appendChild(label);\n",
              "      const progress = document.createElement('progress');\n",
              "      progress.max = size;\n",
              "      div.appendChild(progress);\n",
              "      document.body.appendChild(div);\n",
              "\n",
              "      const buffers = [];\n",
              "      let downloaded = 0;\n",
              "\n",
              "      const channel = await google.colab.kernel.comms.open(id);\n",
              "      // Send a message to notify the kernel that we're ready.\n",
              "      channel.send({})\n",
              "\n",
              "      for await (const message of channel.messages) {\n",
              "        // Send a message to notify the kernel that we're ready.\n",
              "        channel.send({})\n",
              "        if (message.buffers) {\n",
              "          for (const buffer of message.buffers) {\n",
              "            buffers.push(buffer);\n",
              "            downloaded += buffer.byteLength;\n",
              "            progress.value = downloaded;\n",
              "          }\n",
              "        }\n",
              "      }\n",
              "      const blob = new Blob(buffers, {type: 'application/binary'});\n",
              "      const a = document.createElement('a');\n",
              "      a.href = window.URL.createObjectURL(blob);\n",
              "      a.download = filename;\n",
              "      div.appendChild(a);\n",
              "      a.click();\n",
              "      div.remove();\n",
              "    }\n",
              "  "
            ],
            "text/plain": [
              "<IPython.core.display.Javascript object>"
            ]
          },
          "metadata": {}
        },
        {
          "output_type": "display_data",
          "data": {
            "application/javascript": [
              "download(\"download_a701667c-fe3d-492a-b267-be1aea77901e\", \"merged0.csv\", 29806207)"
            ],
            "text/plain": [
              "<IPython.core.display.Javascript object>"
            ]
          },
          "metadata": {}
        }
      ]
    },
    {
      "cell_type": "code",
      "metadata": {
        "id": "TXN7irT9lVh_"
      },
      "source": [
        "files.download('merged0.csv')"
      ],
      "execution_count": null,
      "outputs": []
    },
    {
      "cell_type": "code",
      "metadata": {
        "id": "2nMfX0Z056Fe"
      },
      "source": [
        "###\n",
        "combined_data=combined_data.drop_duplicates()\n",
        "#combined_data.set_index('Data_Point',inplace=True)\n",
        "#cd2=combined_data.drop(63990)\n",
        "#cdcombined_data.drop(127979)\n",
        "\n",
        "#cd2=combined_data;"
      ],
      "execution_count": 12,
      "outputs": []
    },
    {
      "cell_type": "code",
      "source": [
        "combined_data"
      ],
      "metadata": {
        "colab": {
          "base_uri": "https://localhost:8080/",
          "height": 423
        },
        "id": "6NHZKiuogMXL",
        "outputId": "006015f5-cdd3-4dc7-c1e9-96e39d2eccd8"
      },
      "execution_count": 13,
      "outputs": [
        {
          "output_type": "execute_result",
          "data": {
            "text/html": [
              "<div>\n",
              "<style scoped>\n",
              "    .dataframe tbody tr th:only-of-type {\n",
              "        vertical-align: middle;\n",
              "    }\n",
              "\n",
              "    .dataframe tbody tr th {\n",
              "        vertical-align: top;\n",
              "    }\n",
              "\n",
              "    .dataframe thead th {\n",
              "        text-align: right;\n",
              "    }\n",
              "</style>\n",
              "<table border=\"1\" class=\"dataframe\">\n",
              "  <thead>\n",
              "    <tr style=\"text-align: right;\">\n",
              "      <th></th>\n",
              "      <th>Unnamed: 0</th>\n",
              "      <th>Test_Time(s)</th>\n",
              "      <th>Cycle_Index</th>\n",
              "      <th>Current(A)</th>\n",
              "      <th>Voltage(V)</th>\n",
              "      <th>Charge_Capacity(Ah)</th>\n",
              "      <th>Discharge_Capacity(Ah)</th>\n",
              "      <th>TimeDelta</th>\n",
              "      <th>SOC</th>\n",
              "    </tr>\n",
              "  </thead>\n",
              "  <tbody>\n",
              "    <tr>\n",
              "      <th>0</th>\n",
              "      <td>0</td>\n",
              "      <td>10.000167</td>\n",
              "      <td>1.0</td>\n",
              "      <td>0.000000</td>\n",
              "      <td>4.166209</td>\n",
              "      <td>0.000000</td>\n",
              "      <td>0.000000</td>\n",
              "      <td>1.000000</td>\n",
              "      <td>0.970000</td>\n",
              "    </tr>\n",
              "    <tr>\n",
              "      <th>1</th>\n",
              "      <td>1</td>\n",
              "      <td>20.015713</td>\n",
              "      <td>1.0</td>\n",
              "      <td>0.000000</td>\n",
              "      <td>4.166047</td>\n",
              "      <td>0.000000</td>\n",
              "      <td>0.000000</td>\n",
              "      <td>10.015546</td>\n",
              "      <td>0.980028</td>\n",
              "    </tr>\n",
              "    <tr>\n",
              "      <th>2</th>\n",
              "      <td>2</td>\n",
              "      <td>30.031239</td>\n",
              "      <td>1.0</td>\n",
              "      <td>0.000000</td>\n",
              "      <td>4.166047</td>\n",
              "      <td>0.000000</td>\n",
              "      <td>0.000000</td>\n",
              "      <td>10.015526</td>\n",
              "      <td>0.980028</td>\n",
              "    </tr>\n",
              "    <tr>\n",
              "      <th>3</th>\n",
              "      <td>3</td>\n",
              "      <td>40.046793</td>\n",
              "      <td>1.0</td>\n",
              "      <td>0.000000</td>\n",
              "      <td>4.166209</td>\n",
              "      <td>0.000000</td>\n",
              "      <td>0.000000</td>\n",
              "      <td>10.015553</td>\n",
              "      <td>0.980123</td>\n",
              "    </tr>\n",
              "    <tr>\n",
              "      <th>4</th>\n",
              "      <td>4</td>\n",
              "      <td>50.062341</td>\n",
              "      <td>1.0</td>\n",
              "      <td>0.000000</td>\n",
              "      <td>4.166047</td>\n",
              "      <td>0.000000</td>\n",
              "      <td>0.000000</td>\n",
              "      <td>10.015548</td>\n",
              "      <td>0.980028</td>\n",
              "    </tr>\n",
              "    <tr>\n",
              "      <th>...</th>\n",
              "      <td>...</td>\n",
              "      <td>...</td>\n",
              "      <td>...</td>\n",
              "      <td>...</td>\n",
              "      <td>...</td>\n",
              "      <td>...</td>\n",
              "      <td>...</td>\n",
              "      <td>...</td>\n",
              "      <td>...</td>\n",
              "    </tr>\n",
              "    <tr>\n",
              "      <th>142114</th>\n",
              "      <td>142114</td>\n",
              "      <td>150503.768645</td>\n",
              "      <td>18.0</td>\n",
              "      <td>0.999544</td>\n",
              "      <td>4.249022</td>\n",
              "      <td>1.691192</td>\n",
              "      <td>1.987336</td>\n",
              "      <td>1.015622</td>\n",
              "      <td>0.889110</td>\n",
              "    </tr>\n",
              "    <tr>\n",
              "      <th>142115</th>\n",
              "      <td>142115</td>\n",
              "      <td>150504.768729</td>\n",
              "      <td>18.0</td>\n",
              "      <td>0.999364</td>\n",
              "      <td>4.249184</td>\n",
              "      <td>1.691470</td>\n",
              "      <td>1.987336</td>\n",
              "      <td>1.000084</td>\n",
              "      <td>0.889249</td>\n",
              "    </tr>\n",
              "    <tr>\n",
              "      <th>142116</th>\n",
              "      <td>142116</td>\n",
              "      <td>150505.784258</td>\n",
              "      <td>18.0</td>\n",
              "      <td>0.999544</td>\n",
              "      <td>4.249508</td>\n",
              "      <td>1.691752</td>\n",
              "      <td>1.987336</td>\n",
              "      <td>1.015528</td>\n",
              "      <td>0.889390</td>\n",
              "    </tr>\n",
              "    <tr>\n",
              "      <th>142117</th>\n",
              "      <td>142117</td>\n",
              "      <td>150506.784411</td>\n",
              "      <td>18.0</td>\n",
              "      <td>0.999544</td>\n",
              "      <td>4.249671</td>\n",
              "      <td>1.692029</td>\n",
              "      <td>1.987336</td>\n",
              "      <td>1.000153</td>\n",
              "      <td>0.889528</td>\n",
              "    </tr>\n",
              "    <tr>\n",
              "      <th>142118</th>\n",
              "      <td>142118</td>\n",
              "      <td>150507.800260</td>\n",
              "      <td>18.0</td>\n",
              "      <td>0.999544</td>\n",
              "      <td>4.249832</td>\n",
              "      <td>1.692307</td>\n",
              "      <td>1.987336</td>\n",
              "      <td>1.015849</td>\n",
              "      <td>0.889669</td>\n",
              "    </tr>\n",
              "  </tbody>\n",
              "</table>\n",
              "<p>142119 rows × 9 columns</p>\n",
              "</div>"
            ],
            "text/plain": [
              "        Unnamed: 0   Test_Time(s)  ...  TimeDelta       SOC\n",
              "0                0      10.000167  ...   1.000000  0.970000\n",
              "1                1      20.015713  ...  10.015546  0.980028\n",
              "2                2      30.031239  ...  10.015526  0.980028\n",
              "3                3      40.046793  ...  10.015553  0.980123\n",
              "4                4      50.062341  ...  10.015548  0.980028\n",
              "...            ...            ...  ...        ...       ...\n",
              "142114      142114  150503.768645  ...   1.015622  0.889110\n",
              "142115      142115  150504.768729  ...   1.000084  0.889249\n",
              "142116      142116  150505.784258  ...   1.015528  0.889390\n",
              "142117      142117  150506.784411  ...   1.000153  0.889528\n",
              "142118      142118  150507.800260  ...   1.015849  0.889669\n",
              "\n",
              "[142119 rows x 9 columns]"
            ]
          },
          "metadata": {},
          "execution_count": 13
        }
      ]
    },
    {
      "cell_type": "code",
      "metadata": {
        "colab": {
          "base_uri": "https://localhost:8080/",
          "height": 423
        },
        "id": "lYfOvKWBml25",
        "outputId": "4041702f-fe44-4544-dd64-eb59ebbb305c"
      },
      "source": [
        "combined_data=combined_data.iloc[:,1:] #drop first column\n",
        "combined_data.shape\n",
        "combined_data"
      ],
      "execution_count": 14,
      "outputs": [
        {
          "output_type": "execute_result",
          "data": {
            "text/html": [
              "<div>\n",
              "<style scoped>\n",
              "    .dataframe tbody tr th:only-of-type {\n",
              "        vertical-align: middle;\n",
              "    }\n",
              "\n",
              "    .dataframe tbody tr th {\n",
              "        vertical-align: top;\n",
              "    }\n",
              "\n",
              "    .dataframe thead th {\n",
              "        text-align: right;\n",
              "    }\n",
              "</style>\n",
              "<table border=\"1\" class=\"dataframe\">\n",
              "  <thead>\n",
              "    <tr style=\"text-align: right;\">\n",
              "      <th></th>\n",
              "      <th>Test_Time(s)</th>\n",
              "      <th>Cycle_Index</th>\n",
              "      <th>Current(A)</th>\n",
              "      <th>Voltage(V)</th>\n",
              "      <th>Charge_Capacity(Ah)</th>\n",
              "      <th>Discharge_Capacity(Ah)</th>\n",
              "      <th>TimeDelta</th>\n",
              "      <th>SOC</th>\n",
              "    </tr>\n",
              "  </thead>\n",
              "  <tbody>\n",
              "    <tr>\n",
              "      <th>0</th>\n",
              "      <td>10.000167</td>\n",
              "      <td>1.0</td>\n",
              "      <td>0.000000</td>\n",
              "      <td>4.166209</td>\n",
              "      <td>0.000000</td>\n",
              "      <td>0.000000</td>\n",
              "      <td>1.000000</td>\n",
              "      <td>0.970000</td>\n",
              "    </tr>\n",
              "    <tr>\n",
              "      <th>1</th>\n",
              "      <td>20.015713</td>\n",
              "      <td>1.0</td>\n",
              "      <td>0.000000</td>\n",
              "      <td>4.166047</td>\n",
              "      <td>0.000000</td>\n",
              "      <td>0.000000</td>\n",
              "      <td>10.015546</td>\n",
              "      <td>0.980028</td>\n",
              "    </tr>\n",
              "    <tr>\n",
              "      <th>2</th>\n",
              "      <td>30.031239</td>\n",
              "      <td>1.0</td>\n",
              "      <td>0.000000</td>\n",
              "      <td>4.166047</td>\n",
              "      <td>0.000000</td>\n",
              "      <td>0.000000</td>\n",
              "      <td>10.015526</td>\n",
              "      <td>0.980028</td>\n",
              "    </tr>\n",
              "    <tr>\n",
              "      <th>3</th>\n",
              "      <td>40.046793</td>\n",
              "      <td>1.0</td>\n",
              "      <td>0.000000</td>\n",
              "      <td>4.166209</td>\n",
              "      <td>0.000000</td>\n",
              "      <td>0.000000</td>\n",
              "      <td>10.015553</td>\n",
              "      <td>0.980123</td>\n",
              "    </tr>\n",
              "    <tr>\n",
              "      <th>4</th>\n",
              "      <td>50.062341</td>\n",
              "      <td>1.0</td>\n",
              "      <td>0.000000</td>\n",
              "      <td>4.166047</td>\n",
              "      <td>0.000000</td>\n",
              "      <td>0.000000</td>\n",
              "      <td>10.015548</td>\n",
              "      <td>0.980028</td>\n",
              "    </tr>\n",
              "    <tr>\n",
              "      <th>...</th>\n",
              "      <td>...</td>\n",
              "      <td>...</td>\n",
              "      <td>...</td>\n",
              "      <td>...</td>\n",
              "      <td>...</td>\n",
              "      <td>...</td>\n",
              "      <td>...</td>\n",
              "      <td>...</td>\n",
              "    </tr>\n",
              "    <tr>\n",
              "      <th>142114</th>\n",
              "      <td>150503.768645</td>\n",
              "      <td>18.0</td>\n",
              "      <td>0.999544</td>\n",
              "      <td>4.249022</td>\n",
              "      <td>1.691192</td>\n",
              "      <td>1.987336</td>\n",
              "      <td>1.015622</td>\n",
              "      <td>0.889110</td>\n",
              "    </tr>\n",
              "    <tr>\n",
              "      <th>142115</th>\n",
              "      <td>150504.768729</td>\n",
              "      <td>18.0</td>\n",
              "      <td>0.999364</td>\n",
              "      <td>4.249184</td>\n",
              "      <td>1.691470</td>\n",
              "      <td>1.987336</td>\n",
              "      <td>1.000084</td>\n",
              "      <td>0.889249</td>\n",
              "    </tr>\n",
              "    <tr>\n",
              "      <th>142116</th>\n",
              "      <td>150505.784258</td>\n",
              "      <td>18.0</td>\n",
              "      <td>0.999544</td>\n",
              "      <td>4.249508</td>\n",
              "      <td>1.691752</td>\n",
              "      <td>1.987336</td>\n",
              "      <td>1.015528</td>\n",
              "      <td>0.889390</td>\n",
              "    </tr>\n",
              "    <tr>\n",
              "      <th>142117</th>\n",
              "      <td>150506.784411</td>\n",
              "      <td>18.0</td>\n",
              "      <td>0.999544</td>\n",
              "      <td>4.249671</td>\n",
              "      <td>1.692029</td>\n",
              "      <td>1.987336</td>\n",
              "      <td>1.000153</td>\n",
              "      <td>0.889528</td>\n",
              "    </tr>\n",
              "    <tr>\n",
              "      <th>142118</th>\n",
              "      <td>150507.800260</td>\n",
              "      <td>18.0</td>\n",
              "      <td>0.999544</td>\n",
              "      <td>4.249832</td>\n",
              "      <td>1.692307</td>\n",
              "      <td>1.987336</td>\n",
              "      <td>1.015849</td>\n",
              "      <td>0.889669</td>\n",
              "    </tr>\n",
              "  </tbody>\n",
              "</table>\n",
              "<p>142119 rows × 8 columns</p>\n",
              "</div>"
            ],
            "text/plain": [
              "         Test_Time(s)  Cycle_Index  ...  TimeDelta       SOC\n",
              "0           10.000167          1.0  ...   1.000000  0.970000\n",
              "1           20.015713          1.0  ...  10.015546  0.980028\n",
              "2           30.031239          1.0  ...  10.015526  0.980028\n",
              "3           40.046793          1.0  ...  10.015553  0.980123\n",
              "4           50.062341          1.0  ...  10.015548  0.980028\n",
              "...               ...          ...  ...        ...       ...\n",
              "142114  150503.768645         18.0  ...   1.015622  0.889110\n",
              "142115  150504.768729         18.0  ...   1.000084  0.889249\n",
              "142116  150505.784258         18.0  ...   1.015528  0.889390\n",
              "142117  150506.784411         18.0  ...   1.000153  0.889528\n",
              "142118  150507.800260         18.0  ...   1.015849  0.889669\n",
              "\n",
              "[142119 rows x 8 columns]"
            ]
          },
          "metadata": {},
          "execution_count": 14
        }
      ]
    },
    {
      "cell_type": "code",
      "metadata": {
        "colab": {
          "base_uri": "https://localhost:8080/",
          "height": 17
        },
        "id": "65WCm6OYoFsX",
        "outputId": "62ec2cc8-7b84-47a0-d723-8a22989705bf"
      },
      "source": [
        "combined_data.to_csv('cd.csv')\n",
        "files.download('cd.csv')"
      ],
      "execution_count": null,
      "outputs": [
        {
          "output_type": "display_data",
          "data": {
            "application/javascript": [
              "\n",
              "    async function download(id, filename, size) {\n",
              "      if (!google.colab.kernel.accessAllowed) {\n",
              "        return;\n",
              "      }\n",
              "      const div = document.createElement('div');\n",
              "      const label = document.createElement('label');\n",
              "      label.textContent = `Downloading \"${filename}\": `;\n",
              "      div.appendChild(label);\n",
              "      const progress = document.createElement('progress');\n",
              "      progress.max = size;\n",
              "      div.appendChild(progress);\n",
              "      document.body.appendChild(div);\n",
              "\n",
              "      const buffers = [];\n",
              "      let downloaded = 0;\n",
              "\n",
              "      const channel = await google.colab.kernel.comms.open(id);\n",
              "      // Send a message to notify the kernel that we're ready.\n",
              "      channel.send({})\n",
              "\n",
              "      for await (const message of channel.messages) {\n",
              "        // Send a message to notify the kernel that we're ready.\n",
              "        channel.send({})\n",
              "        if (message.buffers) {\n",
              "          for (const buffer of message.buffers) {\n",
              "            buffers.push(buffer);\n",
              "            downloaded += buffer.byteLength;\n",
              "            progress.value = downloaded;\n",
              "          }\n",
              "        }\n",
              "      }\n",
              "      const blob = new Blob(buffers, {type: 'application/binary'});\n",
              "      const a = document.createElement('a');\n",
              "      a.href = window.URL.createObjectURL(blob);\n",
              "      a.download = filename;\n",
              "      div.appendChild(a);\n",
              "      a.click();\n",
              "      div.remove();\n",
              "    }\n",
              "  "
            ],
            "text/plain": [
              "<IPython.core.display.Javascript object>"
            ]
          },
          "metadata": {}
        },
        {
          "output_type": "display_data",
          "data": {
            "application/javascript": [
              "download(\"download_67561a17-8732-4ee9-8805-347b2745beb9\", \"cd.csv\", 27699379)"
            ],
            "text/plain": [
              "<IPython.core.display.Javascript object>"
            ]
          },
          "metadata": {}
        }
      ]
    },
    {
      "cell_type": "code",
      "source": [
        "combined_data=combined_data.drop(columns=['Charge_Capacity(Ah)','Discharge_Capacity(Ah)','TimeDelta'])"
      ],
      "metadata": {
        "colab": {
          "base_uri": "https://localhost:8080/"
        },
        "id": "AaFig_2fj2kU",
        "outputId": "8ee0ab25-c924-4b18-fb8a-2896b8dd4eca"
      },
      "execution_count": 17,
      "outputs": [
        {
          "output_type": "execute_result",
          "data": {
            "text/plain": [
              "<bound method NDFrame.describe of          Test_Time(s)  Cycle_Index  Current(A)  Voltage(V)       SOC\n",
              "0           10.000167          1.0    0.000000    4.166209  0.970000\n",
              "1           20.015713          1.0    0.000000    4.166047  0.980028\n",
              "2           30.031239          1.0    0.000000    4.166047  0.980028\n",
              "3           40.046793          1.0    0.000000    4.166209  0.980123\n",
              "4           50.062341          1.0    0.000000    4.166047  0.980028\n",
              "...               ...          ...         ...         ...       ...\n",
              "142114  150503.768645         18.0    0.999544    4.249022  0.889110\n",
              "142115  150504.768729         18.0    0.999364    4.249184  0.889249\n",
              "142116  150505.784258         18.0    0.999544    4.249508  0.889390\n",
              "142117  150506.784411         18.0    0.999544    4.249671  0.889528\n",
              "142118  150507.800260         18.0    0.999544    4.249832  0.889669\n",
              "\n",
              "[142119 rows x 5 columns]>"
            ]
          },
          "metadata": {},
          "execution_count": 17
        }
      ]
    },
    {
      "cell_type": "code",
      "metadata": {
        "id": "D1gdmPPRs-kJ",
        "colab": {
          "base_uri": "https://localhost:8080/",
          "height": 298
        },
        "outputId": "dab348e5-0bb6-42b4-c9ff-711c0eec503e"
      },
      "source": [
        "combined_data.hist()\n",
        "plt.figure(figsize=(20,20))\n",
        "plt.show()"
      ],
      "execution_count": 18,
      "outputs": [
        {
          "output_type": "display_data",
          "data": {
            "image/png": "[encoded data removed]",
            "text/plain": [
              "<Figure size 432x288 with 6 Axes>"
            ]
          },
          "metadata": {
            "needs_background": "light"
          }
        },
        {
          "output_type": "display_data",
          "data": {
            "text/plain": [
              "<Figure size 1440x1440 with 0 Axes>"
            ]
          },
          "metadata": {}
        }
      ]
    },
    {
      "cell_type": "code",
      "source": [
        "combined_data=combined_data.drop(columns=['Test_Time(s)'])"
      ],
      "metadata": {
        "id": "V47_5QPvkYg1"
      },
      "execution_count": 21,
      "outputs": []
    },
    {
      "cell_type": "code",
      "metadata": {
        "colab": {
          "base_uri": "https://localhost:8080/",
          "height": 1000
        },
        "id": "_0OIEihXABYQ",
        "outputId": "05515a8b-1afd-45ca-cc1e-60ee61c1b23c"
      },
      "source": [
        "  fig = plt.figure(figsize = (15,15))\n",
        "  ax = fig.gca()\n",
        "  combined_data.hist(ax = ax)"
      ],
      "execution_count": 22,
      "outputs": [
        {
          "output_type": "stream",
          "name": "stderr",
          "text": [
            "/usr/local/lib/python3.7/dist-packages/ipykernel_launcher.py:3: UserWarning: To output multiple subplots, the figure containing the passed axes is being cleared\n",
            "  This is separate from the ipykernel package so we can avoid doing imports until\n"
          ]
        },
        {
          "output_type": "execute_result",
          "data": {
            "text/plain": [
              "array([[<matplotlib.axes._subplots.AxesSubplot object at 0x7f43823a0690>,\n",
              "        <matplotlib.axes._subplots.AxesSubplot object at 0x7f43753028d0>],\n",
              "       [<matplotlib.axes._subplots.AxesSubplot object at 0x7f4375dbddd0>,\n",
              "        <matplotlib.axes._subplots.AxesSubplot object at 0x7f4376571310>]],\n",
              "      dtype=object)"
            ]
          },
          "metadata": {},
          "execution_count": 22
        },
        {
          "output_type": "display_data",
          "data": {
            "image/png": "[encoded data removed]",
            "text/plain": [
              "<Figure size 1080x1080 with 4 Axes>"
            ]
          },
          "metadata": {
            "needs_background": "light"
          }
        }
      ]
    },
    {
      "cell_type": "code",
      "metadata": {
        "colab": {
          "base_uri": "https://localhost:8080/",
          "height": 488
        },
        "id": "AG_E_pvAvEvy",
        "outputId": "9291ba21-9e24-4115-eb12-b9b4f07f5b45"
      },
      "source": [
        "correlations = combined_data.corr()\n",
        "plt.figure(figsize=(8,8))\n",
        "sns.heatmap(correlations, cmap='RdBu_r')\n",
        "plt.show()"
      ],
      "execution_count": 23,
      "outputs": [
        {
          "output_type": "display_data",
          "data": {
            "image/png": "[encoded data removed]",
            "text/plain": [
              "<Figure size 576x576 with 2 Axes>"
            ]
          },
          "metadata": {
            "needs_background": "light"
          }
        }
      ]
    },
    {
      "cell_type": "code",
      "metadata": {
        "colab": {
          "base_uri": "https://localhost:8080/",
          "height": 300
        },
        "id": "IbtPgY8nDvbp",
        "outputId": "7a281d88-42e5-45ef-db36-8b807927bc75"
      },
      "source": [
        "combined_data.describe()"
      ],
      "execution_count": 24,
      "outputs": [
        {
          "output_type": "execute_result",
          "data": {
            "text/html": [
              "<div>\n",
              "<style scoped>\n",
              "    .dataframe tbody tr th:only-of-type {\n",
              "        vertical-align: middle;\n",
              "    }\n",
              "\n",
              "    .dataframe tbody tr th {\n",
              "        vertical-align: top;\n",
              "    }\n",
              "\n",
              "    .dataframe thead th {\n",
              "        text-align: right;\n",
              "    }\n",
              "</style>\n",
              "<table border=\"1\" class=\"dataframe\">\n",
              "  <thead>\n",
              "    <tr style=\"text-align: right;\">\n",
              "      <th></th>\n",
              "      <th>Cycle_Index</th>\n",
              "      <th>Current(A)</th>\n",
              "      <th>Voltage(V)</th>\n",
              "      <th>SOC</th>\n",
              "    </tr>\n",
              "  </thead>\n",
              "  <tbody>\n",
              "    <tr>\n",
              "      <th>count</th>\n",
              "      <td>142119.000000</td>\n",
              "      <td>142119.000000</td>\n",
              "      <td>142119.000000</td>\n",
              "      <td>142119.000000</td>\n",
              "    </tr>\n",
              "    <tr>\n",
              "      <th>mean</th>\n",
              "      <td>9.029032</td>\n",
              "      <td>-0.007765</td>\n",
              "      <td>3.684208</td>\n",
              "      <td>0.691114</td>\n",
              "    </tr>\n",
              "    <tr>\n",
              "      <th>std</th>\n",
              "      <td>4.802561</td>\n",
              "      <td>0.303031</td>\n",
              "      <td>0.207378</td>\n",
              "      <td>0.118811</td>\n",
              "    </tr>\n",
              "    <tr>\n",
              "      <th>min</th>\n",
              "      <td>1.000000</td>\n",
              "      <td>-1.000233</td>\n",
              "      <td>2.499903</td>\n",
              "      <td>0.000000</td>\n",
              "    </tr>\n",
              "    <tr>\n",
              "      <th>25%</th>\n",
              "      <td>5.000000</td>\n",
              "      <td>0.000000</td>\n",
              "      <td>3.577119</td>\n",
              "      <td>0.633504</td>\n",
              "    </tr>\n",
              "    <tr>\n",
              "      <th>50%</th>\n",
              "      <td>9.000000</td>\n",
              "      <td>0.000000</td>\n",
              "      <td>3.661715</td>\n",
              "      <td>0.672399</td>\n",
              "    </tr>\n",
              "    <tr>\n",
              "      <th>75%</th>\n",
              "      <td>13.000000</td>\n",
              "      <td>0.000000</td>\n",
              "      <td>3.839495</td>\n",
              "      <td>0.787366</td>\n",
              "    </tr>\n",
              "    <tr>\n",
              "      <th>max</th>\n",
              "      <td>18.000000</td>\n",
              "      <td>0.999904</td>\n",
              "      <td>4.375753</td>\n",
              "      <td>0.988512</td>\n",
              "    </tr>\n",
              "  </tbody>\n",
              "</table>\n",
              "</div>"
            ],
            "text/plain": [
              "         Cycle_Index     Current(A)     Voltage(V)            SOC\n",
              "count  142119.000000  142119.000000  142119.000000  142119.000000\n",
              "mean        9.029032      -0.007765       3.684208       0.691114\n",
              "std         4.802561       0.303031       0.207378       0.118811\n",
              "min         1.000000      -1.000233       2.499903       0.000000\n",
              "25%         5.000000       0.000000       3.577119       0.633504\n",
              "50%         9.000000       0.000000       3.661715       0.672399\n",
              "75%        13.000000       0.000000       3.839495       0.787366\n",
              "max        18.000000       0.999904       4.375753       0.988512"
            ]
          },
          "metadata": {},
          "execution_count": 24
        }
      ]
    },
    {
      "cell_type": "markdown",
      "metadata": {
        "id": "jej3N8-4JDj4"
      },
      "source": [
        "Deleting 0 valued columns"
      ]
    },
    {
      "cell_type": "code",
      "metadata": {
        "colab": {
          "base_uri": "https://localhost:8080/",
          "height": 300
        },
        "id": "lA5X5VM0CvOI",
        "outputId": "50b89389-be3c-42e8-e601-7af36d4e6912"
      },
      "source": [
        "#cd2=pd.read_csv('/content/drive/MyDrive/LSTM_SOC_Implementation/r1.csv')\n",
        "cd2=combined_data\n",
        "cd2.describe()"
      ],
      "execution_count": 25,
      "outputs": [
        {
          "output_type": "execute_result",
          "data": {
            "text/html": [
              "<div>\n",
              "<style scoped>\n",
              "    .dataframe tbody tr th:only-of-type {\n",
              "        vertical-align: middle;\n",
              "    }\n",
              "\n",
              "    .dataframe tbody tr th {\n",
              "        vertical-align: top;\n",
              "    }\n",
              "\n",
              "    .dataframe thead th {\n",
              "        text-align: right;\n",
              "    }\n",
              "</style>\n",
              "<table border=\"1\" class=\"dataframe\">\n",
              "  <thead>\n",
              "    <tr style=\"text-align: right;\">\n",
              "      <th></th>\n",
              "      <th>Cycle_Index</th>\n",
              "      <th>Current(A)</th>\n",
              "      <th>Voltage(V)</th>\n",
              "      <th>SOC</th>\n",
              "    </tr>\n",
              "  </thead>\n",
              "  <tbody>\n",
              "    <tr>\n",
              "      <th>count</th>\n",
              "      <td>142119.000000</td>\n",
              "      <td>142119.000000</td>\n",
              "      <td>142119.000000</td>\n",
              "      <td>142119.000000</td>\n",
              "    </tr>\n",
              "    <tr>\n",
              "      <th>mean</th>\n",
              "      <td>9.029032</td>\n",
              "      <td>-0.007765</td>\n",
              "      <td>3.684208</td>\n",
              "      <td>0.691114</td>\n",
              "    </tr>\n",
              "    <tr>\n",
              "      <th>std</th>\n",
              "      <td>4.802561</td>\n",
              "      <td>0.303031</td>\n",
              "      <td>0.207378</td>\n",
              "      <td>0.118811</td>\n",
              "    </tr>\n",
              "    <tr>\n",
              "      <th>min</th>\n",
              "      <td>1.000000</td>\n",
              "      <td>-1.000233</td>\n",
              "      <td>2.499903</td>\n",
              "      <td>0.000000</td>\n",
              "    </tr>\n",
              "    <tr>\n",
              "      <th>25%</th>\n",
              "      <td>5.000000</td>\n",
              "      <td>0.000000</td>\n",
              "      <td>3.577119</td>\n",
              "      <td>0.633504</td>\n",
              "    </tr>\n",
              "    <tr>\n",
              "      <th>50%</th>\n",
              "      <td>9.000000</td>\n",
              "      <td>0.000000</td>\n",
              "      <td>3.661715</td>\n",
              "      <td>0.672399</td>\n",
              "    </tr>\n",
              "    <tr>\n",
              "      <th>75%</th>\n",
              "      <td>13.000000</td>\n",
              "      <td>0.000000</td>\n",
              "      <td>3.839495</td>\n",
              "      <td>0.787366</td>\n",
              "    </tr>\n",
              "    <tr>\n",
              "      <th>max</th>\n",
              "      <td>18.000000</td>\n",
              "      <td>0.999904</td>\n",
              "      <td>4.375753</td>\n",
              "      <td>0.988512</td>\n",
              "    </tr>\n",
              "  </tbody>\n",
              "</table>\n",
              "</div>"
            ],
            "text/plain": [
              "         Cycle_Index     Current(A)     Voltage(V)            SOC\n",
              "count  142119.000000  142119.000000  142119.000000  142119.000000\n",
              "mean        9.029032      -0.007765       3.684208       0.691114\n",
              "std         4.802561       0.303031       0.207378       0.118811\n",
              "min         1.000000      -1.000233       2.499903       0.000000\n",
              "25%         5.000000       0.000000       3.577119       0.633504\n",
              "50%         9.000000       0.000000       3.661715       0.672399\n",
              "75%        13.000000       0.000000       3.839495       0.787366\n",
              "max        18.000000       0.999904       4.375753       0.988512"
            ]
          },
          "metadata": {},
          "execution_count": 25
        }
      ]
    },
    {
      "cell_type": "code",
      "metadata": {
        "colab": {
          "base_uri": "https://localhost:8080/",
          "height": 423
        },
        "id": "FSzDs6JUPobf",
        "outputId": "c96f03f1-dbc6-471e-f697-12f562e7160f"
      },
      "source": [
        "cd2"
      ],
      "execution_count": 26,
      "outputs": [
        {
          "output_type": "execute_result",
          "data": {
            "text/html": [
              "<div>\n",
              "<style scoped>\n",
              "    .dataframe tbody tr th:only-of-type {\n",
              "        vertical-align: middle;\n",
              "    }\n",
              "\n",
              "    .dataframe tbody tr th {\n",
              "        vertical-align: top;\n",
              "    }\n",
              "\n",
              "    .dataframe thead th {\n",
              "        text-align: right;\n",
              "    }\n",
              "</style>\n",
              "<table border=\"1\" class=\"dataframe\">\n",
              "  <thead>\n",
              "    <tr style=\"text-align: right;\">\n",
              "      <th></th>\n",
              "      <th>Cycle_Index</th>\n",
              "      <th>Current(A)</th>\n",
              "      <th>Voltage(V)</th>\n",
              "      <th>SOC</th>\n",
              "    </tr>\n",
              "  </thead>\n",
              "  <tbody>\n",
              "    <tr>\n",
              "      <th>0</th>\n",
              "      <td>1.0</td>\n",
              "      <td>0.000000</td>\n",
              "      <td>4.166209</td>\n",
              "      <td>0.970000</td>\n",
              "    </tr>\n",
              "    <tr>\n",
              "      <th>1</th>\n",
              "      <td>1.0</td>\n",
              "      <td>0.000000</td>\n",
              "      <td>4.166047</td>\n",
              "      <td>0.980028</td>\n",
              "    </tr>\n",
              "    <tr>\n",
              "      <th>2</th>\n",
              "      <td>1.0</td>\n",
              "      <td>0.000000</td>\n",
              "      <td>4.166047</td>\n",
              "      <td>0.980028</td>\n",
              "    </tr>\n",
              "    <tr>\n",
              "      <th>3</th>\n",
              "      <td>1.0</td>\n",
              "      <td>0.000000</td>\n",
              "      <td>4.166209</td>\n",
              "      <td>0.980123</td>\n",
              "    </tr>\n",
              "    <tr>\n",
              "      <th>4</th>\n",
              "      <td>1.0</td>\n",
              "      <td>0.000000</td>\n",
              "      <td>4.166047</td>\n",
              "      <td>0.980028</td>\n",
              "    </tr>\n",
              "    <tr>\n",
              "      <th>...</th>\n",
              "      <td>...</td>\n",
              "      <td>...</td>\n",
              "      <td>...</td>\n",
              "      <td>...</td>\n",
              "    </tr>\n",
              "    <tr>\n",
              "      <th>142114</th>\n",
              "      <td>18.0</td>\n",
              "      <td>0.999544</td>\n",
              "      <td>4.249022</td>\n",
              "      <td>0.889110</td>\n",
              "    </tr>\n",
              "    <tr>\n",
              "      <th>142115</th>\n",
              "      <td>18.0</td>\n",
              "      <td>0.999364</td>\n",
              "      <td>4.249184</td>\n",
              "      <td>0.889249</td>\n",
              "    </tr>\n",
              "    <tr>\n",
              "      <th>142116</th>\n",
              "      <td>18.0</td>\n",
              "      <td>0.999544</td>\n",
              "      <td>4.249508</td>\n",
              "      <td>0.889390</td>\n",
              "    </tr>\n",
              "    <tr>\n",
              "      <th>142117</th>\n",
              "      <td>18.0</td>\n",
              "      <td>0.999544</td>\n",
              "      <td>4.249671</td>\n",
              "      <td>0.889528</td>\n",
              "    </tr>\n",
              "    <tr>\n",
              "      <th>142118</th>\n",
              "      <td>18.0</td>\n",
              "      <td>0.999544</td>\n",
              "      <td>4.249832</td>\n",
              "      <td>0.889669</td>\n",
              "    </tr>\n",
              "  </tbody>\n",
              "</table>\n",
              "<p>142119 rows × 4 columns</p>\n",
              "</div>"
            ],
            "text/plain": [
              "        Cycle_Index  Current(A)  Voltage(V)       SOC\n",
              "0               1.0    0.000000    4.166209  0.970000\n",
              "1               1.0    0.000000    4.166047  0.980028\n",
              "2               1.0    0.000000    4.166047  0.980028\n",
              "3               1.0    0.000000    4.166209  0.980123\n",
              "4               1.0    0.000000    4.166047  0.980028\n",
              "...             ...         ...         ...       ...\n",
              "142114         18.0    0.999544    4.249022  0.889110\n",
              "142115         18.0    0.999364    4.249184  0.889249\n",
              "142116         18.0    0.999544    4.249508  0.889390\n",
              "142117         18.0    0.999544    4.249671  0.889528\n",
              "142118         18.0    0.999544    4.249832  0.889669\n",
              "\n",
              "[142119 rows x 4 columns]"
            ]
          },
          "metadata": {},
          "execution_count": 26
        }
      ]
    },
    {
      "cell_type": "code",
      "metadata": {
        "id": "VVAxdxD_FSA2"
      },
      "source": [
        "y = cd2.SOC\n",
        "X = cd2.drop(['SOC'], axis=1)"
      ],
      "execution_count": 27,
      "outputs": []
    },
    {
      "cell_type": "code",
      "metadata": {
        "colab": {
          "base_uri": "https://localhost:8080/",
          "height": 300
        },
        "id": "lWEv98nHWPCz",
        "outputId": "27a10895-5189-48f0-9a6f-064fa3780458"
      },
      "source": [
        "X.describe()"
      ],
      "execution_count": 28,
      "outputs": [
        {
          "output_type": "execute_result",
          "data": {
            "text/html": [
              "<div>\n",
              "<style scoped>\n",
              "    .dataframe tbody tr th:only-of-type {\n",
              "        vertical-align: middle;\n",
              "    }\n",
              "\n",
              "    .dataframe tbody tr th {\n",
              "        vertical-align: top;\n",
              "    }\n",
              "\n",
              "    .dataframe thead th {\n",
              "        text-align: right;\n",
              "    }\n",
              "</style>\n",
              "<table border=\"1\" class=\"dataframe\">\n",
              "  <thead>\n",
              "    <tr style=\"text-align: right;\">\n",
              "      <th></th>\n",
              "      <th>Cycle_Index</th>\n",
              "      <th>Current(A)</th>\n",
              "      <th>Voltage(V)</th>\n",
              "    </tr>\n",
              "  </thead>\n",
              "  <tbody>\n",
              "    <tr>\n",
              "      <th>count</th>\n",
              "      <td>142119.000000</td>\n",
              "      <td>142119.000000</td>\n",
              "      <td>142119.000000</td>\n",
              "    </tr>\n",
              "    <tr>\n",
              "      <th>mean</th>\n",
              "      <td>9.029032</td>\n",
              "      <td>-0.007765</td>\n",
              "      <td>3.684208</td>\n",
              "    </tr>\n",
              "    <tr>\n",
              "      <th>std</th>\n",
              "      <td>4.802561</td>\n",
              "      <td>0.303031</td>\n",
              "      <td>0.207378</td>\n",
              "    </tr>\n",
              "    <tr>\n",
              "      <th>min</th>\n",
              "      <td>1.000000</td>\n",
              "      <td>-1.000233</td>\n",
              "      <td>2.499903</td>\n",
              "    </tr>\n",
              "    <tr>\n",
              "      <th>25%</th>\n",
              "      <td>5.000000</td>\n",
              "      <td>0.000000</td>\n",
              "      <td>3.577119</td>\n",
              "    </tr>\n",
              "    <tr>\n",
              "      <th>50%</th>\n",
              "      <td>9.000000</td>\n",
              "      <td>0.000000</td>\n",
              "      <td>3.661715</td>\n",
              "    </tr>\n",
              "    <tr>\n",
              "      <th>75%</th>\n",
              "      <td>13.000000</td>\n",
              "      <td>0.000000</td>\n",
              "      <td>3.839495</td>\n",
              "    </tr>\n",
              "    <tr>\n",
              "      <th>max</th>\n",
              "      <td>18.000000</td>\n",
              "      <td>0.999904</td>\n",
              "      <td>4.375753</td>\n",
              "    </tr>\n",
              "  </tbody>\n",
              "</table>\n",
              "</div>"
            ],
            "text/plain": [
              "         Cycle_Index     Current(A)     Voltage(V)\n",
              "count  142119.000000  142119.000000  142119.000000\n",
              "mean        9.029032      -0.007765       3.684208\n",
              "std         4.802561       0.303031       0.207378\n",
              "min         1.000000      -1.000233       2.499903\n",
              "25%         5.000000       0.000000       3.577119\n",
              "50%         9.000000       0.000000       3.661715\n",
              "75%        13.000000       0.000000       3.839495\n",
              "max        18.000000       0.999904       4.375753"
            ]
          },
          "metadata": {},
          "execution_count": 28
        }
      ]
    },
    {
      "cell_type": "markdown",
      "metadata": {
        "id": "7or5lAg9zv05"
      },
      "source": [
        "split"
      ]
    },
    {
      "cell_type": "code",
      "metadata": {
        "colab": {
          "base_uri": "https://localhost:8080/"
        },
        "id": "f3KejRNIz8L6",
        "outputId": "c6c28f02-7090-4609-f7ae-1b3976792b59"
      },
      "source": [
        "cd2.values"
      ],
      "execution_count": 29,
      "outputs": [
        {
          "output_type": "execute_result",
          "data": {
            "text/plain": [
              "array([[ 1.        ,  0.        ,  4.16620922,  0.97      ],\n",
              "       [ 1.        ,  0.        ,  4.1660471 ,  0.9800277 ],\n",
              "       [ 1.        ,  0.        ,  4.1660471 ,  0.9800277 ],\n",
              "       ...,\n",
              "       [18.        ,  0.99954402,  4.24950838,  0.88938957],\n",
              "       [18.        ,  0.99954402,  4.24967051,  0.88952842],\n",
              "       [18.        ,  0.99954402,  4.24983215,  0.88966944]])"
            ]
          },
          "metadata": {},
          "execution_count": 29
        }
      ]
    },
    {
      "cell_type": "code",
      "metadata": {
        "id": "xZ7aC4j11Rpw"
      },
      "source": [
        "from sklearn.preprocessing import MinMaxScaler\n"
      ],
      "execution_count": 47,
      "outputs": []
    },
    {
      "cell_type": "code",
      "metadata": {
        "id": "ihBUmg5bzu8E"
      },
      "source": [
        "dataset = cd2.SOC.values #numpy.ndarray\n",
        "dataset = dataset.astype('float64')\n",
        "dataset = np.reshape(dataset, (-1, 1))\n",
        "scaler = MinMaxScaler(feature_range=(0, 1))\n",
        "dataset = scaler.fit_transform(dataset)\n",
        "train_size = int(len(dataset) * 0.80)\n",
        "test_size = len(dataset) - train_size\n",
        "train, test = dataset[0:train_size,:], dataset[train_size:len(dataset),:]"
      ],
      "execution_count": 147,
      "outputs": []
    },
    {
      "cell_type": "code",
      "metadata": {
        "id": "JYjXEEeV1Xmy"
      },
      "source": [
        "# convert an array of values into a dataset matrix\n",
        "def create_dataset(dataset, look_back=1):\n",
        "    X, Y = [], []\n",
        "    for i in range(len(dataset)-look_back-1):\n",
        "        a = dataset[i:(i+look_back), 0]\n",
        "        X.append(a)\n",
        "        Y.append(dataset[i + look_back, 0])\n",
        "    return np.array(X), np.array(Y)"
      ],
      "execution_count": 148,
      "outputs": []
    },
    {
      "cell_type": "code",
      "metadata": {
        "id": "dw523Skl1al8"
      },
      "source": [
        "# reshape into X=t and Y=t+1\n",
        "look_back = 3\n",
        "\n",
        "X_train, Y_train = create_dataset(train, look_back)\n",
        "X_test, Y_test = create_dataset(test, look_back)"
      ],
      "execution_count": 149,
      "outputs": []
    },
    {
      "cell_type": "code",
      "source": [
        "X_train"
      ],
      "metadata": {
        "colab": {
          "base_uri": "https://localhost:8080/"
        },
        "id": "Uk0IHjKKlUnK",
        "outputId": "a6b1a3aa-cd21-4332-84d8-c4056de6339c"
      },
      "execution_count": 150,
      "outputs": [
        {
          "output_type": "execute_result",
          "data": {
            "text/plain": [
              "array([[0.98127282, 0.99141706, 0.99141706],\n",
              "       [0.99141706, 0.99141706, 0.99151354],\n",
              "       [0.99141706, 0.99151354, 0.99141706],\n",
              "       ...,\n",
              "       [0.69930767, 0.69950048, 0.69930767],\n",
              "       [0.69950048, 0.69930767, 0.6992112 ],\n",
              "       [0.69930767, 0.6992112 , 0.69930767]])"
            ]
          },
          "metadata": {},
          "execution_count": 150
        }
      ]
    },
    {
      "cell_type": "code",
      "metadata": {
        "colab": {
          "base_uri": "https://localhost:8080/"
        },
        "id": "yu8EmIUW13Ts",
        "outputId": "1d4f5167-669d-489f-d40b-3a89b44258a2"
      },
      "source": [
        "X_train.shape"
      ],
      "execution_count": 151,
      "outputs": [
        {
          "output_type": "execute_result",
          "data": {
            "text/plain": [
              "(113691, 3)"
            ]
          },
          "metadata": {},
          "execution_count": 151
        }
      ]
    },
    {
      "cell_type": "code",
      "metadata": {
        "colab": {
          "base_uri": "https://localhost:8080/"
        },
        "id": "yaHqs7FL2FKn",
        "outputId": "a565b649-f494-42de-8576-ad005acbdda8"
      },
      "source": [
        "Y_train.shape"
      ],
      "execution_count": 152,
      "outputs": [
        {
          "output_type": "execute_result",
          "data": {
            "text/plain": [
              "(113691,)"
            ]
          },
          "metadata": {},
          "execution_count": 152
        }
      ]
    },
    {
      "cell_type": "code",
      "metadata": {
        "id": "ntkwGpFK2Kvv"
      },
      "source": [
        "# reshape input to be [samples, time steps, features]\n",
        "X_train = np.reshape(X_train, (X_train.shape[0], 1, X_train.shape[1]))\n",
        "X_test = np.reshape(X_test, (X_test.shape[0], 1, X_test.shape[1]))"
      ],
      "execution_count": null,
      "outputs": []
    },
    {
      "cell_type": "code",
      "metadata": {
        "id": "06NjbtWi2Z6m"
      },
      "source": [
        "import math\n",
        "import keras\n",
        "from keras.models import Sequential\n",
        "from keras.layers import Dense\n",
        "from keras.layers import LSTM\n",
        "from keras.layers import Dropout\n",
        "from keras.layers import *\n",
        "from sklearn.preprocessing import MinMaxScaler\n",
        "from sklearn.metrics import mean_squared_error\n",
        "from sklearn.metrics import mean_absolute_error\n",
        "from keras.callbacks import EarlyStopping"
      ],
      "execution_count": 155,
      "outputs": []
    },
    {
      "cell_type": "code",
      "metadata": {
        "colab": {
          "base_uri": "https://localhost:8080/"
        },
        "id": "tFJgXQVc2QAj",
        "outputId": "f7a07a64-0d79-410c-c160-40069f48768a"
      },
      "source": [
        "model = Sequential()\n",
        "model.add(LSTM(50, input_shape=(X_train.shape[1], X_train.shape[2])))\n",
        "model.add(Dropout(0.1))\n",
        "model.add(Dense(2))\n",
        "model.compile(loss='mean_squared_error', optimizer='adam')\n",
        "\n",
        "history = model.fit(X_train, Y_train, epochs=100, batch_size=32, validation_data=(X_test, Y_test), \n",
        "                    callbacks=[EarlyStopping(monitor='val_loss', patience=20)], verbose=1, shuffle=False)\n",
        "\n",
        "# Training Phase\n",
        "model.summary()"
      ],
      "execution_count": 157,
      "outputs": [
        {
          "output_type": "stream",
          "name": "stdout",
          "text": [
            "Epoch 1/100\n",
            "3553/3553 [==============================] - 12s 3ms/step - loss: 0.0127 - val_loss: 0.0014\n",
            "Epoch 2/100\n",
            "3553/3553 [==============================] - 10s 3ms/step - loss: 8.6561e-04 - val_loss: 0.0032\n",
            "Epoch 3/100\n",
            "3553/3553 [==============================] - 10s 3ms/step - loss: 8.2190e-04 - val_loss: 0.0056\n",
            "Epoch 4/100\n",
            "3553/3553 [==============================] - 9s 3ms/step - loss: 9.7221e-04 - val_loss: 0.0059\n",
            "Epoch 5/100\n",
            "3553/3553 [==============================] - 9s 3ms/step - loss: 9.0162e-04 - val_loss: 0.0049\n",
            "Epoch 6/100\n",
            "3553/3553 [==============================] - 9s 3ms/step - loss: 6.7598e-04 - val_loss: 0.0040\n",
            "Epoch 7/100\n",
            "3553/3553 [==============================] - 9s 3ms/step - loss: 4.5974e-04 - val_loss: 0.0036\n",
            "Epoch 8/100\n",
            "3553/3553 [==============================] - 10s 3ms/step - loss: 3.7399e-04 - val_loss: 0.0039\n",
            "Epoch 9/100\n",
            "3553/3553 [==============================] - 10s 3ms/step - loss: 3.6490e-04 - val_loss: 0.0039\n",
            "Epoch 10/100\n",
            "3553/3553 [==============================] - 10s 3ms/step - loss: 3.4167e-04 - val_loss: 0.0041\n",
            "Epoch 11/100\n",
            "3553/3553 [==============================] - 10s 3ms/step - loss: 3.3978e-04 - val_loss: 0.0040\n",
            "Epoch 12/100\n",
            "3553/3553 [==============================] - 9s 3ms/step - loss: 3.2111e-04 - val_loss: 0.0040\n",
            "Epoch 13/100\n",
            "3553/3553 [==============================] - 10s 3ms/step - loss: 3.0950e-04 - val_loss: 0.0039\n",
            "Epoch 14/100\n",
            "3553/3553 [==============================] - 10s 3ms/step - loss: 2.9220e-04 - val_loss: 0.0037\n",
            "Epoch 15/100\n",
            "3553/3553 [==============================] - 10s 3ms/step - loss: 2.8296e-04 - val_loss: 0.0038\n",
            "Epoch 16/100\n",
            "3553/3553 [==============================] - 10s 3ms/step - loss: 2.7440e-04 - val_loss: 0.0036\n",
            "Epoch 17/100\n",
            "3553/3553 [==============================] - 10s 3ms/step - loss: 2.6149e-04 - val_loss: 0.0034\n",
            "Epoch 18/100\n",
            "3553/3553 [==============================] - 10s 3ms/step - loss: 2.4865e-04 - val_loss: 0.0034\n",
            "Epoch 19/100\n",
            "3553/3553 [==============================] - 10s 3ms/step - loss: 2.3971e-04 - val_loss: 0.0034\n",
            "Epoch 20/100\n",
            "3553/3553 [==============================] - 10s 3ms/step - loss: 2.3494e-04 - val_loss: 0.0031\n",
            "Epoch 21/100\n",
            "3553/3553 [==============================] - 9s 3ms/step - loss: 2.1585e-04 - val_loss: 0.0032\n",
            "Model: \"sequential_9\"\n",
            "_________________________________________________________________\n",
            " Layer (type)                Output Shape              Param #   \n",
            "=================================================================\n",
            " lstm_9 (LSTM)               (None, 50)                10800     \n",
            "                                                                 \n",
            " dropout_9 (Dropout)         (None, 50)                0         \n",
            "                                                                 \n",
            " dense_9 (Dense)             (None, 2)                 102       \n",
            "                                                                 \n",
            "=================================================================\n",
            "Total params: 10,902\n",
            "Trainable params: 10,902\n",
            "Non-trainable params: 0\n",
            "_________________________________________________________________\n"
          ]
        }
      ]
    },
    {
      "cell_type": "code",
      "metadata": {
        "colab": {
          "base_uri": "https://localhost:8080/"
        },
        "id": "C9igKq7u2jvl",
        "outputId": "9aa1be1e-bd3c-4ed9-a8c3-62f424c0c0bf"
      },
      "source": [
        "# make predictions\n",
        "train_predict = model.predict(X_train)\n",
        "test_predict = model.predict(X_test)\n",
        "# invert predictions\n",
        "train_predict = scaler.inverse_transform(train_predict)\n",
        "Y_train = scaler.inverse_transform([Y_train])\n",
        "test_predict = scaler.inverse_transform(test_predict)\n",
        "Y_test = scaler.inverse_transform([Y_test])\n",
        "\n",
        "print('Train Mean Absolute Error:', mean_absolute_error(Y_train[0], train_predict[:,0]))\n",
        "print('Train Root Mean Squared Error:',np.sqrt(mean_squared_error(Y_train[0], train_predict[:,0])))\n",
        "print('Test Mean Absolute Error:', mean_absolute_error(Y_test[0], test_predict[:,0]))\n",
        "print('Test Root Mean Squared Error:',np.sqrt(mean_squared_error(Y_test[0], test_predict[:,0])))"
      ],
      "execution_count": 158,
      "outputs": [
        {
          "output_type": "stream",
          "name": "stdout",
          "text": [
            "Train Mean Absolute Error: 0.04173433564695446\n",
            "Train Root Mean Squared Error: 0.054322277322756386\n",
            "Test Mean Absolute Error: 0.04612365817686847\n",
            "Test Root Mean Squared Error: 0.05551773649684761\n"
          ]
        }
      ]
    },
    {
      "cell_type": "code",
      "metadata": {
        "colab": {
          "base_uri": "https://localhost:8080/",
          "height": 295
        },
        "id": "hADXDvCd2qzF",
        "outputId": "50fac18e-3e25-41ff-90a5-173dc2720eaa"
      },
      "source": [
        "plt.figure(figsize=(8,4))\n",
        "plt.plot(history.history['loss'], label='Train Loss')\n",
        "plt.plot(history.history['val_loss'], label='Test Loss')\n",
        "plt.title('model loss')\n",
        "plt.ylabel('loss')\n",
        "plt.xlabel('epochs')\n",
        "plt.legend(loc='upper right')\n",
        "plt.show();"
      ],
      "execution_count": 159,
      "outputs": [
        {
          "output_type": "display_data",
          "data": {
            "image/png": "[encoded data removed]",
            "text/plain": [
              "<Figure size 576x288 with 1 Axes>"
            ]
          },
          "metadata": {
            "needs_background": "light"
          }
        }
      ]
    },
    {
      "cell_type": "code",
      "metadata": {
        "colab": {
          "base_uri": "https://localhost:8080/",
          "height": 288
        },
        "id": "stz_dngk2wpa",
        "outputId": "5dcc701d-1fb9-46e3-81da-9cde0b610a95"
      },
      "source": [
        "aa=[x for x in range(20000)]\n",
        "plt.figure(figsize=(20,4))\n",
        "plt.plot(aa, Y_test[0][:20000], marker='.', label=\"actual\")\n",
        "plt.plot(aa, test_predict[:,0][:20000], 'r', label=\"prediction\")\n",
        "plt.tick_params(left=False, labelleft=True) #remove ticks\n",
        "#plt.tight_layout()\n",
        "#sns.despine(top=True)\n",
        "plt.subplots_adjust(left=0.07)\n",
        "plt.ylabel('SOC', size=15)\n",
        "plt.ylim((0,1))\n",
        "plt.xlabel('Time step', size=15)\n",
        "plt.legend(fontsize=15)\n",
        "plt.show();"
      ],
      "execution_count": 160,
      "outputs": [
        {
          "output_type": "display_data",
          "data": {
            "image/png": "[encoded data removed]",
            "text/plain": [
              "<Figure size 1440x288 with 1 Axes>"
            ]
          },
          "metadata": {
            "needs_background": "light"
          }
        }
      ]
    },
    {
      "cell_type": "code",
      "source": [
        "aa=[x for x in range(110000)]\n",
        "plt.figure(figsize=(20,4))\n",
        "plt.plot(aa, Y_train[0][:110000], marker='.', label=\"actual\")\n",
        "plt.plot(aa, train_predict[:,0][:110000], 'r', label=\"prediction\")\n",
        "plt.tick_params(left=False, labelleft=True) #remove ticks\n",
        "#plt.tight_layout()\n",
        "#sns.despine(top=True)\n",
        "plt.subplots_adjust(left=0.07)\n",
        "plt.ylabel('SOC', size=15)\n",
        "plt.ylim((0,1))\n",
        "plt.xlabel('Time step', size=15)\n",
        "plt.legend(fontsize=15)\n",
        "plt.show();"
      ],
      "metadata": {
        "colab": {
          "base_uri": "https://localhost:8080/",
          "height": 288
        },
        "id": "NQzm3UICyFYt",
        "outputId": "6a93be66-5e06-4496-deb5-7accfd8cfa6c"
      },
      "execution_count": 161,
      "outputs": [
        {
          "output_type": "display_data",
          "data": {
            "image/png": "[encoded data removed]",
            "text/plain": [
              "<Figure size 1440x288 with 1 Axes>"
            ]
          },
          "metadata": {
            "needs_background": "light"
          }
        }
      ]
    }
  ]
}
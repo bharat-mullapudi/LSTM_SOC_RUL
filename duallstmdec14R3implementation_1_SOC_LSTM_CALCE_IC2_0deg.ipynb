{
  "nbformat": 4,
  "nbformat_minor": 0,
  "metadata": {
    "colab": {
      "name": "dec14R3implementation_1_SOC_LSTM_CALCE_IC2_0deg.ipynb",
      "provenance": [],
      "collapsed_sections": [],
      "mount_file_id": "1i7AAoUvs8slVYi7ARI5TC-oPVQIVDEbH",
      "authorship_tag": "ABX9TyPuuAC6CT+zSN40t7dOHief",
      "include_colab_link": true
    },
    "kernelspec": {
      "name": "python3",
      "display_name": "Python 3"
    },
    "language_info": {
      "name": "python"
    }
  },
  "cells": [
    {
      "cell_type": "markdown",
      "metadata": {
        "id": "view-in-github",
        "colab_type": "text"
      },
      "source": [
        "<a href=\"https://colab.research.google.com/github/bharat-mullapudi/LSTM_SOC_RUL/blob/main/duallstmdec14R3implementation_1_SOC_LSTM_CALCE_IC2_0deg.ipynb\" target=\"_parent\"><img src=\"https://colab.research.google.com/assets/colab-badge.svg\" alt=\"Open In Colab\"/></a>"
      ]
    },
    {
      "cell_type": "code",
      "metadata": {
        "colab": {
          "base_uri": "https://localhost:8080/"
        },
        "id": "V5wlvJX-tvun",
        "outputId": "29a4e14b-023f-4ca3-e20d-12638b9fe34c"
      },
      "source": [
        "from google.colab import drive\n",
        "drive.mount('/content/drive/')"
      ],
      "execution_count": 2,
      "outputs": [
        {
          "output_type": "stream",
          "name": "stdout",
          "text": [
            "Mounted at /content/drive/\n"
          ]
        }
      ]
    },
    {
      "cell_type": "code",
      "metadata": {
        "id": "tI6EDld8uL52"
      },
      "source": [
        "import numpy as np\n",
        "import pandas as pd\n",
        "import matplotlib.pyplot as plt\n",
        "from google.colab import files\n",
        "import seaborn as sns\n"
      ],
      "execution_count": 3,
      "outputs": []
    },
    {
      "cell_type": "code",
      "metadata": {
        "id": "Ju4NGqAquQk9"
      },
      "source": [
        "df = pd.read_excel('/content/drive/MyDrive/LSTM_SOC_Implementation/calce_incremental_INR_18650-20R/Incremental_temp_0.xlsx')"
      ],
      "execution_count": 4,
      "outputs": []
    },
    {
      "cell_type": "code",
      "metadata": {
        "id": "zXneLTAPvFFs"
      },
      "source": [
        "df=df.dropna()"
      ],
      "execution_count": 5,
      "outputs": []
    },
    {
      "cell_type": "code",
      "metadata": {
        "colab": {
          "base_uri": "https://localhost:8080/",
          "height": 423
        },
        "id": "vKmhVn9DO0Mo",
        "outputId": "f64357f6-1dd5-4cad-b854-2e9a858dd79a"
      },
      "source": [
        "df"
      ],
      "execution_count": null,
      "outputs": [
        {
          "output_type": "execute_result",
          "data": {
            "text/html": [
              "<div>\n",
              "<style scoped>\n",
              "    .dataframe tbody tr th:only-of-type {\n",
              "        vertical-align: middle;\n",
              "    }\n",
              "\n",
              "    .dataframe tbody tr th {\n",
              "        vertical-align: top;\n",
              "    }\n",
              "\n",
              "    .dataframe thead th {\n",
              "        text-align: right;\n",
              "    }\n",
              "</style>\n",
              "<table border=\"1\" class=\"dataframe\">\n",
              "  <thead>\n",
              "    <tr style=\"text-align: right;\">\n",
              "      <th></th>\n",
              "      <th>Test_Time(s)</th>\n",
              "      <th>Cycle_Index</th>\n",
              "      <th>Current(A)</th>\n",
              "      <th>Voltage(V)</th>\n",
              "      <th>Charge_Capacity(Ah)</th>\n",
              "      <th>Discharge_Capacity(Ah)</th>\n",
              "      <th>TimeDelta</th>\n",
              "      <th>SOC</th>\n",
              "    </tr>\n",
              "  </thead>\n",
              "  <tbody>\n",
              "    <tr>\n",
              "      <th>0</th>\n",
              "      <td>10.000019</td>\n",
              "      <td>1.0</td>\n",
              "      <td>0.0</td>\n",
              "      <td>4.163778</td>\n",
              "      <td>0.000000</td>\n",
              "      <td>0.000000</td>\n",
              "      <td>1</td>\n",
              "      <td>0.97</td>\n",
              "    </tr>\n",
              "    <tr>\n",
              "      <th>1</th>\n",
              "      <td>20.015468</td>\n",
              "      <td>1.0</td>\n",
              "      <td>0.0</td>\n",
              "      <td>4.163778</td>\n",
              "      <td>0.000000</td>\n",
              "      <td>0.000000</td>\n",
              "      <td>10.0154</td>\n",
              "      <td>0.978693</td>\n",
              "    </tr>\n",
              "    <tr>\n",
              "      <th>2</th>\n",
              "      <td>30.030954</td>\n",
              "      <td>1.0</td>\n",
              "      <td>0.0</td>\n",
              "      <td>4.163778</td>\n",
              "      <td>0.000000</td>\n",
              "      <td>0.000000</td>\n",
              "      <td>10.0155</td>\n",
              "      <td>0.978693</td>\n",
              "    </tr>\n",
              "    <tr>\n",
              "      <th>3</th>\n",
              "      <td>40.046428</td>\n",
              "      <td>1.0</td>\n",
              "      <td>0.0</td>\n",
              "      <td>4.163778</td>\n",
              "      <td>0.000000</td>\n",
              "      <td>0.000000</td>\n",
              "      <td>10.0155</td>\n",
              "      <td>0.978693</td>\n",
              "    </tr>\n",
              "    <tr>\n",
              "      <th>4</th>\n",
              "      <td>50.061910</td>\n",
              "      <td>1.0</td>\n",
              "      <td>0.0</td>\n",
              "      <td>4.163940</td>\n",
              "      <td>0.000000</td>\n",
              "      <td>0.000000</td>\n",
              "      <td>10.0155</td>\n",
              "      <td>0.978788</td>\n",
              "    </tr>\n",
              "    <tr>\n",
              "      <th>...</th>\n",
              "      <td>...</td>\n",
              "      <td>...</td>\n",
              "      <td>...</td>\n",
              "      <td>...</td>\n",
              "      <td>...</td>\n",
              "      <td>...</td>\n",
              "      <td>...</td>\n",
              "      <td>...</td>\n",
              "    </tr>\n",
              "    <tr>\n",
              "      <th>157565</th>\n",
              "      <td>166376.509256</td>\n",
              "      <td>19.0</td>\n",
              "      <td>0.0</td>\n",
              "      <td>4.163454</td>\n",
              "      <td>1.819286</td>\n",
              "      <td>1.805571</td>\n",
              "      <td>1.01561</td>\n",
              "      <td>0.978502</td>\n",
              "    </tr>\n",
              "    <tr>\n",
              "      <th>157566</th>\n",
              "      <td>166377.524866</td>\n",
              "      <td>19.0</td>\n",
              "      <td>0.0</td>\n",
              "      <td>4.163616</td>\n",
              "      <td>1.819286</td>\n",
              "      <td>1.805571</td>\n",
              "      <td>1.01561</td>\n",
              "      <td>0.978598</td>\n",
              "    </tr>\n",
              "    <tr>\n",
              "      <th>157567</th>\n",
              "      <td>166378.540471</td>\n",
              "      <td>19.0</td>\n",
              "      <td>0.0</td>\n",
              "      <td>4.163616</td>\n",
              "      <td>1.819286</td>\n",
              "      <td>1.805571</td>\n",
              "      <td>1.01561</td>\n",
              "      <td>0.978598</td>\n",
              "    </tr>\n",
              "    <tr>\n",
              "      <th>157568</th>\n",
              "      <td>166379.556097</td>\n",
              "      <td>19.0</td>\n",
              "      <td>0.0</td>\n",
              "      <td>4.163616</td>\n",
              "      <td>1.819286</td>\n",
              "      <td>1.805571</td>\n",
              "      <td>1.01563</td>\n",
              "      <td>0.978598</td>\n",
              "    </tr>\n",
              "    <tr>\n",
              "      <th>157569</th>\n",
              "      <td>166379.962373</td>\n",
              "      <td>19.0</td>\n",
              "      <td>0.0</td>\n",
              "      <td>4.163616</td>\n",
              "      <td>1.819286</td>\n",
              "      <td>1.805571</td>\n",
              "      <td>0.406276</td>\n",
              "      <td>0.978598</td>\n",
              "    </tr>\n",
              "  </tbody>\n",
              "</table>\n",
              "<p>157570 rows × 8 columns</p>\n",
              "</div>"
            ],
            "text/plain": [
              "         Test_Time(s)  Cycle_Index  ...  TimeDelta       SOC\n",
              "0           10.000019          1.0  ...          1      0.97\n",
              "1           20.015468          1.0  ...    10.0154  0.978693\n",
              "2           30.030954          1.0  ...    10.0155  0.978693\n",
              "3           40.046428          1.0  ...    10.0155  0.978693\n",
              "4           50.061910          1.0  ...    10.0155  0.978788\n",
              "...               ...          ...  ...        ...       ...\n",
              "157565  166376.509256         19.0  ...    1.01561  0.978502\n",
              "157566  166377.524866         19.0  ...    1.01561  0.978598\n",
              "157567  166378.540471         19.0  ...    1.01561  0.978598\n",
              "157568  166379.556097         19.0  ...    1.01563  0.978598\n",
              "157569  166379.962373         19.0  ...   0.406276  0.978598\n",
              "\n",
              "[157570 rows x 8 columns]"
            ]
          },
          "metadata": {},
          "execution_count": 38
        }
      ]
    },
    {
      "cell_type": "code",
      "metadata": {
        "id": "CrVQ2ETgCrim"
      },
      "source": [
        "combined_data=df"
      ],
      "execution_count": 6,
      "outputs": []
    },
    {
      "cell_type": "code",
      "metadata": {
        "id": "HAjkmkUaqh0E"
      },
      "source": [
        "combined_data.to_csv('Incremental_Init_25.csv')\n",
        "combined_data=pd.read_csv('Incremental_Init_25.csv')"
      ],
      "execution_count": 7,
      "outputs": []
    },
    {
      "cell_type": "code",
      "source": [
        ""
      ],
      "metadata": {
        "id": "wwnRocNpyTMV"
      },
      "execution_count": null,
      "outputs": []
    },
    {
      "cell_type": "code",
      "metadata": {
        "colab": {
          "base_uri": "https://localhost:8080/",
          "height": 320
        },
        "id": "oLqTe4j6GuNp",
        "outputId": "a109eac8-b505-49d2-e039-cf0504f858b0"
      },
      "source": [
        "combined_data.describe()"
      ],
      "execution_count": 8,
      "outputs": [
        {
          "output_type": "execute_result",
          "data": {
            "text/html": [
              "<div>\n",
              "<style scoped>\n",
              "    .dataframe tbody tr th:only-of-type {\n",
              "        vertical-align: middle;\n",
              "    }\n",
              "\n",
              "    .dataframe tbody tr th {\n",
              "        vertical-align: top;\n",
              "    }\n",
              "\n",
              "    .dataframe thead th {\n",
              "        text-align: right;\n",
              "    }\n",
              "</style>\n",
              "<table border=\"1\" class=\"dataframe\">\n",
              "  <thead>\n",
              "    <tr style=\"text-align: right;\">\n",
              "      <th></th>\n",
              "      <th>Unnamed: 0</th>\n",
              "      <th>Test_Time(s)</th>\n",
              "      <th>Cycle_Index</th>\n",
              "      <th>Current(A)</th>\n",
              "      <th>Voltage(V)</th>\n",
              "      <th>Charge_Capacity(Ah)</th>\n",
              "      <th>Discharge_Capacity(Ah)</th>\n",
              "      <th>TimeDelta</th>\n",
              "      <th>SOC</th>\n",
              "    </tr>\n",
              "  </thead>\n",
              "  <tbody>\n",
              "    <tr>\n",
              "      <th>count</th>\n",
              "      <td>157570.000000</td>\n",
              "      <td>157570.000000</td>\n",
              "      <td>157570.000000</td>\n",
              "      <td>157570.000000</td>\n",
              "      <td>157570.000000</td>\n",
              "      <td>157570.000000</td>\n",
              "      <td>157570.000000</td>\n",
              "      <td>157570.000000</td>\n",
              "      <td>157570.000000</td>\n",
              "    </tr>\n",
              "    <tr>\n",
              "      <th>mean</th>\n",
              "      <td>78784.500000</td>\n",
              "      <td>86648.264899</td>\n",
              "      <td>10.490157</td>\n",
              "      <td>-0.000120</td>\n",
              "      <td>3.756622</td>\n",
              "      <td>0.519926</td>\n",
              "      <td>1.392800</td>\n",
              "      <td>1.055854</td>\n",
              "      <td>0.736358</td>\n",
              "    </tr>\n",
              "    <tr>\n",
              "      <th>std</th>\n",
              "      <td>45486.685295</td>\n",
              "      <td>46052.526517</td>\n",
              "      <td>5.748668</td>\n",
              "      <td>0.280592</td>\n",
              "      <td>0.209131</td>\n",
              "      <td>0.616112</td>\n",
              "      <td>0.556578</td>\n",
              "      <td>0.628872</td>\n",
              "      <td>0.121619</td>\n",
              "    </tr>\n",
              "    <tr>\n",
              "      <th>min</th>\n",
              "      <td>0.000000</td>\n",
              "      <td>10.000019</td>\n",
              "      <td>1.000000</td>\n",
              "      <td>-1.000412</td>\n",
              "      <td>2.577044</td>\n",
              "      <td>0.000000</td>\n",
              "      <td>0.000000</td>\n",
              "      <td>0.000000</td>\n",
              "      <td>0.045320</td>\n",
              "    </tr>\n",
              "    <tr>\n",
              "      <th>25%</th>\n",
              "      <td>39392.250000</td>\n",
              "      <td>46807.431234</td>\n",
              "      <td>5.000000</td>\n",
              "      <td>0.000000</td>\n",
              "      <td>3.600780</td>\n",
              "      <td>0.021223</td>\n",
              "      <td>0.902758</td>\n",
              "      <td>1.015400</td>\n",
              "      <td>0.646755</td>\n",
              "    </tr>\n",
              "    <tr>\n",
              "      <th>50%</th>\n",
              "      <td>78784.500000</td>\n",
              "      <td>86664.620077</td>\n",
              "      <td>11.000000</td>\n",
              "      <td>0.000000</td>\n",
              "      <td>3.694451</td>\n",
              "      <td>0.136850</td>\n",
              "      <td>1.805571</td>\n",
              "      <td>1.015584</td>\n",
              "      <td>0.701856</td>\n",
              "    </tr>\n",
              "    <tr>\n",
              "      <th>75%</th>\n",
              "      <td>118176.750000</td>\n",
              "      <td>126522.511848</td>\n",
              "      <td>16.000000</td>\n",
              "      <td>0.000000</td>\n",
              "      <td>3.950466</td>\n",
              "      <td>1.104041</td>\n",
              "      <td>1.805571</td>\n",
              "      <td>1.015615</td>\n",
              "      <td>0.851428</td>\n",
              "    </tr>\n",
              "    <tr>\n",
              "      <th>max</th>\n",
              "      <td>157569.000000</td>\n",
              "      <td>166379.962373</td>\n",
              "      <td>19.000000</td>\n",
              "      <td>0.999904</td>\n",
              "      <td>4.262149</td>\n",
              "      <td>1.819286</td>\n",
              "      <td>1.805571</td>\n",
              "      <td>10.017561</td>\n",
              "      <td>1.000000</td>\n",
              "    </tr>\n",
              "  </tbody>\n",
              "</table>\n",
              "</div>"
            ],
            "text/plain": [
              "          Unnamed: 0   Test_Time(s)  ...      TimeDelta            SOC\n",
              "count  157570.000000  157570.000000  ...  157570.000000  157570.000000\n",
              "mean    78784.500000   86648.264899  ...       1.055854       0.736358\n",
              "std     45486.685295   46052.526517  ...       0.628872       0.121619\n",
              "min         0.000000      10.000019  ...       0.000000       0.045320\n",
              "25%     39392.250000   46807.431234  ...       1.015400       0.646755\n",
              "50%     78784.500000   86664.620077  ...       1.015584       0.701856\n",
              "75%    118176.750000  126522.511848  ...       1.015615       0.851428\n",
              "max    157569.000000  166379.962373  ...      10.017561       1.000000\n",
              "\n",
              "[8 rows x 9 columns]"
            ]
          },
          "metadata": {},
          "execution_count": 8
        }
      ]
    },
    {
      "cell_type": "code",
      "metadata": {
        "colab": {
          "base_uri": "https://localhost:8080/",
          "height": 17
        },
        "id": "hpknBqegD2f3",
        "outputId": "1ea1dcb7-823c-406b-97b5-7da18970ffe1"
      },
      "source": [
        "#combined_data.to_csv('merged0.csv')"
      ],
      "execution_count": null,
      "outputs": [
        {
          "output_type": "display_data",
          "data": {
            "application/javascript": [
              "\n",
              "    async function download(id, filename, size) {\n",
              "      if (!google.colab.kernel.accessAllowed) {\n",
              "        return;\n",
              "      }\n",
              "      const div = document.createElement('div');\n",
              "      const label = document.createElement('label');\n",
              "      label.textContent = `Downloading \"${filename}\": `;\n",
              "      div.appendChild(label);\n",
              "      const progress = document.createElement('progress');\n",
              "      progress.max = size;\n",
              "      div.appendChild(progress);\n",
              "      document.body.appendChild(div);\n",
              "\n",
              "      const buffers = [];\n",
              "      let downloaded = 0;\n",
              "\n",
              "      const channel = await google.colab.kernel.comms.open(id);\n",
              "      // Send a message to notify the kernel that we're ready.\n",
              "      channel.send({})\n",
              "\n",
              "      for await (const message of channel.messages) {\n",
              "        // Send a message to notify the kernel that we're ready.\n",
              "        channel.send({})\n",
              "        if (message.buffers) {\n",
              "          for (const buffer of message.buffers) {\n",
              "            buffers.push(buffer);\n",
              "            downloaded += buffer.byteLength;\n",
              "            progress.value = downloaded;\n",
              "          }\n",
              "        }\n",
              "      }\n",
              "      const blob = new Blob(buffers, {type: 'application/binary'});\n",
              "      const a = document.createElement('a');\n",
              "      a.href = window.URL.createObjectURL(blob);\n",
              "      a.download = filename;\n",
              "      div.appendChild(a);\n",
              "      a.click();\n",
              "      div.remove();\n",
              "    }\n",
              "  "
            ],
            "text/plain": [
              "<IPython.core.display.Javascript object>"
            ]
          },
          "metadata": {}
        },
        {
          "output_type": "display_data",
          "data": {
            "application/javascript": [
              "download(\"download_a701667c-fe3d-492a-b267-be1aea77901e\", \"merged0.csv\", 29806207)"
            ],
            "text/plain": [
              "<IPython.core.display.Javascript object>"
            ]
          },
          "metadata": {}
        }
      ]
    },
    {
      "cell_type": "code",
      "metadata": {
        "id": "TXN7irT9lVh_"
      },
      "source": [
        "#files.download('merged0.csv')"
      ],
      "execution_count": null,
      "outputs": []
    },
    {
      "cell_type": "code",
      "metadata": {
        "id": "2nMfX0Z056Fe"
      },
      "source": [
        "###\n",
        "combined_data=combined_data.drop_duplicates()\n",
        "#combined_data.set_index('Data_Point',inplace=True)\n",
        "#cd2=combined_data.drop(63990)\n",
        "#cdcombined_data.drop(127979)\n",
        "\n",
        "#cd2=combined_data;"
      ],
      "execution_count": 9,
      "outputs": []
    },
    {
      "cell_type": "code",
      "source": [
        "combined_data"
      ],
      "metadata": {
        "colab": {
          "base_uri": "https://localhost:8080/",
          "height": 441
        },
        "id": "6NHZKiuogMXL",
        "outputId": "dec904c0-4c1f-4b5e-e05e-35386179a8ce"
      },
      "execution_count": 10,
      "outputs": [
        {
          "output_type": "execute_result",
          "data": {
            "text/html": [
              "<div>\n",
              "<style scoped>\n",
              "    .dataframe tbody tr th:only-of-type {\n",
              "        vertical-align: middle;\n",
              "    }\n",
              "\n",
              "    .dataframe tbody tr th {\n",
              "        vertical-align: top;\n",
              "    }\n",
              "\n",
              "    .dataframe thead th {\n",
              "        text-align: right;\n",
              "    }\n",
              "</style>\n",
              "<table border=\"1\" class=\"dataframe\">\n",
              "  <thead>\n",
              "    <tr style=\"text-align: right;\">\n",
              "      <th></th>\n",
              "      <th>Unnamed: 0</th>\n",
              "      <th>Test_Time(s)</th>\n",
              "      <th>Cycle_Index</th>\n",
              "      <th>Current(A)</th>\n",
              "      <th>Voltage(V)</th>\n",
              "      <th>Charge_Capacity(Ah)</th>\n",
              "      <th>Discharge_Capacity(Ah)</th>\n",
              "      <th>TimeDelta</th>\n",
              "      <th>SOC</th>\n",
              "    </tr>\n",
              "  </thead>\n",
              "  <tbody>\n",
              "    <tr>\n",
              "      <th>0</th>\n",
              "      <td>0</td>\n",
              "      <td>10.000019</td>\n",
              "      <td>1.0</td>\n",
              "      <td>0.0</td>\n",
              "      <td>4.163778</td>\n",
              "      <td>0.000000</td>\n",
              "      <td>0.000000</td>\n",
              "      <td>1.000000</td>\n",
              "      <td>0.970000</td>\n",
              "    </tr>\n",
              "    <tr>\n",
              "      <th>1</th>\n",
              "      <td>1</td>\n",
              "      <td>20.015468</td>\n",
              "      <td>1.0</td>\n",
              "      <td>0.0</td>\n",
              "      <td>4.163778</td>\n",
              "      <td>0.000000</td>\n",
              "      <td>0.000000</td>\n",
              "      <td>10.015450</td>\n",
              "      <td>0.978693</td>\n",
              "    </tr>\n",
              "    <tr>\n",
              "      <th>2</th>\n",
              "      <td>2</td>\n",
              "      <td>30.030954</td>\n",
              "      <td>1.0</td>\n",
              "      <td>0.0</td>\n",
              "      <td>4.163778</td>\n",
              "      <td>0.000000</td>\n",
              "      <td>0.000000</td>\n",
              "      <td>10.015485</td>\n",
              "      <td>0.978693</td>\n",
              "    </tr>\n",
              "    <tr>\n",
              "      <th>3</th>\n",
              "      <td>3</td>\n",
              "      <td>40.046428</td>\n",
              "      <td>1.0</td>\n",
              "      <td>0.0</td>\n",
              "      <td>4.163778</td>\n",
              "      <td>0.000000</td>\n",
              "      <td>0.000000</td>\n",
              "      <td>10.015474</td>\n",
              "      <td>0.978693</td>\n",
              "    </tr>\n",
              "    <tr>\n",
              "      <th>4</th>\n",
              "      <td>4</td>\n",
              "      <td>50.061910</td>\n",
              "      <td>1.0</td>\n",
              "      <td>0.0</td>\n",
              "      <td>4.163940</td>\n",
              "      <td>0.000000</td>\n",
              "      <td>0.000000</td>\n",
              "      <td>10.015482</td>\n",
              "      <td>0.978788</td>\n",
              "    </tr>\n",
              "    <tr>\n",
              "      <th>...</th>\n",
              "      <td>...</td>\n",
              "      <td>...</td>\n",
              "      <td>...</td>\n",
              "      <td>...</td>\n",
              "      <td>...</td>\n",
              "      <td>...</td>\n",
              "      <td>...</td>\n",
              "      <td>...</td>\n",
              "      <td>...</td>\n",
              "    </tr>\n",
              "    <tr>\n",
              "      <th>157565</th>\n",
              "      <td>157565</td>\n",
              "      <td>166376.509256</td>\n",
              "      <td>19.0</td>\n",
              "      <td>0.0</td>\n",
              "      <td>4.163454</td>\n",
              "      <td>1.819286</td>\n",
              "      <td>1.805571</td>\n",
              "      <td>1.015608</td>\n",
              "      <td>0.978502</td>\n",
              "    </tr>\n",
              "    <tr>\n",
              "      <th>157566</th>\n",
              "      <td>157566</td>\n",
              "      <td>166377.524866</td>\n",
              "      <td>19.0</td>\n",
              "      <td>0.0</td>\n",
              "      <td>4.163616</td>\n",
              "      <td>1.819286</td>\n",
              "      <td>1.805571</td>\n",
              "      <td>1.015610</td>\n",
              "      <td>0.978598</td>\n",
              "    </tr>\n",
              "    <tr>\n",
              "      <th>157567</th>\n",
              "      <td>157567</td>\n",
              "      <td>166378.540471</td>\n",
              "      <td>19.0</td>\n",
              "      <td>0.0</td>\n",
              "      <td>4.163616</td>\n",
              "      <td>1.819286</td>\n",
              "      <td>1.805571</td>\n",
              "      <td>1.015605</td>\n",
              "      <td>0.978598</td>\n",
              "    </tr>\n",
              "    <tr>\n",
              "      <th>157568</th>\n",
              "      <td>157568</td>\n",
              "      <td>166379.556097</td>\n",
              "      <td>19.0</td>\n",
              "      <td>0.0</td>\n",
              "      <td>4.163616</td>\n",
              "      <td>1.819286</td>\n",
              "      <td>1.805571</td>\n",
              "      <td>1.015626</td>\n",
              "      <td>0.978598</td>\n",
              "    </tr>\n",
              "    <tr>\n",
              "      <th>157569</th>\n",
              "      <td>157569</td>\n",
              "      <td>166379.962373</td>\n",
              "      <td>19.0</td>\n",
              "      <td>0.0</td>\n",
              "      <td>4.163616</td>\n",
              "      <td>1.819286</td>\n",
              "      <td>1.805571</td>\n",
              "      <td>0.406276</td>\n",
              "      <td>0.978598</td>\n",
              "    </tr>\n",
              "  </tbody>\n",
              "</table>\n",
              "<p>157570 rows × 9 columns</p>\n",
              "</div>"
            ],
            "text/plain": [
              "        Unnamed: 0   Test_Time(s)  ...  TimeDelta       SOC\n",
              "0                0      10.000019  ...   1.000000  0.970000\n",
              "1                1      20.015468  ...  10.015450  0.978693\n",
              "2                2      30.030954  ...  10.015485  0.978693\n",
              "3                3      40.046428  ...  10.015474  0.978693\n",
              "4                4      50.061910  ...  10.015482  0.978788\n",
              "...            ...            ...  ...        ...       ...\n",
              "157565      157565  166376.509256  ...   1.015608  0.978502\n",
              "157566      157566  166377.524866  ...   1.015610  0.978598\n",
              "157567      157567  166378.540471  ...   1.015605  0.978598\n",
              "157568      157568  166379.556097  ...   1.015626  0.978598\n",
              "157569      157569  166379.962373  ...   0.406276  0.978598\n",
              "\n",
              "[157570 rows x 9 columns]"
            ]
          },
          "metadata": {},
          "execution_count": 10
        }
      ]
    },
    {
      "cell_type": "code",
      "metadata": {
        "colab": {
          "base_uri": "https://localhost:8080/",
          "height": 423
        },
        "id": "lYfOvKWBml25",
        "outputId": "3e4178ef-d393-4fd2-8bd9-9ec867fe06ea"
      },
      "source": [
        "combined_data=combined_data.iloc[:,1:] #drop first column\n",
        "combined_data.shape\n",
        "combined_data"
      ],
      "execution_count": 11,
      "outputs": [
        {
          "output_type": "execute_result",
          "data": {
            "text/html": [
              "<div>\n",
              "<style scoped>\n",
              "    .dataframe tbody tr th:only-of-type {\n",
              "        vertical-align: middle;\n",
              "    }\n",
              "\n",
              "    .dataframe tbody tr th {\n",
              "        vertical-align: top;\n",
              "    }\n",
              "\n",
              "    .dataframe thead th {\n",
              "        text-align: right;\n",
              "    }\n",
              "</style>\n",
              "<table border=\"1\" class=\"dataframe\">\n",
              "  <thead>\n",
              "    <tr style=\"text-align: right;\">\n",
              "      <th></th>\n",
              "      <th>Test_Time(s)</th>\n",
              "      <th>Cycle_Index</th>\n",
              "      <th>Current(A)</th>\n",
              "      <th>Voltage(V)</th>\n",
              "      <th>Charge_Capacity(Ah)</th>\n",
              "      <th>Discharge_Capacity(Ah)</th>\n",
              "      <th>TimeDelta</th>\n",
              "      <th>SOC</th>\n",
              "    </tr>\n",
              "  </thead>\n",
              "  <tbody>\n",
              "    <tr>\n",
              "      <th>0</th>\n",
              "      <td>10.000019</td>\n",
              "      <td>1.0</td>\n",
              "      <td>0.0</td>\n",
              "      <td>4.163778</td>\n",
              "      <td>0.000000</td>\n",
              "      <td>0.000000</td>\n",
              "      <td>1.000000</td>\n",
              "      <td>0.970000</td>\n",
              "    </tr>\n",
              "    <tr>\n",
              "      <th>1</th>\n",
              "      <td>20.015468</td>\n",
              "      <td>1.0</td>\n",
              "      <td>0.0</td>\n",
              "      <td>4.163778</td>\n",
              "      <td>0.000000</td>\n",
              "      <td>0.000000</td>\n",
              "      <td>10.015450</td>\n",
              "      <td>0.978693</td>\n",
              "    </tr>\n",
              "    <tr>\n",
              "      <th>2</th>\n",
              "      <td>30.030954</td>\n",
              "      <td>1.0</td>\n",
              "      <td>0.0</td>\n",
              "      <td>4.163778</td>\n",
              "      <td>0.000000</td>\n",
              "      <td>0.000000</td>\n",
              "      <td>10.015485</td>\n",
              "      <td>0.978693</td>\n",
              "    </tr>\n",
              "    <tr>\n",
              "      <th>3</th>\n",
              "      <td>40.046428</td>\n",
              "      <td>1.0</td>\n",
              "      <td>0.0</td>\n",
              "      <td>4.163778</td>\n",
              "      <td>0.000000</td>\n",
              "      <td>0.000000</td>\n",
              "      <td>10.015474</td>\n",
              "      <td>0.978693</td>\n",
              "    </tr>\n",
              "    <tr>\n",
              "      <th>4</th>\n",
              "      <td>50.061910</td>\n",
              "      <td>1.0</td>\n",
              "      <td>0.0</td>\n",
              "      <td>4.163940</td>\n",
              "      <td>0.000000</td>\n",
              "      <td>0.000000</td>\n",
              "      <td>10.015482</td>\n",
              "      <td>0.978788</td>\n",
              "    </tr>\n",
              "    <tr>\n",
              "      <th>...</th>\n",
              "      <td>...</td>\n",
              "      <td>...</td>\n",
              "      <td>...</td>\n",
              "      <td>...</td>\n",
              "      <td>...</td>\n",
              "      <td>...</td>\n",
              "      <td>...</td>\n",
              "      <td>...</td>\n",
              "    </tr>\n",
              "    <tr>\n",
              "      <th>157565</th>\n",
              "      <td>166376.509256</td>\n",
              "      <td>19.0</td>\n",
              "      <td>0.0</td>\n",
              "      <td>4.163454</td>\n",
              "      <td>1.819286</td>\n",
              "      <td>1.805571</td>\n",
              "      <td>1.015608</td>\n",
              "      <td>0.978502</td>\n",
              "    </tr>\n",
              "    <tr>\n",
              "      <th>157566</th>\n",
              "      <td>166377.524866</td>\n",
              "      <td>19.0</td>\n",
              "      <td>0.0</td>\n",
              "      <td>4.163616</td>\n",
              "      <td>1.819286</td>\n",
              "      <td>1.805571</td>\n",
              "      <td>1.015610</td>\n",
              "      <td>0.978598</td>\n",
              "    </tr>\n",
              "    <tr>\n",
              "      <th>157567</th>\n",
              "      <td>166378.540471</td>\n",
              "      <td>19.0</td>\n",
              "      <td>0.0</td>\n",
              "      <td>4.163616</td>\n",
              "      <td>1.819286</td>\n",
              "      <td>1.805571</td>\n",
              "      <td>1.015605</td>\n",
              "      <td>0.978598</td>\n",
              "    </tr>\n",
              "    <tr>\n",
              "      <th>157568</th>\n",
              "      <td>166379.556097</td>\n",
              "      <td>19.0</td>\n",
              "      <td>0.0</td>\n",
              "      <td>4.163616</td>\n",
              "      <td>1.819286</td>\n",
              "      <td>1.805571</td>\n",
              "      <td>1.015626</td>\n",
              "      <td>0.978598</td>\n",
              "    </tr>\n",
              "    <tr>\n",
              "      <th>157569</th>\n",
              "      <td>166379.962373</td>\n",
              "      <td>19.0</td>\n",
              "      <td>0.0</td>\n",
              "      <td>4.163616</td>\n",
              "      <td>1.819286</td>\n",
              "      <td>1.805571</td>\n",
              "      <td>0.406276</td>\n",
              "      <td>0.978598</td>\n",
              "    </tr>\n",
              "  </tbody>\n",
              "</table>\n",
              "<p>157570 rows × 8 columns</p>\n",
              "</div>"
            ],
            "text/plain": [
              "         Test_Time(s)  Cycle_Index  ...  TimeDelta       SOC\n",
              "0           10.000019          1.0  ...   1.000000  0.970000\n",
              "1           20.015468          1.0  ...  10.015450  0.978693\n",
              "2           30.030954          1.0  ...  10.015485  0.978693\n",
              "3           40.046428          1.0  ...  10.015474  0.978693\n",
              "4           50.061910          1.0  ...  10.015482  0.978788\n",
              "...               ...          ...  ...        ...       ...\n",
              "157565  166376.509256         19.0  ...   1.015608  0.978502\n",
              "157566  166377.524866         19.0  ...   1.015610  0.978598\n",
              "157567  166378.540471         19.0  ...   1.015605  0.978598\n",
              "157568  166379.556097         19.0  ...   1.015626  0.978598\n",
              "157569  166379.962373         19.0  ...   0.406276  0.978598\n",
              "\n",
              "[157570 rows x 8 columns]"
            ]
          },
          "metadata": {},
          "execution_count": 11
        }
      ]
    },
    {
      "cell_type": "code",
      "source": [
        "combined_data=combined_data.drop(columns=['Charge_Capacity(Ah)','Discharge_Capacity(Ah)','TimeDelta'])"
      ],
      "metadata": {
        "id": "AaFig_2fj2kU"
      },
      "execution_count": 12,
      "outputs": []
    },
    {
      "cell_type": "code",
      "metadata": {
        "id": "D1gdmPPRs-kJ",
        "colab": {
          "base_uri": "https://localhost:8080/",
          "height": 298
        },
        "outputId": "a94fe73a-d3e0-4e44-84de-c4b32d2b2692"
      },
      "source": [
        "combined_data.hist()\n",
        "plt.figure(figsize=(20,20))\n",
        "plt.show()"
      ],
      "execution_count": null,
      "outputs": [
        {
          "output_type": "display_data",
          "data": {
            "image/png": "[encoded data removed]",
            "text/plain": [
              "<Figure size 432x288 with 6 Axes>"
            ]
          },
          "metadata": {
            "needs_background": "light"
          }
        },
        {
          "output_type": "display_data",
          "data": {
            "text/plain": [
              "<Figure size 1440x1440 with 0 Axes>"
            ]
          },
          "metadata": {}
        }
      ]
    },
    {
      "cell_type": "code",
      "source": [
        "combined_data=combined_data.drop(columns=['Test_Time(s)'])"
      ],
      "metadata": {
        "id": "V47_5QPvkYg1"
      },
      "execution_count": 13,
      "outputs": []
    },
    {
      "cell_type": "code",
      "metadata": {
        "colab": {
          "base_uri": "https://localhost:8080/",
          "height": 1000
        },
        "id": "_0OIEihXABYQ",
        "outputId": "887618d5-ceb5-42b3-aa7a-d8464d04e7d5"
      },
      "source": [
        "  fig = plt.figure(figsize = (15,15))\n",
        "  ax = fig.gca()\n",
        "  combined_data.hist(ax = ax)"
      ],
      "execution_count": null,
      "outputs": [
        {
          "output_type": "stream",
          "name": "stderr",
          "text": [
            "/usr/local/lib/python3.7/dist-packages/ipykernel_launcher.py:3: UserWarning: To output multiple subplots, the figure containing the passed axes is being cleared\n",
            "  This is separate from the ipykernel package so we can avoid doing imports until\n"
          ]
        },
        {
          "output_type": "execute_result",
          "data": {
            "text/plain": [
              "array([[<matplotlib.axes._subplots.AxesSubplot object at 0x7fe38415e890>,\n",
              "        <matplotlib.axes._subplots.AxesSubplot object at 0x7fe382f78e50>],\n",
              "       [<matplotlib.axes._subplots.AxesSubplot object at 0x7fe380164390>,\n",
              "        <matplotlib.axes._subplots.AxesSubplot object at 0x7fe384055890>]],\n",
              "      dtype=object)"
            ]
          },
          "metadata": {},
          "execution_count": 48
        },
        {
          "output_type": "display_data",
          "data": {
            "image/png": "[encoded data removed]",
            "text/plain": [
              "<Figure size 1080x1080 with 4 Axes>"
            ]
          },
          "metadata": {
            "needs_background": "light"
          }
        }
      ]
    },
    {
      "cell_type": "code",
      "metadata": {
        "colab": {
          "base_uri": "https://localhost:8080/",
          "height": 488
        },
        "id": "AG_E_pvAvEvy",
        "outputId": "0b4f22df-a59b-4794-846f-1ab4dc483e71"
      },
      "source": [
        "correlations = combined_data.corr()\n",
        "plt.figure(figsize=(8,8))\n",
        "sns.heatmap(correlations, cmap='RdBu_r')\n",
        "plt.show()"
      ],
      "execution_count": null,
      "outputs": [
        {
          "output_type": "display_data",
          "data": {
            "image/png": "[encoded data removed]",
            "text/plain": [
              "<Figure size 576x576 with 2 Axes>"
            ]
          },
          "metadata": {
            "needs_background": "light"
          }
        }
      ]
    },
    {
      "cell_type": "code",
      "metadata": {
        "colab": {
          "base_uri": "https://localhost:8080/",
          "height": 300
        },
        "id": "IbtPgY8nDvbp",
        "outputId": "3c71c950-6b96-404f-a14b-01fee433aa99"
      },
      "source": [
        "combined_data.describe()"
      ],
      "execution_count": 14,
      "outputs": [
        {
          "output_type": "execute_result",
          "data": {
            "text/html": [
              "<div>\n",
              "<style scoped>\n",
              "    .dataframe tbody tr th:only-of-type {\n",
              "        vertical-align: middle;\n",
              "    }\n",
              "\n",
              "    .dataframe tbody tr th {\n",
              "        vertical-align: top;\n",
              "    }\n",
              "\n",
              "    .dataframe thead th {\n",
              "        text-align: right;\n",
              "    }\n",
              "</style>\n",
              "<table border=\"1\" class=\"dataframe\">\n",
              "  <thead>\n",
              "    <tr style=\"text-align: right;\">\n",
              "      <th></th>\n",
              "      <th>Cycle_Index</th>\n",
              "      <th>Current(A)</th>\n",
              "      <th>Voltage(V)</th>\n",
              "      <th>SOC</th>\n",
              "    </tr>\n",
              "  </thead>\n",
              "  <tbody>\n",
              "    <tr>\n",
              "      <th>count</th>\n",
              "      <td>157570.000000</td>\n",
              "      <td>157570.000000</td>\n",
              "      <td>157570.000000</td>\n",
              "      <td>157570.000000</td>\n",
              "    </tr>\n",
              "    <tr>\n",
              "      <th>mean</th>\n",
              "      <td>10.490157</td>\n",
              "      <td>-0.000120</td>\n",
              "      <td>3.756622</td>\n",
              "      <td>0.736358</td>\n",
              "    </tr>\n",
              "    <tr>\n",
              "      <th>std</th>\n",
              "      <td>5.748668</td>\n",
              "      <td>0.280592</td>\n",
              "      <td>0.209131</td>\n",
              "      <td>0.121619</td>\n",
              "    </tr>\n",
              "    <tr>\n",
              "      <th>min</th>\n",
              "      <td>1.000000</td>\n",
              "      <td>-1.000412</td>\n",
              "      <td>2.577044</td>\n",
              "      <td>0.045320</td>\n",
              "    </tr>\n",
              "    <tr>\n",
              "      <th>25%</th>\n",
              "      <td>5.000000</td>\n",
              "      <td>0.000000</td>\n",
              "      <td>3.600780</td>\n",
              "      <td>0.646755</td>\n",
              "    </tr>\n",
              "    <tr>\n",
              "      <th>50%</th>\n",
              "      <td>11.000000</td>\n",
              "      <td>0.000000</td>\n",
              "      <td>3.694451</td>\n",
              "      <td>0.701856</td>\n",
              "    </tr>\n",
              "    <tr>\n",
              "      <th>75%</th>\n",
              "      <td>16.000000</td>\n",
              "      <td>0.000000</td>\n",
              "      <td>3.950466</td>\n",
              "      <td>0.851428</td>\n",
              "    </tr>\n",
              "    <tr>\n",
              "      <th>max</th>\n",
              "      <td>19.000000</td>\n",
              "      <td>0.999904</td>\n",
              "      <td>4.262149</td>\n",
              "      <td>1.000000</td>\n",
              "    </tr>\n",
              "  </tbody>\n",
              "</table>\n",
              "</div>"
            ],
            "text/plain": [
              "         Cycle_Index     Current(A)     Voltage(V)            SOC\n",
              "count  157570.000000  157570.000000  157570.000000  157570.000000\n",
              "mean       10.490157      -0.000120       3.756622       0.736358\n",
              "std         5.748668       0.280592       0.209131       0.121619\n",
              "min         1.000000      -1.000412       2.577044       0.045320\n",
              "25%         5.000000       0.000000       3.600780       0.646755\n",
              "50%        11.000000       0.000000       3.694451       0.701856\n",
              "75%        16.000000       0.000000       3.950466       0.851428\n",
              "max        19.000000       0.999904       4.262149       1.000000"
            ]
          },
          "metadata": {},
          "execution_count": 14
        }
      ]
    },
    {
      "cell_type": "markdown",
      "metadata": {
        "id": "jej3N8-4JDj4"
      },
      "source": [
        "Deleting 0 valued columns"
      ]
    },
    {
      "cell_type": "code",
      "metadata": {
        "colab": {
          "base_uri": "https://localhost:8080/",
          "height": 300
        },
        "id": "lA5X5VM0CvOI",
        "outputId": "572f4feb-52f6-4fcb-8314-d178eebd1983"
      },
      "source": [
        "#cd2=pd.read_csv('/content/drive/MyDrive/LSTM_SOC_Implementation/r1.csv')\n",
        "cd2=combined_data\n",
        "cd2.describe()"
      ],
      "execution_count": 15,
      "outputs": [
        {
          "output_type": "execute_result",
          "data": {
            "text/html": [
              "<div>\n",
              "<style scoped>\n",
              "    .dataframe tbody tr th:only-of-type {\n",
              "        vertical-align: middle;\n",
              "    }\n",
              "\n",
              "    .dataframe tbody tr th {\n",
              "        vertical-align: top;\n",
              "    }\n",
              "\n",
              "    .dataframe thead th {\n",
              "        text-align: right;\n",
              "    }\n",
              "</style>\n",
              "<table border=\"1\" class=\"dataframe\">\n",
              "  <thead>\n",
              "    <tr style=\"text-align: right;\">\n",
              "      <th></th>\n",
              "      <th>Cycle_Index</th>\n",
              "      <th>Current(A)</th>\n",
              "      <th>Voltage(V)</th>\n",
              "      <th>SOC</th>\n",
              "    </tr>\n",
              "  </thead>\n",
              "  <tbody>\n",
              "    <tr>\n",
              "      <th>count</th>\n",
              "      <td>157570.000000</td>\n",
              "      <td>157570.000000</td>\n",
              "      <td>157570.000000</td>\n",
              "      <td>157570.000000</td>\n",
              "    </tr>\n",
              "    <tr>\n",
              "      <th>mean</th>\n",
              "      <td>10.490157</td>\n",
              "      <td>-0.000120</td>\n",
              "      <td>3.756622</td>\n",
              "      <td>0.736358</td>\n",
              "    </tr>\n",
              "    <tr>\n",
              "      <th>std</th>\n",
              "      <td>5.748668</td>\n",
              "      <td>0.280592</td>\n",
              "      <td>0.209131</td>\n",
              "      <td>0.121619</td>\n",
              "    </tr>\n",
              "    <tr>\n",
              "      <th>min</th>\n",
              "      <td>1.000000</td>\n",
              "      <td>-1.000412</td>\n",
              "      <td>2.577044</td>\n",
              "      <td>0.045320</td>\n",
              "    </tr>\n",
              "    <tr>\n",
              "      <th>25%</th>\n",
              "      <td>5.000000</td>\n",
              "      <td>0.000000</td>\n",
              "      <td>3.600780</td>\n",
              "      <td>0.646755</td>\n",
              "    </tr>\n",
              "    <tr>\n",
              "      <th>50%</th>\n",
              "      <td>11.000000</td>\n",
              "      <td>0.000000</td>\n",
              "      <td>3.694451</td>\n",
              "      <td>0.701856</td>\n",
              "    </tr>\n",
              "    <tr>\n",
              "      <th>75%</th>\n",
              "      <td>16.000000</td>\n",
              "      <td>0.000000</td>\n",
              "      <td>3.950466</td>\n",
              "      <td>0.851428</td>\n",
              "    </tr>\n",
              "    <tr>\n",
              "      <th>max</th>\n",
              "      <td>19.000000</td>\n",
              "      <td>0.999904</td>\n",
              "      <td>4.262149</td>\n",
              "      <td>1.000000</td>\n",
              "    </tr>\n",
              "  </tbody>\n",
              "</table>\n",
              "</div>"
            ],
            "text/plain": [
              "         Cycle_Index     Current(A)     Voltage(V)            SOC\n",
              "count  157570.000000  157570.000000  157570.000000  157570.000000\n",
              "mean       10.490157      -0.000120       3.756622       0.736358\n",
              "std         5.748668       0.280592       0.209131       0.121619\n",
              "min         1.000000      -1.000412       2.577044       0.045320\n",
              "25%         5.000000       0.000000       3.600780       0.646755\n",
              "50%        11.000000       0.000000       3.694451       0.701856\n",
              "75%        16.000000       0.000000       3.950466       0.851428\n",
              "max        19.000000       0.999904       4.262149       1.000000"
            ]
          },
          "metadata": {},
          "execution_count": 15
        }
      ]
    },
    {
      "cell_type": "code",
      "metadata": {
        "colab": {
          "base_uri": "https://localhost:8080/",
          "height": 423
        },
        "id": "FSzDs6JUPobf",
        "outputId": "f8fe6c38-5f53-46b7-bc95-337f0b411f52"
      },
      "source": [
        "cd2"
      ],
      "execution_count": 16,
      "outputs": [
        {
          "output_type": "execute_result",
          "data": {
            "text/html": [
              "<div>\n",
              "<style scoped>\n",
              "    .dataframe tbody tr th:only-of-type {\n",
              "        vertical-align: middle;\n",
              "    }\n",
              "\n",
              "    .dataframe tbody tr th {\n",
              "        vertical-align: top;\n",
              "    }\n",
              "\n",
              "    .dataframe thead th {\n",
              "        text-align: right;\n",
              "    }\n",
              "</style>\n",
              "<table border=\"1\" class=\"dataframe\">\n",
              "  <thead>\n",
              "    <tr style=\"text-align: right;\">\n",
              "      <th></th>\n",
              "      <th>Cycle_Index</th>\n",
              "      <th>Current(A)</th>\n",
              "      <th>Voltage(V)</th>\n",
              "      <th>SOC</th>\n",
              "    </tr>\n",
              "  </thead>\n",
              "  <tbody>\n",
              "    <tr>\n",
              "      <th>0</th>\n",
              "      <td>1.0</td>\n",
              "      <td>0.0</td>\n",
              "      <td>4.163778</td>\n",
              "      <td>0.970000</td>\n",
              "    </tr>\n",
              "    <tr>\n",
              "      <th>1</th>\n",
              "      <td>1.0</td>\n",
              "      <td>0.0</td>\n",
              "      <td>4.163778</td>\n",
              "      <td>0.978693</td>\n",
              "    </tr>\n",
              "    <tr>\n",
              "      <th>2</th>\n",
              "      <td>1.0</td>\n",
              "      <td>0.0</td>\n",
              "      <td>4.163778</td>\n",
              "      <td>0.978693</td>\n",
              "    </tr>\n",
              "    <tr>\n",
              "      <th>3</th>\n",
              "      <td>1.0</td>\n",
              "      <td>0.0</td>\n",
              "      <td>4.163778</td>\n",
              "      <td>0.978693</td>\n",
              "    </tr>\n",
              "    <tr>\n",
              "      <th>4</th>\n",
              "      <td>1.0</td>\n",
              "      <td>0.0</td>\n",
              "      <td>4.163940</td>\n",
              "      <td>0.978788</td>\n",
              "    </tr>\n",
              "    <tr>\n",
              "      <th>...</th>\n",
              "      <td>...</td>\n",
              "      <td>...</td>\n",
              "      <td>...</td>\n",
              "      <td>...</td>\n",
              "    </tr>\n",
              "    <tr>\n",
              "      <th>157565</th>\n",
              "      <td>19.0</td>\n",
              "      <td>0.0</td>\n",
              "      <td>4.163454</td>\n",
              "      <td>0.978502</td>\n",
              "    </tr>\n",
              "    <tr>\n",
              "      <th>157566</th>\n",
              "      <td>19.0</td>\n",
              "      <td>0.0</td>\n",
              "      <td>4.163616</td>\n",
              "      <td>0.978598</td>\n",
              "    </tr>\n",
              "    <tr>\n",
              "      <th>157567</th>\n",
              "      <td>19.0</td>\n",
              "      <td>0.0</td>\n",
              "      <td>4.163616</td>\n",
              "      <td>0.978598</td>\n",
              "    </tr>\n",
              "    <tr>\n",
              "      <th>157568</th>\n",
              "      <td>19.0</td>\n",
              "      <td>0.0</td>\n",
              "      <td>4.163616</td>\n",
              "      <td>0.978598</td>\n",
              "    </tr>\n",
              "    <tr>\n",
              "      <th>157569</th>\n",
              "      <td>19.0</td>\n",
              "      <td>0.0</td>\n",
              "      <td>4.163616</td>\n",
              "      <td>0.978598</td>\n",
              "    </tr>\n",
              "  </tbody>\n",
              "</table>\n",
              "<p>157570 rows × 4 columns</p>\n",
              "</div>"
            ],
            "text/plain": [
              "        Cycle_Index  Current(A)  Voltage(V)       SOC\n",
              "0               1.0         0.0    4.163778  0.970000\n",
              "1               1.0         0.0    4.163778  0.978693\n",
              "2               1.0         0.0    4.163778  0.978693\n",
              "3               1.0         0.0    4.163778  0.978693\n",
              "4               1.0         0.0    4.163940  0.978788\n",
              "...             ...         ...         ...       ...\n",
              "157565         19.0         0.0    4.163454  0.978502\n",
              "157566         19.0         0.0    4.163616  0.978598\n",
              "157567         19.0         0.0    4.163616  0.978598\n",
              "157568         19.0         0.0    4.163616  0.978598\n",
              "157569         19.0         0.0    4.163616  0.978598\n",
              "\n",
              "[157570 rows x 4 columns]"
            ]
          },
          "metadata": {},
          "execution_count": 16
        }
      ]
    },
    {
      "cell_type": "code",
      "metadata": {
        "id": "VVAxdxD_FSA2"
      },
      "source": [
        "y = cd2.SOC\n",
        "X = cd2.drop(['SOC'], axis=1)"
      ],
      "execution_count": 17,
      "outputs": []
    },
    {
      "cell_type": "code",
      "metadata": {
        "colab": {
          "base_uri": "https://localhost:8080/",
          "height": 300
        },
        "id": "lWEv98nHWPCz",
        "outputId": "948bebf9-02e3-4bc7-c02a-0021af286826"
      },
      "source": [
        "X.describe()"
      ],
      "execution_count": null,
      "outputs": [
        {
          "output_type": "execute_result",
          "data": {
            "text/html": [
              "<div>\n",
              "<style scoped>\n",
              "    .dataframe tbody tr th:only-of-type {\n",
              "        vertical-align: middle;\n",
              "    }\n",
              "\n",
              "    .dataframe tbody tr th {\n",
              "        vertical-align: top;\n",
              "    }\n",
              "\n",
              "    .dataframe thead th {\n",
              "        text-align: right;\n",
              "    }\n",
              "</style>\n",
              "<table border=\"1\" class=\"dataframe\">\n",
              "  <thead>\n",
              "    <tr style=\"text-align: right;\">\n",
              "      <th></th>\n",
              "      <th>Cycle_Index</th>\n",
              "      <th>Current(A)</th>\n",
              "      <th>Voltage(V)</th>\n",
              "    </tr>\n",
              "  </thead>\n",
              "  <tbody>\n",
              "    <tr>\n",
              "      <th>count</th>\n",
              "      <td>157570.000000</td>\n",
              "      <td>157570.000000</td>\n",
              "      <td>157570.000000</td>\n",
              "    </tr>\n",
              "    <tr>\n",
              "      <th>mean</th>\n",
              "      <td>10.490157</td>\n",
              "      <td>-0.000120</td>\n",
              "      <td>3.756622</td>\n",
              "    </tr>\n",
              "    <tr>\n",
              "      <th>std</th>\n",
              "      <td>5.748668</td>\n",
              "      <td>0.280592</td>\n",
              "      <td>0.209131</td>\n",
              "    </tr>\n",
              "    <tr>\n",
              "      <th>min</th>\n",
              "      <td>1.000000</td>\n",
              "      <td>-1.000412</td>\n",
              "      <td>2.577044</td>\n",
              "    </tr>\n",
              "    <tr>\n",
              "      <th>25%</th>\n",
              "      <td>5.000000</td>\n",
              "      <td>0.000000</td>\n",
              "      <td>3.600780</td>\n",
              "    </tr>\n",
              "    <tr>\n",
              "      <th>50%</th>\n",
              "      <td>11.000000</td>\n",
              "      <td>0.000000</td>\n",
              "      <td>3.694451</td>\n",
              "    </tr>\n",
              "    <tr>\n",
              "      <th>75%</th>\n",
              "      <td>16.000000</td>\n",
              "      <td>0.000000</td>\n",
              "      <td>3.950466</td>\n",
              "    </tr>\n",
              "    <tr>\n",
              "      <th>max</th>\n",
              "      <td>19.000000</td>\n",
              "      <td>0.999904</td>\n",
              "      <td>4.262149</td>\n",
              "    </tr>\n",
              "  </tbody>\n",
              "</table>\n",
              "</div>"
            ],
            "text/plain": [
              "         Cycle_Index     Current(A)     Voltage(V)\n",
              "count  157570.000000  157570.000000  157570.000000\n",
              "mean       10.490157      -0.000120       3.756622\n",
              "std         5.748668       0.280592       0.209131\n",
              "min         1.000000      -1.000412       2.577044\n",
              "25%         5.000000       0.000000       3.600780\n",
              "50%        11.000000       0.000000       3.694451\n",
              "75%        16.000000       0.000000       3.950466\n",
              "max        19.000000       0.999904       4.262149"
            ]
          },
          "metadata": {},
          "execution_count": 19
        }
      ]
    },
    {
      "cell_type": "markdown",
      "metadata": {
        "id": "7or5lAg9zv05"
      },
      "source": [
        "split"
      ]
    },
    {
      "cell_type": "code",
      "metadata": {
        "colab": {
          "base_uri": "https://localhost:8080/"
        },
        "id": "f3KejRNIz8L6",
        "outputId": "e1b1c185-1dcd-4654-9609-8c483feea00a"
      },
      "source": [
        "cd2.values"
      ],
      "execution_count": 18,
      "outputs": [
        {
          "output_type": "execute_result",
          "data": {
            "text/plain": [
              "array([[ 1.        ,  0.        ,  4.16377831,  0.97      ],\n",
              "       [ 1.        ,  0.        ,  4.16377831,  0.97869312],\n",
              "       [ 1.        ,  0.        ,  4.16377831,  0.97869312],\n",
              "       ...,\n",
              "       [19.        ,  0.        ,  4.16361618,  0.97859775],\n",
              "       [19.        ,  0.        ,  4.16361618,  0.97859775],\n",
              "       [19.        ,  0.        ,  4.16361618,  0.97859775]])"
            ]
          },
          "metadata": {},
          "execution_count": 18
        }
      ]
    },
    {
      "cell_type": "code",
      "metadata": {
        "id": "xZ7aC4j11Rpw"
      },
      "source": [
        "from sklearn.preprocessing import MinMaxScaler\n"
      ],
      "execution_count": 19,
      "outputs": []
    },
    {
      "cell_type": "code",
      "metadata": {
        "id": "ihBUmg5bzu8E"
      },
      "source": [
        "dataset = cd2.SOC.values #numpy.ndarray\n",
        "dataset = dataset.astype('float64')\n",
        "dataset = np.reshape(dataset, (-1, 1))\n",
        "scaler = MinMaxScaler(feature_range=(0, 1))\n",
        "dataset = scaler.fit_transform(dataset)\n",
        "train_size = int(len(dataset) * 0.80)\n",
        "test_size = len(dataset) - train_size\n",
        "train, test = dataset[0:train_size,:], dataset[train_size:len(dataset),:]"
      ],
      "execution_count": 20,
      "outputs": []
    },
    {
      "cell_type": "code",
      "metadata": {
        "id": "JYjXEEeV1Xmy"
      },
      "source": [
        "# convert an array of values into a dataset matrix\n",
        "def create_dataset(dataset, look_back=1):\n",
        "    X, Y = [], []\n",
        "    for i in range(len(dataset)-look_back-1):\n",
        "        a = dataset[i:(i+look_back), 0]\n",
        "        X.append(a)\n",
        "        Y.append(dataset[i + look_back, 0])\n",
        "    return np.array(X), np.array(Y)"
      ],
      "execution_count": 21,
      "outputs": []
    },
    {
      "cell_type": "code",
      "metadata": {
        "id": "dw523Skl1al8"
      },
      "source": [
        "# reshape into X=t and Y=t+1\n",
        "look_back = 3\n",
        "\n",
        "X_train, Y_train = create_dataset(train, look_back)\n",
        "X_test, Y_test = create_dataset(test, look_back)"
      ],
      "execution_count": 34,
      "outputs": []
    },
    {
      "cell_type": "code",
      "source": [
        "X_train"
      ],
      "metadata": {
        "colab": {
          "base_uri": "https://localhost:8080/"
        },
        "id": "Uk0IHjKKlUnK",
        "outputId": "4bbefb13-fe74-4ec1-ce1e-10e0da94f950"
      },
      "execution_count": 23,
      "outputs": [
        {
          "output_type": "execute_result",
          "data": {
            "text/plain": [
              "array([[0.96857586, 0.97768166, 0.97768166],\n",
              "       [0.97768166, 0.97768166, 0.97768166],\n",
              "       [0.97768166, 0.97768166, 0.97778155],\n",
              "       ...,\n",
              "       [0.8012376 , 0.8012376 , 0.8012376 ],\n",
              "       [0.8012376 , 0.8012376 , 0.8012376 ],\n",
              "       [0.8012376 , 0.8012376 , 0.80113771]])"
            ]
          },
          "metadata": {},
          "execution_count": 23
        }
      ]
    },
    {
      "cell_type": "code",
      "metadata": {
        "colab": {
          "base_uri": "https://localhost:8080/"
        },
        "id": "yu8EmIUW13Ts",
        "outputId": "8d26008f-ba3d-45d2-e8d5-ba3bc6e6d91e"
      },
      "source": [
        "X_train.shape"
      ],
      "execution_count": 24,
      "outputs": [
        {
          "output_type": "execute_result",
          "data": {
            "text/plain": [
              "(126052, 3)"
            ]
          },
          "metadata": {},
          "execution_count": 24
        }
      ]
    },
    {
      "cell_type": "code",
      "metadata": {
        "colab": {
          "base_uri": "https://localhost:8080/"
        },
        "id": "yaHqs7FL2FKn",
        "outputId": "310c1d5e-8efd-4f22-ded1-45d0ad07e6b9"
      },
      "source": [
        "Y_train.shape"
      ],
      "execution_count": 25,
      "outputs": [
        {
          "output_type": "execute_result",
          "data": {
            "text/plain": [
              "(126052,)"
            ]
          },
          "metadata": {},
          "execution_count": 25
        }
      ]
    },
    {
      "cell_type": "code",
      "metadata": {
        "id": "ntkwGpFK2Kvv"
      },
      "source": [
        "# reshape input to be [samples, time steps, features]\n",
        "X_train = np.reshape(X_train, (X_train.shape[0], 1, X_train.shape[1]))\n",
        "X_test = np.reshape(X_test, (X_test.shape[0], 1, X_test.shape[1]))"
      ],
      "execution_count": 35,
      "outputs": []
    },
    {
      "cell_type": "code",
      "metadata": {
        "id": "06NjbtWi2Z6m"
      },
      "source": [
        "import math\n",
        "import keras\n",
        "from keras.models import Sequential\n",
        "from keras.layers import Dense\n",
        "from keras.layers import LSTM\n",
        "from keras.layers import Dropout\n",
        "from keras.layers import *\n",
        "from sklearn.preprocessing import MinMaxScaler\n",
        "from sklearn.metrics import mean_squared_error\n",
        "from sklearn.metrics import mean_absolute_error\n",
        "from keras.callbacks import EarlyStopping"
      ],
      "execution_count": 27,
      "outputs": []
    },
    {
      "cell_type": "code",
      "metadata": {
        "colab": {
          "base_uri": "https://localhost:8080/"
        },
        "id": "tFJgXQVc2QAj",
        "outputId": "f26069f0-3f63-4e5e-dd4c-f179739d0143"
      },
      "source": [
        "model = Sequential()\n",
        "model.add(LSTM(64,return_sequences=True, input_shape=(X_train.shape[1], X_train.shape[2])))\n",
        "model.add(LSTM(32, input_shape=(X_train.shape[1], X_train.shape[2])))\n",
        "model.add(Dropout(0.15))\n",
        "model.add(Dense(2))\n",
        "model.compile(loss='mean_squared_error', optimizer='adam')\n",
        "\n",
        "history = model.fit(X_train, Y_train, epochs=100, batch_size=32, validation_data=(X_test, Y_test), \n",
        "                    callbacks=[EarlyStopping(monitor='val_loss', patience=30)], verbose=1, shuffle=False)\n",
        "\n",
        "# Training Phase\n",
        "model.summary()"
      ],
      "execution_count": 37,
      "outputs": [
        {
          "output_type": "stream",
          "name": "stdout",
          "text": [
            "Epoch 1/100\n",
            "3940/3940 [==============================] - 31s 6ms/step - loss: 0.0106 - val_loss: 0.0023\n",
            "Epoch 2/100\n",
            "3940/3940 [==============================] - 25s 6ms/step - loss: 0.0011 - val_loss: 0.0084\n",
            "Epoch 3/100\n",
            "3940/3940 [==============================] - 25s 6ms/step - loss: 9.9009e-04 - val_loss: 0.0134\n",
            "Epoch 4/100\n",
            "3940/3940 [==============================] - 23s 6ms/step - loss: 0.0010 - val_loss: 0.0167\n",
            "Epoch 5/100\n",
            "3940/3940 [==============================] - 24s 6ms/step - loss: 8.6625e-04 - val_loss: 0.0128\n",
            "Epoch 6/100\n",
            "3940/3940 [==============================] - 24s 6ms/step - loss: 7.0392e-04 - val_loss: 0.0113\n",
            "Epoch 7/100\n",
            "3940/3940 [==============================] - 23s 6ms/step - loss: 6.1987e-04 - val_loss: 0.0095\n",
            "Epoch 8/100\n",
            "3940/3940 [==============================] - 23s 6ms/step - loss: 5.8920e-04 - val_loss: 0.0089\n",
            "Epoch 9/100\n",
            "3940/3940 [==============================] - 26s 7ms/step - loss: 5.2599e-04 - val_loss: 0.0086\n",
            "Epoch 10/100\n",
            "3940/3940 [==============================] - 24s 6ms/step - loss: 4.4933e-04 - val_loss: 0.0085\n",
            "Epoch 11/100\n",
            "3940/3940 [==============================] - 26s 7ms/step - loss: 3.9215e-04 - val_loss: 0.0084\n",
            "Epoch 12/100\n",
            "3940/3940 [==============================] - 27s 7ms/step - loss: 3.3314e-04 - val_loss: 0.0083\n",
            "Epoch 13/100\n",
            "3940/3940 [==============================] - 25s 6ms/step - loss: 3.0931e-04 - val_loss: 0.0082\n",
            "Epoch 14/100\n",
            "3940/3940 [==============================] - 25s 6ms/step - loss: 2.7640e-04 - val_loss: 0.0081\n",
            "Epoch 15/100\n",
            "3940/3940 [==============================] - 24s 6ms/step - loss: 2.5848e-04 - val_loss: 0.0082\n",
            "Epoch 16/100\n",
            "3940/3940 [==============================] - 22s 6ms/step - loss: 2.5073e-04 - val_loss: 0.0082\n",
            "Epoch 17/100\n",
            "3940/3940 [==============================] - 22s 6ms/step - loss: 2.5102e-04 - val_loss: 0.0083\n",
            "Epoch 18/100\n",
            "3940/3940 [==============================] - 22s 6ms/step - loss: 2.4159e-04 - val_loss: 0.0084\n",
            "Epoch 19/100\n",
            "3940/3940 [==============================] - 22s 6ms/step - loss: 2.7248e-04 - val_loss: 0.0077\n",
            "Epoch 20/100\n",
            "3940/3940 [==============================] - 23s 6ms/step - loss: 2.2125e-04 - val_loss: 0.0083\n",
            "Epoch 21/100\n",
            "3940/3940 [==============================] - 22s 6ms/step - loss: 2.4372e-04 - val_loss: 0.0080\n",
            "Epoch 22/100\n",
            "3940/3940 [==============================] - 24s 6ms/step - loss: 2.2998e-04 - val_loss: 0.0080\n",
            "Epoch 23/100\n",
            "3940/3940 [==============================] - 23s 6ms/step - loss: 2.1166e-04 - val_loss: 0.0086\n",
            "Epoch 24/100\n",
            "3940/3940 [==============================] - 24s 6ms/step - loss: 2.4960e-04 - val_loss: 0.0077\n",
            "Epoch 25/100\n",
            "3940/3940 [==============================] - 24s 6ms/step - loss: 2.1409e-04 - val_loss: 0.0082\n",
            "Epoch 26/100\n",
            "3940/3940 [==============================] - 23s 6ms/step - loss: 2.3553e-04 - val_loss: 0.0079\n",
            "Epoch 27/100\n",
            "3940/3940 [==============================] - 23s 6ms/step - loss: 1.9454e-04 - val_loss: 0.0086\n",
            "Epoch 28/100\n",
            "3940/3940 [==============================] - 22s 6ms/step - loss: 2.4424e-04 - val_loss: 0.0078\n",
            "Epoch 29/100\n",
            "3940/3940 [==============================] - 23s 6ms/step - loss: 2.0598e-04 - val_loss: 0.0080\n",
            "Epoch 30/100\n",
            "3940/3940 [==============================] - 22s 6ms/step - loss: 2.0613e-04 - val_loss: 0.0082\n",
            "Epoch 31/100\n",
            "3940/3940 [==============================] - 24s 6ms/step - loss: 2.1675e-04 - val_loss: 0.0080\n",
            "Model: \"sequential_2\"\n",
            "_________________________________________________________________\n",
            " Layer (type)                Output Shape              Param #   \n",
            "=================================================================\n",
            " lstm_3 (LSTM)               (None, 1, 64)             17408     \n",
            "                                                                 \n",
            " lstm_4 (LSTM)               (None, 32)                12416     \n",
            "                                                                 \n",
            " dropout_1 (Dropout)         (None, 32)                0         \n",
            "                                                                 \n",
            " dense_2 (Dense)             (None, 2)                 66        \n",
            "                                                                 \n",
            "=================================================================\n",
            "Total params: 29,890\n",
            "Trainable params: 29,890\n",
            "Non-trainable params: 0\n",
            "_________________________________________________________________\n"
          ]
        }
      ]
    },
    {
      "cell_type": "code",
      "source": [
        "model.save_weights('0degdec14.h5')\n"
      ],
      "metadata": {
        "id": "6RGlgo__89Pu"
      },
      "execution_count": 38,
      "outputs": []
    },
    {
      "cell_type": "code",
      "metadata": {
        "colab": {
          "base_uri": "https://localhost:8080/"
        },
        "id": "C9igKq7u2jvl",
        "outputId": "8823f20e-3794-4d65-e115-06b1306a5dc7"
      },
      "source": [
        "# make predictions\n",
        "train_predict = model.predict(X_train)\n",
        "test_predict = model.predict(X_test)\n",
        "# invert predictions\n",
        "train_predict = scaler.inverse_transform(train_predict)\n",
        "Y_train = scaler.inverse_transform([Y_train])\n",
        "test_predict = scaler.inverse_transform(test_predict)\n",
        "Y_test = scaler.inverse_transform([Y_test])\n",
        "\n",
        "print('Train Mean Absolute Error:', mean_absolute_error(Y_train[0], train_predict[:,0]))\n",
        "print('Train Root Mean Squared Error:',np.sqrt(mean_squared_error(Y_train[0], train_predict[:,0])))\n",
        "print('Test Mean Absolute Error:', mean_absolute_error(Y_test[0], test_predict[:,0]))\n",
        "print('Test Root Mean Squared Error:',np.sqrt(mean_squared_error(Y_test[0], test_predict[:,0])))"
      ],
      "execution_count": 39,
      "outputs": [
        {
          "output_type": "stream",
          "name": "stdout",
          "text": [
            "Train Mean Absolute Error: 0.054622113190280895\n",
            "Train Root Mean Squared Error: 0.05866304181218998\n",
            "Test Mean Absolute Error: 0.06689081524696838\n",
            "Test Root Mean Squared Error: 0.08561145997000448\n"
          ]
        }
      ]
    },
    {
      "cell_type": "code",
      "metadata": {
        "colab": {
          "base_uri": "https://localhost:8080/",
          "height": 295
        },
        "id": "hADXDvCd2qzF",
        "outputId": "423ddaaa-18e2-4234-a936-ad5be2b060d6"
      },
      "source": [
        "plt.figure(figsize=(8,4))\n",
        "plt.plot(history.history['loss'], label='Train Loss')\n",
        "plt.plot(history.history['val_loss'], label='Test Loss')\n",
        "plt.title('model loss')\n",
        "plt.ylabel('loss')\n",
        "plt.xlabel('epochs')\n",
        "plt.legend(loc='upper right')\n",
        "plt.show();"
      ],
      "execution_count": 40,
      "outputs": [
        {
          "output_type": "display_data",
          "data": {
            "image/png": "[encoded data removed]",
            "text/plain": [
              "<Figure size 576x288 with 1 Axes>"
            ]
          },
          "metadata": {
            "needs_background": "light"
          }
        }
      ]
    },
    {
      "cell_type": "code",
      "metadata": {
        "colab": {
          "base_uri": "https://localhost:8080/",
          "height": 240
        },
        "id": "stz_dngk2wpa",
        "outputId": "2a1b67f4-c1fa-4aa4-fbe4-1c017fb01ae2"
      },
      "source": [
        "aa=[x for x in range(20000)]\n",
        "plt.figure(figsize=(20,4))\n",
        "plt.plot(aa, Y_test[0][:20000], marker='.', label=\"actual\")\n",
        "plt.plot(aa, test_predict[:,0][:20000], 'r', label=\"prediction\")\n",
        "plt.tick_params(left=False, labelleft=True) #remove ticks\n",
        "#plt.tight_layout()\n",
        "#sns.despine(top=True)\n",
        "plt.subplots_adjust(left=0.07)\n",
        "plt.ylabel('SOC', size=15)\n",
        "plt.ylim((0,1))\n",
        "plt.xlabel('Time step', size=15)\n",
        "plt.legend(fontsize=15)\n",
        "plt.show();"
      ],
      "execution_count": 41,
      "outputs": [
        {
          "output_type": "display_data",
          "data": {
            "image/png": "[encoded data removed]",
            "text/plain": [
              "<Figure size 1440x288 with 1 Axes>"
            ]
          },
          "metadata": {
            "needs_background": "light"
          }
        }
      ]
    },
    {
      "cell_type": "code",
      "source": [
        "aa=[x for x in range(110000)]\n",
        "plt.figure(figsize=(20,4))\n",
        "plt.plot(aa, Y_train[0][:110000], marker='.', label=\"actual\")\n",
        "plt.plot(aa, train_predict[:,0][:110000], 'r', label=\"prediction\")\n",
        "plt.tick_params(left=False, labelleft=True) #remove ticks\n",
        "#plt.tight_layout()\n",
        "#sns.despine(top=True)\n",
        "plt.subplots_adjust(left=0.07)\n",
        "plt.ylabel('SOC', size=15)\n",
        "plt.ylim((0,1))\n",
        "plt.xlabel('Time step', size=15)\n",
        "plt.legend(fontsize=15)\n",
        "plt.show();"
      ],
      "metadata": {
        "colab": {
          "base_uri": "https://localhost:8080/",
          "height": 240
        },
        "id": "NQzm3UICyFYt",
        "outputId": "5fef3a66-8bac-4c48-88a1-e3568cf0f3d0"
      },
      "execution_count": 42,
      "outputs": [
        {
          "output_type": "display_data",
          "data": {
            "image/png": "[encoded data removed]",
            "text/plain": [
              "<Figure size 1440x288 with 1 Axes>"
            ]
          },
          "metadata": {
            "needs_background": "light"
          }
        }
      ]
    }
  ]
}